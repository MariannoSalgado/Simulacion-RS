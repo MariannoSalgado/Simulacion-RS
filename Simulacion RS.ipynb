{
 "cells": [
  {
   "cell_type": "code",
   "execution_count": 2,
   "id": "5a3b48d6-7fd7-431e-a8a8-dc5b3ff1ae85",
   "metadata": {},
   "outputs": [],
   "source": [
    "\n",
    "#<<<<<<<<<<<<<<<<<<<<#          Simulacion RS        #>>>>>>>>>>>>>>>>>>>># V 1.0\n",
    "\n",
    "\n",
    "import random, numpy as np\n",
    "\n",
    "TamañoDeLaMuestra = 500 # Cantidad de sujetos que quiero en la muestra.\n",
    "QVecesSimulacion = 10 # Cantidad de veces que quiero que se corra la simulacion.\n",
    "ParticipanObligados = 10 # Estos van a ser los primeros sujetos, que opinan si o si.\n",
    "\n",
    "\n",
    "\n"
   ]
  },
  {
   "cell_type": "code",
   "execution_count": 9,
   "id": "9003aaf3-9b27-4b43-991f-980b33e363a8",
   "metadata": {},
   "outputs": [
    {
     "name": "stdout",
     "output_type": "stream",
     "text": [
      "Ingrese el tamaño de la muestra\n"
     ]
    },
    {
     "name": "stdin",
     "output_type": "stream",
     "text": [
      " 20\n"
     ]
    },
    {
     "name": "stdout",
     "output_type": "stream",
     "text": [
      "Ingrese la cantidad de veces que quiere que corra la simulacion\n"
     ]
    },
    {
     "name": "stdin",
     "output_type": "stream",
     "text": [
      " 30\n"
     ]
    },
    {
     "name": "stdout",
     "output_type": "stream",
     "text": [
      "Ingrese la cantidad de participantes que al principio opinan si o si\n"
     ]
    },
    {
     "name": "stdin",
     "output_type": "stream",
     "text": [
      " 30\n"
     ]
    }
   ],
   "source": [
    "\n",
    "#<<<<<<<<<<<<<<<<<<<<#          Simulacion RS        #>>>>>>>>>>>>>>>>>>>># V 1.0\n",
    "\n",
    "\n",
    "import random, numpy as np\n",
    "\n",
    "print ('Ingrese el tamaño de la muestra')\n",
    "TamañoDeLaMuestra = int(input ()) # Cantidad de sujetos que quiero en la muestra.\n",
    "\n",
    "print ('Ingrese la cantidad de veces que quiere que corra la simulacion')\n",
    "QVecesSimulacion = int(input ()) # Cantidad de veces que quiero que se corra la simulacion.\n",
    "\n",
    "print ('Ingrese la cantidad de participantes que al principio opinan si o si')\n",
    "ParticipanObligados = int(input ()) # Estos van a ser los primeros sujetos, que opinan si o si.\n"
   ]
  },
  {
   "cell_type": "code",
   "execution_count": 7,
   "id": "d37dd90f-a821-4e41-afff-0a1ea3750e95",
   "metadata": {},
   "outputs": [],
   "source": [
    "\n",
    "# Defino a las personas, cada una tiene una opinion inicial, una eleccion (respecto a como se ajusta a la opinion del otro) y una opinion luego de estar expuesta a otras.\n",
    "# Hay cosas que no van porque lo traje desde la otra simulacion de practica, luego se acomoda.\n",
    "\n",
    "class Person (object):\n",
    "    def __init__ (self, opinion):\n",
    "        self.Oi = opinion\n",
    "        self.IdeasVistas = [] # Me va a servir para almacenar las ideas a las que haya estado expuesto el sujeto\n",
    "    \n",
    "    def __str__ (self):\n",
    "        try:\n",
    "            devolver = 'despues defino que quiero que me devuelva'\n",
    "            return devolver\n",
    "        except:\n",
    "            devolver = 'despues defino que quiero que me devuelva'\n",
    "            return devolver\n",
    "    \n",
    "    def set_Oi (self, opinion):\n",
    "        self.Oi = opinion\n",
    "    \n",
    "    def append_IdeasVistas (self, IdeaVista):\n",
    "        self.IdeasVistas.append (IdeaVista)\n",
    "            \n",
    "    def get_Oi (self):\n",
    "        return self.Oi\n",
    "    \n",
    "    def get_IdeasVistas (self):\n",
    "        return self.IdeasVistas\n",
    "    \n",
    "    def clean_IdeasVistas (self):\n",
    "        self.IdeasVistas = []\n"
   ]
  },
  {
   "cell_type": "code",
   "execution_count": 4,
   "id": "5b6647b1-7bed-46cb-b733-73fc54e481bc",
   "metadata": {
    "tags": []
   },
   "outputs": [],
   "source": [
    "\n",
    "# Creo la muestra\n",
    "Muestra_Completa = {}\n",
    "for i in range (TamañoDeLaMuestra):\n",
    "    Muestra_Completa [i] = Person (np.random.uniform (-1,1))\n"
   ]
  },
  {
   "cell_type": "code",
   "execution_count": 4,
   "id": "beab7523-1ac9-4096-9da6-70fd9c8a4767",
   "metadata": {},
   "outputs": [],
   "source": [
    "\n",
    "# Corro la simulacion\n",
    "for i in range (QVecesSimulacion): #Cantidad de veces que quiero que se repita la simulacion\n",
    "    Primeros10 = 0\n",
    "    Muestra_Remanente = Muestra_Completa\n",
    "    Muestra_Participa = {}\n",
    "    \n",
    "    while len (Muestra_Remanente) > 0:\n",
    "        Q_Participan = random.randint(0,len(Muestra_Remanente))\n",
    "        Participan_Ahora = random.sample (list(Muestra_Remanente), k = Q_Participan)\n",
    "        for i in Participan_Ahora:\n",
    "            Muestra_Participa [i] = Muestra_Remanente [i]\n",
    "            Muestra_Remanente.pop (i)\n",
    "            if Primeros10 < ParticipanObligados:\n",
    "                Muestra_Participa [i] #hacer que escriba algo\n",
    "                Primeros10 +=1\n",
    "            #else:\n",
    "                # definir la probabilidad que el resto escriba algo\n"
   ]
  },
  {
   "cell_type": "code",
   "execution_count": null,
   "id": "2936af47-096c-4b3a-ab7e-1b2bdee8c9b6",
   "metadata": {},
   "outputs": [],
   "source": []
  },
  {
   "cell_type": "code",
   "execution_count": 125,
   "id": "89fcac1d-6836-431c-8dc6-ee6846b0365d",
   "metadata": {},
   "outputs": [],
   "source": []
  }
 ],
 "metadata": {
  "kernelspec": {
   "display_name": "Python 3",
   "language": "python",
   "name": "python3"
  },
  "language_info": {
   "codemirror_mode": {
    "name": "ipython",
    "version": 3
   },
   "file_extension": ".py",
   "mimetype": "text/x-python",
   "name": "python",
   "nbconvert_exporter": "python",
   "pygments_lexer": "ipython3",
   "version": "3.8.8"
  }
 },
 "nbformat": 4,
 "nbformat_minor": 5
}
