{
 "cells": [
  {
   "cell_type": "code",
   "execution_count": 1,
   "id": "5a3b48d6-7fd7-431e-a8a8-dc5b3ff1ae85",
   "metadata": {},
   "outputs": [],
   "source": [
    "\n",
    "#<<<<<<<<<<<<<<<<<<<<#          Simulacion RS        #>>>>>>>>>>>>>>>>>>>># V 1.0\n",
    "\n",
    "\n",
    "import random, numpy as np, pandas as pd, matplotlib.pyplot as plt\n",
    "from pandas import Series, DataFrame\n",
    "#pd.options.mode.chained_assignment = None \n",
    "\n",
    "\n",
    "TamañoDeLaMuestra = 500 # Cantidad de sujetos que quiero en la muestra.\n",
    "QOpinionesExpuestas = 10 #Cantidad de opiniones que quiero que vea cada agente\n",
    "QVecesMuestroOpinion = 50 # Cantidad de veces maxima que se muestra una opinion"
   ]
  },
  {
   "cell_type": "code",
   "execution_count": 2,
   "id": "d37dd90f-a821-4e41-afff-0a1ea3750e95",
   "metadata": {},
   "outputs": [],
   "source": [
    "\n",
    "# Defino a los agentes.\n",
    "\n",
    "class Person (object):\n",
    "    def __init__ (self, opinion,ID):\n",
    "        self.Oi = opinion\n",
    "        self.ID = ID # Genero un ID para cada agente\n",
    "        self.IdeasVistas = [] # Me va a servir para almacenar las ideas a las que haya estado expuesto el sujeto\n",
    "        self.IdeasVotadas = [] # Almaceno las ideas que voto\n",
    "\n",
    "    \n",
    "    def __str__ (self):\n",
    "        try:\n",
    "            devolver = 'despues defino que quiero que me devuelva'\n",
    "            return devolver\n",
    "        except:\n",
    "            devolver = 'despues defino que quiero que me devuelva'\n",
    "            return devolver\n",
    "    \n",
    "    def set_Oi (self, opinion):\n",
    "        self.Oi = opinion\n",
    "    \n",
    "    def append_IdeasVistas (self, IdeaVista):\n",
    "        self.IdeasVistas.append (IdeaVista)\n",
    "\n",
    "    def append_IdeasVotadas (self, IdeaVotada):\n",
    "        self.IdeasVotadas.append (IdeaVotada)           \n",
    "\n",
    "    def votar (self, ideas): # Asume que se le da un dataframe con las opiniones (distribuidas uniformemente),\n",
    "        Comp = 3             # y devuelve cual es el ID de la idea mas cercana a la del sujeto\n",
    "        vota = 0\n",
    "        for i in ideas.index:\n",
    "            V = abs(ideas.at[i,'Opinion']-self.Oi)\n",
    "            if V == Comp:\n",
    "                vota = random.randint (i, vota)\n",
    "            elif V < Comp:\n",
    "                vota = i\n",
    "                Comp = V\n",
    "        return vota # Me devuelve la id de la idea a votar     \n",
    "    \n",
    "    def comparar (self, idea): # Devuelve la distancia entre la opinion que se le pase y la del sujeto\n",
    "        Distancia = abs(idea-self.Oi)\n",
    "        return Distancia\n",
    "    \n",
    "    def get_Oi (self):\n",
    "        return self.Oi\n",
    "    \n",
    "    def get_IdeasVistas (self):\n",
    "        return self.IdeasVistas\n",
    "\n",
    "    def get_ID (self):\n",
    "        return self.ID\n",
    "    \n",
    "    def clean_IdeasVistas (self):\n",
    "        self.IdeasVistas = []\n",
    "    \n",
    "    \n"
   ]
  },
  {
   "cell_type": "code",
   "execution_count": 3,
   "id": "5b6647b1-7bed-46cb-b733-73fc54e481bc",
   "metadata": {
    "tags": []
   },
   "outputs": [],
   "source": [
    "\n",
    "# Creo la muestra\n",
    "Muestra_Completa = {}\n",
    "for i in range (1,TamañoDeLaMuestra):\n",
    "    Muestra_Completa [i] = Person (np.random.uniform (-1,1),i*111) # Creo una muestra de sujetos con una Opinion distribuida uniformemente, \n",
    "                                                                   # y les asigno una id a los sujetos\n"
   ]
  },
  {
   "cell_type": "code",
   "execution_count": 20,
   "id": "e318bad3-95a7-421e-8f21-b2f4d356d707",
   "metadata": {},
   "outputs": [
    {
     "name": "stdout",
     "output_type": "stream",
     "text": [
      "     Sujeto Opinion Sujeto ID Idea Mostrada Idea Mostrada  \\\n",
      "0      1221       0.470102                0       0.26979   \n",
      "1      1221       0.470102                1     -0.992331   \n",
      "2      1221       0.470102                2     -0.627853   \n",
      "3      1221       0.470102                3       0.52796   \n",
      "4      1221       0.470102                4     -0.766166   \n",
      "...     ...            ...              ...           ...   \n",
      "4885  55389      -0.603942              493     -0.648446   \n",
      "4886  55389      -0.603942              492     -0.776793   \n",
      "4887  55389      -0.603942              491      0.616646   \n",
      "4888  55389      -0.603942              490     -0.696671   \n",
      "4889  55389      -0.603942              474     -0.341816   \n",
      "\n",
      "                            Otras opiniones que vio   Voto Distancia  \n",
      "0                       [1, 2, 3, 4, 5, 6, 7, 8, 9]  False  0.200312  \n",
      "1                       [0, 2, 3, 4, 5, 6, 7, 8, 9]  False  1.462432  \n",
      "2                       [0, 1, 3, 4, 5, 6, 7, 8, 9]  False  1.097955  \n",
      "3                       [0, 1, 2, 4, 5, 6, 7, 8, 9]   True  0.057858  \n",
      "4                       [0, 1, 2, 3, 5, 6, 7, 8, 9]  False  1.236268  \n",
      "...                                             ...    ...       ...  \n",
      "4885  [498, 497, 496, 495, 494, 492, 491, 490, 474]   True  0.044503  \n",
      "4886  [498, 497, 496, 495, 494, 493, 491, 490, 474]  False   0.17285  \n",
      "4887  [498, 497, 496, 495, 494, 493, 492, 490, 474]  False  1.220588  \n",
      "4888  [498, 497, 496, 495, 494, 493, 492, 491, 474]  False  0.092729  \n",
      "4889  [498, 497, 496, 495, 494, 493, 492, 491, 490]  False  0.262126  \n",
      "\n",
      "[4890 rows x 7 columns]\n",
      "        ID   Opinion Votos Vistas\n",
      "208  23088  0.053415     4     10\n",
      "3      444   0.52796     4      9\n",
      "44    4884     0.965     3     10\n",
      "69    7659 -0.045099     3     10\n",
      "470  52170 -0.144009     3     10\n",
      "..     ...       ...   ...    ...\n",
      "130  14430 -0.963199     0     10\n",
      "128  14208 -0.102048     0     10\n",
      "352  39072 -0.251118     0     10\n",
      "354  39294 -0.169033     0     10\n",
      "499  55389 -0.603942     0      0\n",
      "\n",
      "[499 rows x 4 columns]\n"
     ]
    },
    {
     "data": {
      "image/png": "[encoded data removed]",
      "text/plain": [
       "<Figure size 432x288 with 1 Axes>"
      ]
     },
     "metadata": {
      "needs_background": "light"
     },
     "output_type": "display_data"
    },
    {
     "data": {
      "image/png": "[encoded data removed]",
      "text/plain": [
       "<Figure size 432x288 with 1 Axes>"
      ]
     },
     "metadata": {
      "needs_background": "light"
     },
     "output_type": "display_data"
    }
   ],
   "source": [
    "\n",
    "#¤¤¤¤¤¤¤¤¤¤¤¤¤¤¤¤¤¤¤¤¤¤¤¤ Simulacion Basica ¤¤¤¤¤¤¤¤¤¤¤¤¤¤¤¤¤¤¤¤¤¤¤¤#\n",
    "\n",
    "Muestra_Simulacion = Muestra_Completa.copy() # Creo una copia de la muestra original, por si se crean varias simulaciones diferentes\n",
    "DataSave = pd.DataFrame(columns=['ID', 'Opinion', 'Votos', 'Vistas']) \n",
    "MinutoAMinuto = pd.DataFrame(columns=['Sujeto', 'Opinion Sujeto', 'ID Idea Mostrada', 'Idea Mostrada', 'Otras opiniones que vio', 'Voto', 'Distancia'])\n",
    "OpinanNoVotan = 0\n",
    "TiempoSimulacion = 0\n",
    "\n",
    "for i in Muestra_Simulacion:\n",
    "    ParticipanteActual = i\n",
    "    if OpinanNoVotan < QOpinionesExpuestas: # Si hay menos opiniones que las necesarias para mostrar los individuos van a opinar, no votar.\n",
    "        DataSave.at [OpinanNoVotan,'ID'] = Muestra_Simulacion.get(i).get_ID()\n",
    "        DataSave.at [OpinanNoVotan,'Opinion'] = Muestra_Simulacion.get(i).get_Oi()\n",
    "        DataSave.at [OpinanNoVotan,'Votos'] = 0\n",
    "        DataSave.at [OpinanNoVotan,'Vistas'] = 0\n",
    "        OpinanNoVotan +=1\n",
    "    else:\n",
    "        OpinionesFiltradas = DataSave[DataSave.Vistas < QVecesMuestroOpinion] # Filtro las ideas que tengan menos vistas del limite asignado\n",
    "        OpinionesFiltradas.sort_values(by='Vistas', inplace=True) # Ordeno las ideas de menor a mayor acorde a la cantidad de vistas\n",
    "        OpinionesParaVotar = OpinionesFiltradas.iloc[:QOpinionesExpuestas, :2] # Creo un dataframe con las ideas que va a ver el sujeto\n",
    "        Muestra_Simulacion.get(i).append_IdeasVistas (OpinionesParaVotar)\n",
    "        DataSave.at [i,'ID'] = Muestra_Simulacion.get(i).get_ID()\n",
    "        DataSave.at [i,'Opinion'] = Muestra_Simulacion.get(i).get_Oi()\n",
    "        DataSave.at [i,'Votos'] = 0\n",
    "        DataSave.at [i,'Vistas'] = 0\n",
    "        VotoActual = Muestra_Simulacion.get(i).votar(OpinionesParaVotar)\n",
    "        DataSave.at [VotoActual,'Votos'] = DataSave.at [VotoActual,'Votos'] + 1 # Le sumo un voto a la idea.\n",
    "        for i in OpinionesParaVotar.index:\n",
    "            DataSave.at [i,'Vistas'] = DataSave.at [i,'Vistas'] + 1 # Le sumo una vista a la ideas expuestas\n",
    "            \n",
    "            # Armo un dataframe con el minuto a minuto de lo que fue pasando en la simulacion\n",
    "            MinutoAMinuto.at [TiempoSimulacion,'Sujeto'] = Muestra_Simulacion.get(ParticipanteActual).get_ID()\n",
    "            MinutoAMinuto.at [TiempoSimulacion,'Opinion Sujeto'] = Muestra_Simulacion.get(ParticipanteActual).get_Oi()\n",
    "            MinutoAMinuto.at [TiempoSimulacion,'ID Idea Mostrada'] = i\n",
    "            MinutoAMinuto.at [TiempoSimulacion,'Idea Mostrada'] = OpinionesParaVotar.at [i,'Opinion']\n",
    "            CopiaOpiniones = OpinionesParaVotar.index.tolist()\n",
    "            CopiaOpiniones.remove(i)\n",
    "            MinutoAMinuto.at [TiempoSimulacion,'Otras opiniones que vio'] = CopiaOpiniones\n",
    "            if (DataSave.at [VotoActual,'ID']) == (OpinionesParaVotar.at [i,'ID']):\n",
    "                MinutoAMinuto.at [TiempoSimulacion,'Voto'] = True\n",
    "            else:\n",
    "                MinutoAMinuto.at [TiempoSimulacion,'Voto'] = False\n",
    "            MinutoAMinuto.at [TiempoSimulacion,'Distancia'] = Muestra_Simulacion.get(ParticipanteActual).comparar(OpinionesParaVotar.at [i,'Opinion'])\n",
    "            TiempoSimulacion +=1           \n",
    "\n",
    "print (MinutoAMinuto)\n",
    "print (DataSave.sort_values(by=['Votos'], ascending=False))\n",
    "\n",
    "DataSave.plot(kind='scatter',x='Opinion',y='Votos',color='red')\n",
    "DataSave.plot(kind='scatter',x='Opinion',y='Vistas',color='red')\n",
    "#plt.yticks(range(5))\n",
    "plt.show()"
   ]
  },
  {
   "cell_type": "code",
   "execution_count": 26,
   "id": "685428c1-3f2a-4fb8-851f-6ce18226a93a",
   "metadata": {},
   "outputs": [
    {
     "name": "stderr",
     "output_type": "stream",
     "text": [
      "<ipython-input-26-619bb763bc4f>:26: SettingWithCopyWarning: \n",
      "A value is trying to be set on a copy of a slice from a DataFrame\n",
      "\n",
      "See the caveats in the documentation: https://pandas.pydata.org/pandas-docs/stable/user_guide/indexing.html#returning-a-view-versus-a-copy\n",
      "  RestoDeOpiniones.sort_values(by='Ratio', ascending=False, inplace=True)\n",
      "<ipython-input-26-619bb763bc4f>:22: SettingWithCopyWarning: \n",
      "A value is trying to be set on a copy of a slice from a DataFrame\n",
      "\n",
      "See the caveats in the documentation: https://pandas.pydata.org/pandas-docs/stable/user_guide/indexing.html#returning-a-view-versus-a-copy\n",
      "  OpinionesFiltradas.sort_values(by=['Votos'], ascending=False, inplace=True) # Ordeno las ideas de mayor a menor acorde a la cantidad de votos\n"
     ]
    },
    {
     "name": "stdout",
     "output_type": "stream",
     "text": [
      "     Sujeto Opinion Sujeto ID Idea Mostrada Idea Mostrada  \\\n",
      "0      2331       0.899331               13      0.235669   \n",
      "1      2331       0.899331                1     -0.992331   \n",
      "2      2331       0.899331                0       0.26979   \n",
      "3      2331       0.899331               12      0.070194   \n",
      "4      2331       0.899331               11     -0.202662   \n",
      "...     ...            ...              ...           ...   \n",
      "4785  55389      -0.603942              107      0.651322   \n",
      "4786  55389      -0.603942              106      -0.92218   \n",
      "4787  55389      -0.603942               88      0.293766   \n",
      "4788  55389      -0.603942              102       0.95795   \n",
      "4789  55389      -0.603942              100      0.466877   \n",
      "\n",
      "                        Otras opiniones que vio   Voto Distancia  \n",
      "0                [1, 0, 12, 11, 3, 10, 8, 9, 2]  False  0.663662  \n",
      "1               [13, 0, 12, 11, 3, 10, 8, 9, 2]  False  1.891661  \n",
      "2               [13, 1, 12, 11, 3, 10, 8, 9, 2]  False   0.62954  \n",
      "3                [13, 1, 0, 11, 3, 10, 8, 9, 2]  False  0.829136  \n",
      "4                [13, 1, 0, 12, 3, 10, 8, 9, 2]  False  1.101992  \n",
      "...                                         ...    ...       ...  \n",
      "4785   [101, 80, 87, 97, 98, 106, 88, 102, 100]  False  1.255265  \n",
      "4786   [101, 80, 87, 97, 98, 107, 88, 102, 100]  False  0.318238  \n",
      "4787  [101, 80, 87, 97, 98, 107, 106, 102, 100]  False  0.897709  \n",
      "4788   [101, 80, 87, 97, 98, 107, 106, 88, 100]  False  1.561892  \n",
      "4789   [101, 80, 87, 97, 98, 107, 106, 88, 102]  False  1.070819  \n",
      "\n",
      "[4790 rows x 7 columns]\n",
      "        ID   Opinion Votos Vistas Ratio\n",
      "63    6993 -0.489199    14     50  0.28\n",
      "27    2997 -0.728031    11     50  0.22\n",
      "25    2775 -0.975103    10     50   0.2\n",
      "3      444   0.52796     9     50  0.18\n",
      "34    3774 -0.237095     8     50  0.16\n",
      "..     ...       ...   ...    ...   ...\n",
      "229  25419 -0.673985     0      0     0\n",
      "228  25308  0.801098     0      0     0\n",
      "227  25197  0.580168     0      0     0\n",
      "226  25086 -0.796366     0      0     0\n",
      "499  55389 -0.603942     0      0     0\n",
      "\n",
      "[499 rows x 5 columns]\n"
     ]
    },
    {
     "data": {
      "image/png": "[encoded data removed]",
      "text/plain": [
       "<Figure size 432x288 with 1 Axes>"
      ]
     },
     "metadata": {
      "needs_background": "light"
     },
     "output_type": "display_data"
    },
    {
     "data": {
      "image/png": "[encoded data removed]",
      "text/plain": [
       "<Figure size 432x288 with 1 Axes>"
      ]
     },
     "metadata": {
      "needs_background": "light"
     },
     "output_type": "display_data"
    }
   ],
   "source": [
    "\n",
    "#¤¤¤¤¤¤¤¤¤¤¤¤¤¤¤¤¤¤¤¤¤¤¤¤ Simulacion Votos/Vista ¤¤¤¤¤¤¤¤¤¤¤¤¤¤¤¤¤¤¤¤¤¤¤¤#\n",
    "\n",
    "# Esta simulacion supone que se van a mostrar 5 (de las 10) ideas mas votadas, junto con 5 (de las 10) ideas con mayor ratio Votos/Vista\n",
    "\n",
    "Muestra_Simulacion = Muestra_Completa.copy()\n",
    "DataSave = pd.DataFrame(columns=['ID', 'Opinion', 'Votos', 'Vistas','Ratio'])\n",
    "MinutoAMinuto = pd.DataFrame(columns=['Sujeto', 'Opinion Sujeto', 'ID Idea Mostrada', 'Idea Mostrada', 'Otras opiniones que vio', 'Voto', 'Distancia'])\n",
    "OpinanNoVotan = 0\n",
    "TiempoSimulacion = 0\n",
    "\n",
    "for i in Muestra_Simulacion:\n",
    "    ParticipanteActual = i\n",
    "    if OpinanNoVotan < 20: # Si hay menos opiniones que las necesarias para mostrar los individuos van a opinar, no votar.\n",
    "        DataSave.at [OpinanNoVotan,'ID'] = Muestra_Simulacion.get(i).get_ID()\n",
    "        DataSave.at [OpinanNoVotan,'Opinion'] = Muestra_Simulacion.get(i).get_Oi()\n",
    "        DataSave.at [OpinanNoVotan,'Votos'] = 0\n",
    "        DataSave.at [OpinanNoVotan,'Vistas'] = 0\n",
    "        DataSave.at [OpinanNoVotan,'Ratio'] = 0\n",
    "        OpinanNoVotan +=1\n",
    "    else:\n",
    "        OpinionesFiltradas = DataSave[DataSave.Vistas < QVecesMuestroOpinion] # Filtro las ideas que tengan menos vistas del limite asignado\n",
    "        OpinionesFiltradas.sort_values(by=['Votos'], ascending=False, inplace=True) # Ordeno las ideas de mayor a menor acorde a la cantidad de votos\n",
    "        OpinionesMasVotadas = OpinionesFiltradas.iloc[:10, :2] # Creo un DF con las 10 Opiniones mas votadas\n",
    "        OpinionesMasVotadasSeleccionadas = OpinionesMasVotadas.sample (n=5) # Selecciono 5 de las 10 opiniones mas votadas\n",
    "        RestoDeOpiniones = OpinionesFiltradas.iloc[10:, :]\n",
    "        RestoDeOpiniones.sort_values(by='Ratio', ascending=False, inplace=True)\n",
    "        OpinionesConMayorRatio = RestoDeOpiniones.iloc[:10, :2]  # Creo un df con las 10 opiniones con mayor ratio\n",
    "        OpinionesConMayorRatioSeleccionadas = OpinionesConMayorRatio.sample (n=5)  # Selecciono 5 de las 10 opiniones con mayor ratio\n",
    "        OpinionesParaVotar = pd.concat([OpinionesMasVotadasSeleccionadas, OpinionesConMayorRatioSeleccionadas])\n",
    "        Muestra_Simulacion.get(i).append_IdeasVistas (OpinionesParaVotar)\n",
    "        DataSave.at [i,'ID'] = Muestra_Simulacion.get(i).get_ID()\n",
    "        DataSave.at [i,'Opinion'] = Muestra_Simulacion.get(i).get_Oi()\n",
    "        DataSave.at [i,'Votos'] = 0\n",
    "        DataSave.at [i,'Vistas'] = 0\n",
    "        DataSave.at [i,'Ratio'] = 0\n",
    "        VotoActual = Muestra_Simulacion.get(i).votar(OpinionesParaVotar)\n",
    "        DataSave.at [VotoActual,'Votos'] = DataSave.at [VotoActual,'Votos'] + 1 # Le sumo un voto a la idea.\n",
    "        for i in OpinionesParaVotar.index:\n",
    "            DataSave.at [i,'Vistas'] = DataSave.at [i,'Vistas'] + 1 # Le sumo una vista a la ideas expuestas\n",
    "            DataSave.at [i,'Ratio'] = DataSave.at [i,'Votos'] / DataSave.at [i,'Vistas']\n",
    "            \n",
    "            # Armo un dataframe con el minuto a minuto de lo que fue pasando en la simulacion\n",
    "            MinutoAMinuto.at [TiempoSimulacion,'Sujeto'] = Muestra_Simulacion.get(ParticipanteActual).get_ID()\n",
    "            MinutoAMinuto.at [TiempoSimulacion,'Opinion Sujeto'] = Muestra_Simulacion.get(ParticipanteActual).get_Oi()\n",
    "            MinutoAMinuto.at [TiempoSimulacion,'ID Idea Mostrada'] = i\n",
    "            MinutoAMinuto.at [TiempoSimulacion,'Idea Mostrada'] = OpinionesParaVotar.at [i,'Opinion']\n",
    "            CopiaOpiniones = OpinionesParaVotar.index.tolist()\n",
    "            CopiaOpiniones.remove(i)\n",
    "            MinutoAMinuto.at [TiempoSimulacion,'Otras opiniones que vio'] = CopiaOpiniones\n",
    "            if (DataSave.at [VotoActual,'ID']) == (OpinionesParaVotar.at [i,'ID']):\n",
    "                MinutoAMinuto.at [TiempoSimulacion,'Voto'] = True\n",
    "            else:\n",
    "                MinutoAMinuto.at [TiempoSimulacion,'Voto'] = False\n",
    "            MinutoAMinuto.at [TiempoSimulacion,'Distancia'] = Muestra_Simulacion.get(ParticipanteActual).comparar(OpinionesParaVotar.at [i,'Opinion'])\n",
    "            TiempoSimulacion +=1           \n",
    "\n",
    "print (MinutoAMinuto)\n",
    "print (DataSave.sort_values(by=['Votos'], ascending=False))\n",
    "\n",
    "DataSave.plot(kind='scatter',x='Opinion',y='Votos',color='red')\n",
    "DataSave.plot(kind='scatter',x='Opinion',y='Vistas',color='red')\n",
    "#plt.yticks(range(5))\n",
    "plt.show()"
   ]
  },
  {
   "cell_type": "code",
   "execution_count": null,
   "id": "af9c3c63-8958-400c-a64c-d77d942bccbb",
   "metadata": {},
   "outputs": [],
   "source": []
  },
  {
   "cell_type": "code",
   "execution_count": null,
   "id": "2936af47-096c-4b3a-ab7e-1b2bdee8c9b6",
   "metadata": {},
   "outputs": [],
   "source": []
  },
  {
   "cell_type": "code",
   "execution_count": null,
   "id": "24203029-55ac-46c4-a51f-fd5ea23531ff",
   "metadata": {},
   "outputs": [],
   "source": []
  },
  {
   "cell_type": "code",
   "execution_count": null,
   "id": "355d7c48-4064-4513-9f2b-89517bd08dcb",
   "metadata": {},
   "outputs": [],
   "source": []
  },
  {
   "cell_type": "code",
   "execution_count": null,
   "id": "9d0e1ee9-10fc-46dc-85aa-2674e61f90b9",
   "metadata": {},
   "outputs": [],
   "source": []
  },
  {
   "cell_type": "code",
   "execution_count": null,
   "id": "f1b666c0-d064-45a9-b09c-55dcdb41be36",
   "metadata": {},
   "outputs": [],
   "source": []
  },
  {
   "cell_type": "code",
   "execution_count": null,
   "id": "9003aaf3-9b27-4b43-991f-980b33e363a8",
   "metadata": {},
   "outputs": [],
   "source": []
  },
  {
   "cell_type": "code",
   "execution_count": null,
   "id": "beab7523-1ac9-4096-9da6-70fd9c8a4767",
   "metadata": {},
   "outputs": [],
   "source": []
  },
  {
   "cell_type": "code",
   "execution_count": null,
   "id": "82fe5aea-27d9-4385-ad19-5ced30ace1ac",
   "metadata": {},
   "outputs": [],
   "source": []
  },
  {
   "cell_type": "code",
   "execution_count": null,
   "id": "89fcac1d-6836-431c-8dc6-ee6846b0365d",
   "metadata": {},
   "outputs": [],
   "source": []
  }
 ],
 "metadata": {
  "kernelspec": {
   "display_name": "Python 3",
   "language": "python",
   "name": "python3"
  },
  "language_info": {
   "codemirror_mode": {
    "name": "ipython",
    "version": 3
   },
   "file_extension": ".py",
   "mimetype": "text/x-python",
   "name": "python",
   "nbconvert_exporter": "python",
   "pygments_lexer": "ipython3",
   "version": "3.8.8"
  }
 },
 "nbformat": 4,
 "nbformat_minor": 5
}
