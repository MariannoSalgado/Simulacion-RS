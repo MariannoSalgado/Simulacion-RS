{
 "cells": [
  {
   "cell_type": "code",
   "execution_count": 11,
   "id": "5a3b48d6-7fd7-431e-a8a8-dc5b3ff1ae85",
   "metadata": {},
   "outputs": [],
   "source": [
    "\n",
    "#<<<<<<<<<<<<<<<<<<<<#          Simulacion RS        #>>>>>>>>>>>>>>>>>>>># V 1.0\n",
    "\n",
    "\n",
    "import random, numpy as np, pandas as pd, matplotlib.pyplot as plt\n",
    "from pandas import Series, DataFrame\n",
    "#pd.options.mode.chained_assignment = None \n",
    "\n",
    "\n",
    "TamañoDeLaMuestra = 10000 # Cantidad de sujetos que quiero en la muestra.\n",
    "QOpinionesExpuestas = 20 #Cantidad de opiniones que quiero que vea cada agente\n",
    "QVecesMuestroOpinion = 20 # Cantidad de veces maxima que se muestra una opinion"
   ]
  },
  {
   "cell_type": "code",
   "execution_count": 2,
   "id": "d37dd90f-a821-4e41-afff-0a1ea3750e95",
   "metadata": {},
   "outputs": [],
   "source": [
    "\n",
    "# Defino a los agentes.\n",
    "\n",
    "class Person (object):\n",
    "    def __init__ (self, opinion,ID):\n",
    "        self.Oi = opinion\n",
    "        self.ID = ID # Genero un ID para cada agente\n",
    "        self.IdeasVistas = [] # Me va a servir para almacenar las ideas a las que haya estado expuesto el sujeto\n",
    "        self.IdeasVotadas = [] # Almaceno las ideas que voto\n",
    "\n",
    "    \n",
    "    def __str__ (self):\n",
    "        try:\n",
    "            devolver = 'despues defino que quiero que me devuelva'\n",
    "            return devolver\n",
    "        except:\n",
    "            devolver = 'despues defino que quiero que me devuelva'\n",
    "            return devolver\n",
    "    \n",
    "    def set_Oi (self, opinion):\n",
    "        self.Oi = opinion\n",
    "    \n",
    "    def append_IdeasVistas (self, IdeaVista):\n",
    "        self.IdeasVistas.append (IdeaVista)\n",
    "\n",
    "    def append_IdeasVotadas (self, IdeaVotada):\n",
    "        self.IdeasVotadas.append (IdeaVotada)           \n",
    "\n",
    "    def votar (self, ideas):\n",
    "        Comp = 3\n",
    "        vota = 0\n",
    "        for i in ideas.index:\n",
    "            V = abs((ideas.at[i,'Opinion']-self.Oi)/self.Oi)\n",
    "            if V == Comp:\n",
    "                vota = random.randint (i, vota)\n",
    "            elif V < Comp:\n",
    "                vota = i\n",
    "                Comp = V\n",
    "        return vota # Me devuelve la id de la idea a votar     \n",
    "    \n",
    "    \n",
    "    def get_Oi (self):\n",
    "        return self.Oi\n",
    "    \n",
    "    def get_IdeasVistas (self):\n",
    "        return self.IdeasVistas\n",
    "\n",
    "    def get_ID (self):\n",
    "        return self.ID\n",
    "    \n",
    "    def clean_IdeasVistas (self):\n",
    "        self.IdeasVistas = []\n",
    "    \n",
    "    \n"
   ]
  },
  {
   "cell_type": "code",
   "execution_count": 5,
   "id": "5b6647b1-7bed-46cb-b733-73fc54e481bc",
   "metadata": {
    "tags": []
   },
   "outputs": [],
   "source": [
    "\n",
    "# Creo la muestra\n",
    "Muestra_Completa = {}\n",
    "for i in range (1,TamañoDeLaMuestra):\n",
    "    Muestra_Completa [i] = Person (np.random.uniform (-1,1),i*111)\n"
   ]
  },
  {
   "cell_type": "code",
   "execution_count": 13,
   "id": "e318bad3-95a7-421e-8f21-b2f4d356d707",
   "metadata": {},
   "outputs": [
    {
     "name": "stderr",
     "output_type": "stream",
     "text": [
      "<ipython-input-13-76aa2c53f0a7>:17: SettingWithCopyWarning: \n",
      "A value is trying to be set on a copy of a slice from a DataFrame\n",
      "\n",
      "See the caveats in the documentation: https://pandas.pydata.org/pandas-docs/stable/user_guide/indexing.html#returning-a-view-versus-a-copy\n",
      "  OpinionesFiltradas.sort_values(by=['Vistas'], inplace=True)\n"
     ]
    },
    {
     "name": "stdout",
     "output_type": "stream",
     "text": [
      "           ID   Opinion Votos Vistas\n",
      "0         111 -0.982445   164     19\n",
      "4104   455544  0.738044     5     20\n",
      "1373   152403 -0.585687     5     20\n",
      "4357   483627 -0.313616     4     20\n",
      "7323   812853 -0.286453     4     20\n",
      "...       ...       ...   ...    ...\n",
      "5907   655677 -0.499544     0     20\n",
      "5910   656010 -0.580674     0     20\n",
      "5911   656121   0.92798     0     20\n",
      "5916   656676 -0.088301     0     20\n",
      "9999  1109889 -0.127724     0      0\n",
      "\n",
      "[9999 rows x 4 columns]\n"
     ]
    },
    {
     "data": {
      "image/png": "[encoded data removed]",
      "text/plain": [
       "<Figure size 432x288 with 1 Axes>"
      ]
     },
     "metadata": {
      "needs_background": "light"
     },
     "output_type": "display_data"
    }
   ],
   "source": [
    "\n",
    "#¤¤¤¤¤¤¤¤¤¤¤¤¤¤¤¤¤¤¤¤¤¤¤¤ Simulacion Basica ¤¤¤¤¤¤¤¤¤¤¤¤¤¤¤¤¤¤¤¤¤¤¤¤#\n",
    "\n",
    "Muestra_Simulacion = Muestra_Completa.copy()\n",
    "DataSave = pd.DataFrame(columns=['ID', 'Opinion', 'Votos', 'Vistas'])\n",
    "IdeasYaMostradas = pd.DataFrame(columns=['ID', 'Opinion', 'Votos', 'Vistas'])\n",
    "OpinanNoVotan = 0\n",
    "\n",
    "for i in Muestra_Simulacion:\n",
    "    if OpinanNoVotan < QOpinionesExpuestas:\n",
    "        DataSave.at [OpinanNoVotan,'ID'] = Muestra_Simulacion.get(i).get_ID()\n",
    "        DataSave.at [OpinanNoVotan,'Opinion'] = Muestra_Simulacion.get(i).get_Oi()\n",
    "        DataSave.at [OpinanNoVotan,'Votos'] = 0\n",
    "        DataSave.at [OpinanNoVotan,'Vistas'] = 0\n",
    "        OpinanNoVotan +=1\n",
    "    else:\n",
    "        OpinionesFiltradas = DataSave[DataSave.Vistas < QVecesMuestroOpinion]\n",
    "        OpinionesFiltradas.sort_values(by=['Vistas'], inplace=True)\n",
    "        OpinionesParaVotar = OpinionesFiltradas.iloc[:QOpinionesExpuestas, :2]\n",
    "        Muestra_Simulacion.get(i).append_IdeasVistas (OpinionesParaVotar)\n",
    "        DataSave.at [i,'ID'] = Muestra_Simulacion.get(i).get_ID()\n",
    "        DataSave.at [i,'Opinion'] = Muestra_Simulacion.get(i).get_Oi()\n",
    "        DataSave.at [i,'Votos'] = 0\n",
    "        DataSave.at [i,'Vistas'] = 0\n",
    "        VotoActual = Muestra_Simulacion.get(i).votar(OpinionesParaVotar)\n",
    "        DataSave.at [VotoActual,'Votos'] = DataSave.at [VotoActual,'Votos'] + 1\n",
    "        for i in OpinionesParaVotar.index:\n",
    "             DataSave.at [i,'Vistas'] = DataSave.at [i,'Vistas'] + 1\n",
    "\n",
    "print (DataSave.sort_values(by=['Votos'], ascending=False))\n",
    "\n",
    "Grafico = DataSave[DataSave.Votos < 10]\n",
    "\n",
    "Grafico.plot(kind='scatter',x='Opinion',y='Votos',color='red')\n",
    "#plt.yticks(range(5))\n",
    "plt.show()"
   ]
  },
  {
   "cell_type": "code",
   "execution_count": null,
   "id": "af9c3c63-8958-400c-a64c-d77d942bccbb",
   "metadata": {},
   "outputs": [],
   "source": []
  },
  {
   "cell_type": "code",
   "execution_count": null,
   "id": "2936af47-096c-4b3a-ab7e-1b2bdee8c9b6",
   "metadata": {},
   "outputs": [],
   "source": []
  },
  {
   "cell_type": "code",
   "execution_count": null,
   "id": "24203029-55ac-46c4-a51f-fd5ea23531ff",
   "metadata": {},
   "outputs": [],
   "source": []
  },
  {
   "cell_type": "code",
   "execution_count": null,
   "id": "355d7c48-4064-4513-9f2b-89517bd08dcb",
   "metadata": {},
   "outputs": [],
   "source": []
  },
  {
   "cell_type": "code",
   "execution_count": null,
   "id": "9d0e1ee9-10fc-46dc-85aa-2674e61f90b9",
   "metadata": {},
   "outputs": [],
   "source": []
  },
  {
   "cell_type": "code",
   "execution_count": null,
   "id": "f1b666c0-d064-45a9-b09c-55dcdb41be36",
   "metadata": {},
   "outputs": [],
   "source": []
  },
  {
   "cell_type": "code",
   "execution_count": null,
   "id": "9003aaf3-9b27-4b43-991f-980b33e363a8",
   "metadata": {},
   "outputs": [],
   "source": []
  },
  {
   "cell_type": "code",
   "execution_count": null,
   "id": "beab7523-1ac9-4096-9da6-70fd9c8a4767",
   "metadata": {},
   "outputs": [],
   "source": []
  },
  {
   "cell_type": "code",
   "execution_count": null,
   "id": "82fe5aea-27d9-4385-ad19-5ced30ace1ac",
   "metadata": {},
   "outputs": [],
   "source": []
  },
  {
   "cell_type": "code",
   "execution_count": null,
   "id": "89fcac1d-6836-431c-8dc6-ee6846b0365d",
   "metadata": {},
   "outputs": [],
   "source": []
  }
 ],
 "metadata": {
  "kernelspec": {
   "display_name": "Python 3",
   "language": "python",
   "name": "python3"
  },
  "language_info": {
   "codemirror_mode": {
    "name": "ipython",
    "version": 3
   },
   "file_extension": ".py",
   "mimetype": "text/x-python",
   "name": "python",
   "nbconvert_exporter": "python",
   "pygments_lexer": "ipython3",
   "version": "3.8.8"
  }
 },
 "nbformat": 4,
 "nbformat_minor": 5
}
