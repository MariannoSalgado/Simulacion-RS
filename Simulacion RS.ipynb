{
 "cells": [
  {
   "cell_type": "code",
   "execution_count": 131,
   "id": "d37dd90f-a821-4e41-afff-0a1ea3750e95",
   "metadata": {},
   "outputs": [],
   "source": [
    "\n",
    "#<<<<<<<<<<<<<<<<<<<<#          Simulacion RS        #>>>>>>>>>>>>>>>>>>>># V 1.0\n",
    "\n",
    "\n",
    "import random, numpy as np\n",
    "\n",
    "\n",
    "# Defino a las personas, cada una tiene una opinion inicial, una eleccion (respecto a como se ajusta a la opinion del otro) y una opinion luego de estar expuesta a otras.\n",
    "# Hay cosas que no van porque lo traje desde la otra simulacion de practica, luego se acomoda.\n",
    "\n",
    "class Person (object):\n",
    "    def __init__ (self, opinion):\n",
    "        self.Oi = opinion\n",
    "        self.Choice = 1\n",
    "    \n",
    "    def __str__ (self):\n",
    "        try:\n",
    "            devolver = 'abcd'\n",
    "            return devolver\n",
    "        except:\n",
    "            devolver = 'abcd'\n",
    "            return devolver\n",
    "    \n",
    "    def set_Oi (self, opinion):\n",
    "        self.Oi = opinion\n",
    "    \n",
    "    def set_Choice (self, choice):\n",
    "        self.Choice = choice\n",
    "    \n",
    "    def set_Ri (self, r):\n",
    "        self.Ri = r\n",
    "        \n",
    "    def RevOp (self, opinion):\n",
    "        #ESTO SE CAMBIA DESPUES\n",
    "        if self.Choice < 1 or self.Choice > 3:\n",
    "            raise Error\n",
    "        elif self.Choice == 2:\n",
    "            self.set_Ri(int(self.Oi + opinion/2))\n",
    "        elif self.Choice == 3:\n",
    "            self.set_Ri(opinion)\n",
    "            #self.Ri = self.Oj\n",
    "        elif self.Choice == 1:\n",
    "            self.set_Ri(self.Oi)\n",
    "            \n",
    "    def get_Oi (self):\n",
    "        return self.Oi\n",
    "    \n",
    "    def get_Ri (self):\n",
    "        return self.Ri\n",
    "    \n",
    "    def get_Choice (self):\n",
    "        return self.Choice\n"
   ]
  },
  {
   "cell_type": "code",
   "execution_count": 132,
   "id": "5b6647b1-7bed-46cb-b733-73fc54e481bc",
   "metadata": {
    "tags": []
   },
   "outputs": [],
   "source": [
    "\n",
    "# Creo la muestra\n",
    "Muestra_Completa = {}\n",
    "for i in range (500):\n",
    "    Muestra_Completa [i] = Person (random.randint (1,250))\n"
   ]
  },
  {
   "cell_type": "code",
   "execution_count": 133,
   "id": "beab7523-1ac9-4096-9da6-70fd9c8a4767",
   "metadata": {},
   "outputs": [],
   "source": [
    "\n",
    "# Corro la simulacion\n",
    "for i in range (10): #Cantidad de veces que quiero que se repita la simulacion\n",
    "    Primeros10 = 0\n",
    "    Muestra_Remanente = Muestra_Completa\n",
    "    Muestra_Participa = {}\n",
    "    \n",
    "    while len (Muestra_Remanente) > 1:\n",
    "        Q_Participan = random.randint(0,len(Muestra_Remanente))\n",
    "        Participan_Ahora = random.sample (list(Muestra_Remanente), k = Q_Participan)\n",
    "        for i in Participan_Ahora:\n",
    "            Muestra_Participa [i] = Muestra_Remanente [i]\n",
    "            Muestra_Remanente.pop (i)\n",
    "            if Primeros10 < 10:\n",
    "                Muestra_Participa [i] #hacer que escriba algo\n",
    "                Primeros10 +=1\n",
    "            #else:\n",
    "                # definir la probabilidad que el resto escriba algo\n",
    "                #  numpy.random.uniform\n"
   ]
  },
  {
   "cell_type": "code",
   "execution_count": null,
   "id": "2936af47-096c-4b3a-ab7e-1b2bdee8c9b6",
   "metadata": {},
   "outputs": [],
   "source": []
  },
  {
   "cell_type": "code",
   "execution_count": 125,
   "id": "89fcac1d-6836-431c-8dc6-ee6846b0365d",
   "metadata": {},
   "outputs": [],
   "source": []
  }
 ],
 "metadata": {
  "kernelspec": {
   "display_name": "Python 3",
   "language": "python",
   "name": "python3"
  },
  "language_info": {
   "codemirror_mode": {
    "name": "ipython",
    "version": 3
   },
   "file_extension": ".py",
   "mimetype": "text/x-python",
   "name": "python",
   "nbconvert_exporter": "python",
   "pygments_lexer": "ipython3",
   "version": "3.8.8"
  }
 },
 "nbformat": 4,
 "nbformat_minor": 5
}
