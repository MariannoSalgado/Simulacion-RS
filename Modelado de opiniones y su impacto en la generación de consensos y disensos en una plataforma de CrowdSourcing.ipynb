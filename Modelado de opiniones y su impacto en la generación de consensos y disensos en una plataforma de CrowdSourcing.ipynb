{
 "cells": [
  {
   "cell_type": "markdown",
   "id": "c796cf14-1352-47b7-89b0-bc9fd4572ea1",
   "metadata": {},
   "source": [
    "## Modelado de opiniones y su impacto en la generación de consensos y disensos en una plataforma de CrowdSourcing"
   ]
  },
  {
   "cell_type": "markdown",
   "id": "49ca21da-3f62-40ee-b6fa-ccc27c8c3de0",
   "metadata": {},
   "source": [
    "El objetivo de la simulación es dilucidar el funcionamiento de las dinámicas de opinión en una plataforma de CrowdSourcing donde las personas expresan sus opiniones y votan las expresadas por otros bajo una serie de condiciones especificadas por el contexto de la plataforma."
   ]
  },
  {
   "cell_type": "code",
   "execution_count": 1,
   "id": "32e4d958-bbc7-4849-ad05-70073319f77e",
   "metadata": {},
   "outputs": [],
   "source": [
    "import random, numpy as np, pandas as pd, matplotlib.pyplot as plt, math, scipy, seaborn as sns, warnings, matplotlib\n",
    "from scipy.stats import multivariate_normal\n",
    "from scipy.spatial import distance\n",
    "from pandas import Series, DataFrame\n",
    "from uuid import uuid4\n",
    "# pd.options.mode.chained_assignment = None\n",
    "# warnings.filterwarnings(\"ignore\", category=np.VisibleDeprecationWarning) \n",
    "\n",
    "TamañoDeLaMuestra = [100, 200, 500, 1000] # Cantidad de agentes que quiero en la muestra."
   ]
  },
  {
   "cell_type": "markdown",
   "id": "7b2014e1-e216-4112-af66-cb4632ab838b",
   "metadata": {},
   "source": [
    "# Agentes"
   ]
  },
  {
   "cell_type": "markdown",
   "id": "2dbe1bf3",
   "metadata": {},
   "source": [
    "## Agente"
   ]
  },
  {
   "cell_type": "markdown",
   "id": "dc228dc7",
   "metadata": {},
   "source": [
    "Agente es una clase que cuenta con los siguientes atributos:\n",
    "\n",
    "* **Oi** = Contiene la opinion de cada agente. Va a ser siempre numerico pero dependiendo la simulacion puede ser un solo numero (real) o un vector de varios numeros (reales), independientemente de como se generan que siempre lo hacen a partir de la realizacion de algun tipo de distribucion conocida en un espacio univariado o multivariado.  \n",
    "* **ID** = Es un numero entero de identificacion unico para cada sujeto.\n",
    "* **IdeasVistas** = Es una lista que contiene los IDs de las ideas que va a ver este agente.  \n",
    "* **IdeasVotadas** = Es una lista que contiene los IDs de las ideas que va a ver este agente.\n",
    "* **Valencias** = Es una lista que contiene el valor que toma el voto de este agente.\n",
    "* **Tipo** = Es el tipo de distribucion que se utilizo para asignarle la opinion.\n",
    "* **Media** = Es la media de la distribucion.\n",
    "* **DE** = Es el desvio estandar de la distribucion."
   ]
  },
  {
   "cell_type": "code",
   "execution_count": 2,
   "id": "dcf68fa2-a3ec-4ec8-b3ed-69314698cc81",
   "metadata": {},
   "outputs": [],
   "source": [
    "class Agente (object):\n",
    "    def __init__ (self, tipo, media, ID, de = 0.5, dimensiones = 3):\n",
    "        self.Oi = self.set_Oi (tipo, media, de, dimensiones)\n",
    "        self.ID = ID\n",
    "        self.IdeasVistas = []\n",
    "        self.IdeasVotadas = []\n",
    "        self.Valencias = []\n",
    "        self.Tipo = tipo\n",
    "        self.Media = media\n",
    "        self.DE = de\n",
    "\n",
    "    def set_Oi (self, tipo, media, de, dimensiones):\n",
    "        # Asume que se le da el tipo de distribucion ['uniforme', 'univariada', 'multivariada'], \n",
    "        # la media (que debe ser una lista con un numero entero), el desvio estandar (normalmente fijo en 0.50), \n",
    "        # y la cantidad de dimensiones para el caso de la multivariada (normalmente fijado en 3).\n",
    "        # En base a eso devuelve una lista con la/s opinion/es del agente.\n",
    "        \n",
    "        if tipo not in ['uniforme', 'univariada', 'multivariada']:\n",
    "            raise Exception(\"El tipo de opinion solo puede ser \"\"uniforme\"\", \"\"univariada\"\" o \"\"multivariada\")\n",
    "        \n",
    "        elif isinstance(media, list) == False:\n",
    "            raise Exception(\"El argumento media solo acepta listas\")\n",
    "        \n",
    "        opinion = []\n",
    "        mediasu = []\n",
    "        \n",
    "        if tipo == \"uniforme\":\n",
    "            if len(media) != 2:\n",
    "                raise Exception(\"La media del tipo uniforme debe contener un start y un end\")\n",
    "            opinion.append (random.uniform (media[0],media[1]))\n",
    "            mediasu += media \n",
    "            \n",
    "        if tipo == \"univariada\":\n",
    "            if len(media) != 1:\n",
    "                raise Exception(\"La media de la univariada no puede contener mas de un numero\")\n",
    "            opinion = np.random.normal (media,de)\n",
    "            mediasu = media\n",
    "                    \n",
    "        if tipo == \"multivariada\":\n",
    "            if len(media) == 1:\n",
    "                for i in range (dimensiones):\n",
    "                     mediasu += media\n",
    "                a = multivariate_normal.rvs(mediasu, de)\n",
    "                opinion = a.tolist()\n",
    "                    \n",
    "            else:\n",
    "                a = multivariate_normal.rvs(media, de)\n",
    "                opinion = a.tolist()\n",
    "                mediasu = media\n",
    "   \n",
    "        return opinion\n",
    "\n",
    "    def append_IdeasVistas (self, IdeaVista):\n",
    "        self.IdeasVistas.append (IdeaVista)\n",
    "\n",
    "    def append_IdeasVotadas (self, IdeaVotada):\n",
    "        self.IdeasVotadas.append (IdeaVotada)   \n",
    "\n",
    "    def append_Valencias (self, Valencias):\n",
    "        self.Valencias.append (Valencias) \n",
    "\n",
    "    def ListaVotos (self, VotosPos, VotosNeg):\n",
    "        # Asume que se le da dos numeros enteros, correspondientes a los votos positivos y negativos\n",
    "        # que se le piden al agente y en base a eso devuelve una lista en la cual los 1 representan \n",
    "        # los votos positivos y los -1 los negativos.\n",
    "        \n",
    "        votos = VotosPos * [1] + VotosNeg * [-1]\n",
    "        return votos\n",
    "\n",
    "    def comparar (self, idea): \n",
    "        # Asume que se le da una lista con la/s opinion/es de otro agente (Oj) y la compara con la del agente (Oi).\n",
    "        # Devuelve la distancia entre ellas.\n",
    "        \n",
    "        if len(idea) > 1:\n",
    "            Distancia = distance.euclidean(self.Oi,idea)\n",
    "        else:\n",
    "            Distancia = abs(self.Oi[0]-idea[0])\n",
    "        return Distancia\n",
    "    \n",
    "    def get_Oi (self):\n",
    "        return self.Oi\n",
    "    \n",
    "    def get_IdeasVistas (self):\n",
    "        return self.IdeasVistas\n",
    "\n",
    "    def get_ID (self):\n",
    "        return self.ID\n",
    "\n",
    "    def get_Tipo (self):\n",
    "        return self.Tipo\n",
    "    \n",
    "    def get_Media (self):\n",
    "        return self.Media\n",
    "    \n",
    "    def get_DE (self):\n",
    "        return self.DE\n",
    "\n",
    "    def clean_IdeasVistas (self):\n",
    "        self.IdeasVistas = []"
   ]
  },
  {
   "cell_type": "markdown",
   "id": "1d3bdf4d",
   "metadata": {},
   "source": [
    "### Agente Nulo"
   ]
  },
  {
   "cell_type": "code",
   "execution_count": 3,
   "id": "21281b55-f6bb-4b25-9195-13b177260010",
   "metadata": {},
   "outputs": [],
   "source": [
    "class AgenteNulo (Agente):\n",
    "    # El agente nulo se caracteriza por la votacion aleatoria.\n",
    "    \n",
    "    def votar (self, ideas): \n",
    "        # Asume que se le da un dataframe con las opiniones de otros agentes (distribuidas uniformemente) \n",
    "        # y vota aleatoriamente. Devuelve un dataframe con el tipo de voto asignado a cada index (que \n",
    "        # representa el orden en el que los agentes ingresaron a la plataforma)\n",
    "        \n",
    "        self.IdeasVistas.append (ideas)\n",
    "        Votara = ideas.sample (n = QIdeasAVotar)\n",
    "        votos = self.ListaVotos(VotosPos, VotosNeg)\n",
    "        vota = []\n",
    "        for i in Votara.index:\n",
    "            vota.append (i)\n",
    "        self.IdeasVotadas.append (vota)\n",
    "        self.Valencias.append (votos)\n",
    "        devuelve = pd.DataFrame(votos, vota)\n",
    "        return devuelve"
   ]
  },
  {
   "cell_type": "markdown",
   "id": "4c7281f8",
   "metadata": {},
   "source": [
    "## Agente Determinista"
   ]
  },
  {
   "cell_type": "code",
   "execution_count": 4,
   "id": "1530904b",
   "metadata": {},
   "outputs": [],
   "source": [
    "class AgenteDeterminista (Agente):\n",
    "    # El agente Determinista se caracteriza por la votacion determinada por la distancia.\n",
    "    # Es decir votara la/s idea/s mas cercanas positivamente, y la/s mas lejanas negativamente.\n",
    "\n",
    "    def algvotar (self, ideas, tipo): \n",
    "        # Asume que se le da un dataframe con las opiniones de otros agentes (distribuidas uniformemente) \n",
    "        # y devuelve segun se le pida, el indice de la idea mas cercana o lejana.\n",
    "        \n",
    "        Comp = 1000\n",
    "        CompNeg = -1000\n",
    "        vota = 0\n",
    "        for i in ideas.index:\n",
    "            V = self.comparar (ideas.at[i,'Opinion'])\n",
    "            if V == Comp or V == CompNeg:\n",
    "                vota = random.choice (i, vota)\n",
    "            elif tipo == \"Positivo\":\n",
    "                if V < Comp:\n",
    "                    vota = i\n",
    "                    Comp = V\n",
    "            elif tipo == \"Negativo\":\n",
    "                if V > CompNeg:\n",
    "                    vota = i\n",
    "                    Comp = V                \n",
    "        return vota # Me devuelve la id de la idea a votar\n",
    "        \n",
    "    def votar (self, ideas):\n",
    "        # Asume que se le da un dataframe con las opiniones de otros agentes (distribuidas uniformemente) \n",
    "        # y vota utilizando el algoritmo de algvotar. Devuelve un dataframe con el tipo de voto asignado a cada \n",
    "        # index (que representa el orden en el que los agentes ingresaron a la plataforma).\n",
    "        \n",
    "        self.IdeasVistas.append (ideas)\n",
    "        ideas2 = ideas.copy ()\n",
    "        vota = []\n",
    "        votos = self.ListaVotos(VotosPos, VotosNeg)\n",
    "        for i in votos:\n",
    "            if i == 1:\n",
    "                va = int (self.algvotar (ideas2, \"Positivo\"))\n",
    "                ideas2.drop (va, inplace=True)\n",
    "                vota.append (va)\n",
    "            if i == -1:\n",
    "                va = int(self.algvotar (ideas2, \"Negativo\"))\n",
    "                ideas2.drop (va, inplace=True)\n",
    "                vota.append (va)\n",
    "        self.IdeasVotadas.append (vota)\n",
    "        self.Valencias.append (votos)\n",
    "        devuelve = pd.DataFrame(votos, vota)\n",
    "        return devuelve"
   ]
  },
  {
   "cell_type": "markdown",
   "id": "dc4e7859",
   "metadata": {},
   "source": [
    "## Agente Probabilistico"
   ]
  },
  {
   "cell_type": "code",
   "execution_count": 5,
   "id": "8c1b367a",
   "metadata": {},
   "outputs": [],
   "source": [
    "class AgenteProbabilistico (AgenteDeterminista):\n",
    "    # El agente Probabilistico se caracteriza por la votacion dada por la probabilidad de elegir la idea\n",
    "    # inversamente proporcional a la distancia para el caso positivo, o proporcional a la distancia\n",
    "    # para el caso negativo.\n",
    "    \n",
    "    def algvotar (self, ideas, tipo):\n",
    "        # Asume que se le da un dataframe con las opiniones de otros agentes (distribuidas uniformemente)\n",
    "        # calcula las distancias y vota acorde a la probabilidad. Devuelve la ID de la idea que haya sido seleccionada.\n",
    "        \n",
    "        Wm = ideas.copy()\n",
    "        for i in Wm.index:\n",
    "            Wm.at [i,'Distancia'] = self.comparar (Wm.at[i,'Opinion'])\n",
    "        if tipo == \"Positivo\":\n",
    "            for i in Wm.index:\n",
    "                Wm.at [i,'Distancia'] = abs(1 - Wm.at [i,'Distancia'])\n",
    "            SumaDistancias = Wm[\"Distancia\"].sum()\n",
    "            for i in Wm.index:\n",
    "                Wm.at [i,'Probabilidad'] = abs(Wm.at [i,'Distancia']) / SumaDistancias\n",
    "            vota = np.random.choice(Wm.index.values.tolist(), 1, p=  Wm[\"Probabilidad\"].values.tolist())\n",
    "            \n",
    "        if tipo == \"Negativo\":\n",
    "            SumaDistancias = Wm[\"Distancia\"].sum()\n",
    "            for i in Wm.index:\n",
    "                Wm.at [i,'Probabilidad'] = Wm.at [i,'Distancia'] / SumaDistancias\n",
    "            vota = np.random.choice(Wm.index.values.tolist(), 1, p=  Wm[\"Probabilidad\"].values.tolist())\n",
    "            \n",
    "        return vota # Me devuelve la id de la idea a votar\n",
    "\n",
    "    def votar (self, ideas):\n",
    "        # Asume que se le da un dataframe con las opiniones de otros agentes (distribuidas uniformemente) \n",
    "        # y vota probabilisticamente, con una probabilidad inversamente proporcional a la distancia para \n",
    "        # el caso positivo, o proporcional a la distancia para el caso negativo (lo cual estara \n",
    "        # determinado por la funcion algvotar). Devuelve un dataframe con el tipo de voto asignado a cada \n",
    "        # index (que representa el orden en el que los agentes ingresaron a la plataforma).\n",
    "        \n",
    "        self.IdeasVistas.append (ideas)\n",
    "        ideas2 = ideas.copy ()\n",
    "        vota = []\n",
    "        votos = self.ListaVotos(VotosPos, VotosNeg)\n",
    "        for i in votos:\n",
    "            if i == 1:\n",
    "                va = int (self.algvotar (ideas2, \"Positivo\"))\n",
    "                ideas2.drop (va, inplace=True)\n",
    "                vota.append (va)\n",
    "            if i == -1:\n",
    "                va = int(self.algvotar (ideas2, \"Negativo\"))\n",
    "                ideas2.drop (va, inplace=True)\n",
    "                vota.append (va)\n",
    "        self.IdeasVotadas.append (vota)\n",
    "        self.Valencias.append (votos)\n",
    "        devuelve = pd.DataFrame(votos, vota)\n",
    "        return devuelve"
   ]
  },
  {
   "cell_type": "markdown",
   "id": "77883e8b-9284-4078-b968-ca00d254467f",
   "metadata": {},
   "source": [
    "### Metodos se seleccion de ideas"
   ]
  },
  {
   "cell_type": "markdown",
   "id": "7a16a429",
   "metadata": {},
   "source": [
    "Esta funcion define la manera en que se va a controlar las ideas que le van a ser presentadas a un agente. Existen dos metodos con que se pueden seleccionar las ideas dependiendo del argumento `tipo` pasado a la funcion.\n",
    "\n",
    "* Metodo uno (`tipo = 'menos vistas'`): Comprende elegir aquellas ideas que tengan menor cantidad de vistas\n",
    "* Metodo dos (`tipo = 'ratio'`): Comprende elegir en partes iguales, la mitad de las ideas segun la cantidad de vistas igual que con el metodo uno y la otra mitad de las ideas segun el ratio de votos positivos y cantidad de vistas.   "
   ]
  },
  {
   "cell_type": "code",
   "execution_count": 6,
   "id": "13bcbc3f-9445-4628-8870-ec0bc4dde962",
   "metadata": {},
   "outputs": [],
   "source": [
    "def metodo_de_seleccion (lista, tipo):\n",
    "    \n",
    "    if tipo == \"menosvistas\":\n",
    "        lista.sort_values(by='Vistas', inplace=True)\n",
    "        Devuelve = lista.iloc[:QOpinionesExpuestas, :2]\n",
    "        return Devuelve\n",
    "\n",
    "    if tipo == \"ratio\":\n",
    "        lista.sort_values(by=['Vistas'], ascending = True, inplace = True)\n",
    "        OpinionesMenosVistas = lista.iloc[:10, :2] \n",
    "        OpinionesMenosVistasSeleccionadas = OpinionesMenosVistas.sample (n= math.floor (QOpinionesExpuestas / 2))\n",
    "        lista.sort_values(by='Ratio', ascending=False, inplace=True)\n",
    "        OpinionesConMayorRatio = lista.iloc[:10, :2]\n",
    "        OpinionesConMayorRatioSeleccionadas = OpinionesConMayorRatio.sample (n= math.ceil (QOpinionesExpuestas / 2))\n",
    "        OpinionesParaVotar = pd.concat([OpinionesMenosVistasSeleccionadas, OpinionesConMayorRatioSeleccionadas])\n",
    "        print (OpinionesParaVotar)\n",
    "        return OpinionesParaVotar"
   ]
  },
  {
   "cell_type": "markdown",
   "id": "7b8c9c12-7267-432d-866a-03cf742b8dde",
   "metadata": {},
   "source": [
    "### Simulacion Nula"
   ]
  },
  {
   "cell_type": "markdown",
   "id": "30f483ac",
   "metadata": {},
   "source": [
    "Se crea un diccionario para albergar a todos los agentes que van a componer la muestra. Para crear el diccionario se itera sobre el rango del tamaño de la muestra a usar (estando los distintos tamaños definidos en una lista) y se genera un nuevo elemento del diccionario (una instancia de la clase correspondiente a algun tipo de agente) con un indice igual al ID del sujeto. "
   ]
  },
  {
   "cell_type": "markdown",
   "id": "5b3b9b96-9c92-4c3c-837e-c674c0575bbe",
   "metadata": {},
   "source": [
    "#### Variables de la muestra"
   ]
  },
  {
   "cell_type": "markdown",
   "id": "ef537051-e18f-4f41-84eb-afaebd81bf4d",
   "metadata": {},
   "source": [
    "Para la muestra de la simulacion es necesario definir algunas variables que van a determinar el tipo de distribucion que tendra la opinion de los agentes. Estas variables son:\n",
    "\n",
    "* `Tipo` = Representa la distirbucion que va a tomar la opinion del sujeto,  puede ser  'uniforme', ' univariada' o 'multivariada'.\n",
    "* `Media` = Debe ser una lista, y debe tener [start,stop] para el caso uniforme, o un numero para las univariadas y las multivariadas "
   ]
  },
  {
   "cell_type": "code",
   "execution_count": 7,
   "id": "3e6a14d1",
   "metadata": {},
   "outputs": [],
   "source": [
    "Tipo = 'univariada' # Puede ser  'uniforme', ' univariada' o 'multivariada'\n",
    "Media = [0]  # Debe ser una lista, y debe tener [start,stop] para el caso uniforme, o un numero para las univariadas y las multivariadas"
   ]
  },
  {
   "cell_type": "markdown",
   "id": "b412dbb7-16b8-4d89-b9de-05e91686b204",
   "metadata": {},
   "source": [
    "#### Creo la muestra"
   ]
  },
  {
   "cell_type": "code",
   "execution_count": 8,
   "id": "b8466e81-e457-422c-9ee3-57b8a92a87ff",
   "metadata": {},
   "outputs": [],
   "source": [
    "Muestra_Completa = {}\n",
    "for k in range (1,TamañoDeLaMuestra[1]):\n",
    "    Muestra_Completa [k] = AgenteNulo (Tipo, Media, str(uuid4()))"
   ]
  },
  {
   "cell_type": "markdown",
   "id": "f80e79fb",
   "metadata": {},
   "source": [
    "#### Variables de entorno"
   ]
  },
  {
   "cell_type": "markdown",
   "id": "4223a562",
   "metadata": {},
   "source": [
    "Para el contexto de la simulacion es necesario definir algunas variables que van a determinar el contexto de la plataforma en la cual los agentes van a interactuar. Estas variables son:\n",
    "\n",
    "* `QOpinionesExpuestas` = La cantidad de opiniones que va a ver cada agente. \n",
    "* `QVecesMuestroOpinion` = La cantidad minima de veces que quiero que se muestre alguna opinion, toda opinion de esta manera tiene que mostrarse al menos esta cantidad de veces. \n",
    "* `VotosPos` = Cuantos votos positivos tiene disponible cada agente.\n",
    "* `VotosNeg` = Cuantos votos negativos tiene disponible cada agente.\n",
    "* `QIdeasAVotar` = La cantidad total de ideas que un agente va a votar lo cual esta dado por la suma de la cantidad de votos negativos y positivos disponible para cada agente. "
   ]
  },
  {
   "cell_type": "code",
   "execution_count": 9,
   "id": "8e7e34b1",
   "metadata": {},
   "outputs": [],
   "source": [
    "MetodoDeSeleccionDeIdeas = 'menosvistas' # Puede ser ['menosvistas' o 'ratio']\n",
    "QOpinionesExpuestas = 5 \n",
    "QVecesMuestroOpinion = 15\n",
    "VotosPos = 2\n",
    "VotosNeg = 1\n",
    "QIdeasAVotar = VotosPos + VotosNeg"
   ]
  },
  {
   "cell_type": "markdown",
   "id": "010a5843-7a04-4b7f-bccc-07a50ed64791",
   "metadata": {},
   "source": [
    "#### Simulacion"
   ]
  },
  {
   "cell_type": "markdown",
   "id": "8755794d-bff3-4a72-9abc-eff6c3f624dd",
   "metadata": {},
   "source": [
    "Para la simulacion es necesario definir algunas variables. Estas variables son:\n",
    "\n",
    "* `Muestra_Simulacion` = Es una copia de la muestra completa que se utilizara para esta simulacion en especifico. \n",
    "* `DataSave` = Es un array que almacenara la ID del sujeto, su opinion, la cantidad de votos (positivos y negativos), la cantidad de vistas, y el ratio (Vistas/Votos).\n",
    "* `MinutoAMinuto` = Es un array que almacena lo que va sucediendo paso por paso en la simulacion.\n",
    "* `OpinanNoVotan` y `TiempoSimulacion` son dos variables que sirven a modo funcional de la simulacion."
   ]
  },
  {
   "cell_type": "code",
   "execution_count": 10,
   "id": "8462767d-fd0d-4e8a-8080-a297c10d0e15",
   "metadata": {},
   "outputs": [
    {
     "name": "stderr",
     "output_type": "stream",
     "text": [
      "C:\\Users\\Mariano\\anaconda3\\lib\\site-packages\\pandas\\core\\internals\\blocks.py:993: VisibleDeprecationWarning: Creating an ndarray from ragged nested sequences (which is a list-or-tuple of lists-or-tuples-or ndarrays with different lengths or shapes) is deprecated. If you meant to do this, you must specify 'dtype=object' when creating the ndarray.\n",
      "  arr_value = np.array(value)\n"
     ]
    },
    {
     "name": "stdout",
     "output_type": "stream",
     "text": [
      "                                       ID                 Opinion VotosPos  \\\n",
      "0    046095bd-826e-4f19-89fe-8e7edae3b9f7   [-0.5036578993999115]        1   \n",
      "1    799f27f4-9ae6-40f6-8b24-99b589b6b893   [-0.4173033688749328]        2   \n",
      "2    d9064ae9-2451-48d3-a496-58ba9fd98740    [0.3135677319266026]        2   \n",
      "3    8cb89cf3-ee19-4459-af50-fa797fc0cb01   [-0.6831872209422598]        0   \n",
      "4    26c88519-2a4b-4cdd-b66f-387065fc29e3  [-0.39506052251783164]        2   \n",
      "..                                    ...                     ...      ...   \n",
      "195  989912a0-45b6-4d09-ad7f-419a69ab2680   [-0.6014628885579107]        0   \n",
      "196  b200caa3-6133-4e78-87da-5c399c052a87  [0.011315682041739281]        1   \n",
      "197  f93b3123-4cc4-4605-b807-a7301e9a5e22  [-0.02304169678035828]        1   \n",
      "198  3184d29f-4ae9-493b-bd40-465997ae447f    [0.6844750756754132]        1   \n",
      "199  9cebffa8-a43b-4072-a683-5fda70baa92a    [0.4468056684556609]        0   \n",
      "\n",
      "    VotosNeg Vistas     Ratio  \n",
      "0          2      4      0.25  \n",
      "1          0      4       0.5  \n",
      "2          1      4       0.5  \n",
      "3          2      4       0.0  \n",
      "4          0      4       0.5  \n",
      "..       ...    ...       ...  \n",
      "195        2      4       0.0  \n",
      "196        1      3  0.333333  \n",
      "197        0      2       0.5  \n",
      "198        0      1       1.0  \n",
      "199        0      0         0  \n",
      "\n",
      "[199 rows x 6 columns]\n",
      "                                   Sujeto TipoDeDistribucion Media/s  \\\n",
      "0    f3876919-5f4f-435c-b1e7-34de2de2ddc1         univariada     [0]   \n",
      "1    f3876919-5f4f-435c-b1e7-34de2de2ddc1         univariada     [0]   \n",
      "2    f3876919-5f4f-435c-b1e7-34de2de2ddc1         univariada     [0]   \n",
      "3    f3876919-5f4f-435c-b1e7-34de2de2ddc1         univariada     [0]   \n",
      "4    f3876919-5f4f-435c-b1e7-34de2de2ddc1         univariada     [0]   \n",
      "..                                    ...                ...     ...   \n",
      "935  9cebffa8-a43b-4072-a683-5fda70baa92a         univariada     [0]   \n",
      "936  9cebffa8-a43b-4072-a683-5fda70baa92a         univariada     [0]   \n",
      "937  9cebffa8-a43b-4072-a683-5fda70baa92a         univariada     [0]   \n",
      "938  9cebffa8-a43b-4072-a683-5fda70baa92a         univariada     [0]   \n",
      "939  9cebffa8-a43b-4072-a683-5fda70baa92a         univariada     [0]   \n",
      "\n",
      "    DesvioEstandar        Opinion Sujeto ID Idea Mostrada  \\\n",
      "0              0.5  [0.2635997683071939]                0   \n",
      "1              0.5  [0.2635997683071939]                1   \n",
      "2              0.5  [0.2635997683071939]                2   \n",
      "3              0.5  [0.2635997683071939]                3   \n",
      "4              0.5  [0.2635997683071939]                4   \n",
      "..             ...                   ...              ...   \n",
      "935            0.5  [0.4468056684556609]              198   \n",
      "936            0.5  [0.4468056684556609]              197   \n",
      "937            0.5  [0.4468056684556609]              196   \n",
      "938            0.5  [0.4468056684556609]              195   \n",
      "939            0.5  [0.4468056684556609]              178   \n",
      "\n",
      "              Idea Mostrada Otras opiniones que vio Voto Distancia  \n",
      "0     [-0.5036578993999115]            [1, 2, 3, 4]    0  0.767258  \n",
      "1     [-0.4173033688749328]            [0, 2, 3, 4]    1  0.680903  \n",
      "2      [0.3135677319266026]            [0, 1, 3, 4]   -1  0.049968  \n",
      "3     [-0.6831872209422598]            [0, 1, 2, 4]    0  0.946787  \n",
      "4    [-0.39506052251783164]            [0, 1, 2, 3]    1   0.65866  \n",
      "..                      ...                     ...  ...       ...  \n",
      "935    [0.6844750756754132]    [197, 196, 195, 178]    1  0.237669  \n",
      "936  [-0.02304169678035828]    [198, 196, 195, 178]    0  0.469847  \n",
      "937  [0.011315682041739281]    [198, 197, 195, 178]    1   0.43549  \n",
      "938   [-0.6014628885579107]    [198, 197, 196, 178]   -1  1.048269  \n",
      "939   [-0.4562432165029721]    [198, 197, 196, 195]    0  0.903049  \n",
      "\n",
      "[940 rows x 10 columns]\n"
     ]
    }
   ],
   "source": [
    "Muestra_Simulacion = Muestra_Completa.copy() # Creo una copia de la muestra original, por si se crean varias simulaciones diferentes\n",
    "DataSave = pd.DataFrame(columns=['ID', 'Opinion', 'VotosPos', 'VotosNeg', 'Vistas', 'Ratio'])\n",
    "MinutoAMinuto = pd.DataFrame(columns=['Sujeto', 'TipoDeDistribucion', 'Media/s', 'DesvioEstandar', 'Opinion Sujeto', 'ID Idea Mostrada', 'Idea Mostrada', 'Otras opiniones que vio', 'Voto', 'Distancia'])\n",
    "OpinanNoVotan = 0\n",
    "TiempoSimulacion = 0\n",
    "\n",
    "\n",
    "for i in Muestra_Simulacion:\n",
    "    ParticipanteActual = i\n",
    "    \n",
    "#     if OpinanNoVotan < QOpinionesExpuestas: # Lo cambio porque sino el metodo ratio no funciona\n",
    "    if OpinanNoVotan < 11:\n",
    "        # Si hay menos opiniones que las necesarias para mostrar los individuos van a opinar, no votar.\n",
    "        \n",
    "        DataSave.at [OpinanNoVotan] = Muestra_Simulacion.get(i).get_ID(), Muestra_Simulacion.get(i).get_Oi(), 0, 0, 0, 0\n",
    "        OpinanNoVotan +=1\n",
    "    \n",
    "    else:\n",
    "        OpinionesFiltradas = DataSave[DataSave.Vistas < QVecesMuestroOpinion] # Filtro las ideas que tengan menos vistas del limite asignado\n",
    "        OpinionesParaVotar =  metodo_de_seleccion (OpinionesFiltradas, MetodoDeSeleccionDeIdeas) # Creo un dataframe con las ideas que va a ver el sujeto\n",
    "        DataSave.at [i] = Muestra_Simulacion.get(i).get_ID(), Muestra_Simulacion.get(i).get_Oi(), 0, 0, 0, 0 # El agente opina\n",
    "        VotoActual = Muestra_Simulacion.get(i).votar(OpinionesParaVotar) # El agente vota \n",
    "        for i in VotoActual.index:\n",
    "            \n",
    "            if VotoActual.loc[i].at[0] == 1:\n",
    "                DataSave.at [i,'VotosPos'] = DataSave.at [i,'VotosPos'] + 1 # Le sumo un voto a la idea.\n",
    "            \n",
    "            if VotoActual.loc[i].at[0] == -1:\n",
    "                DataSave.at [i,'VotosNeg'] = DataSave.at [i,'VotosNeg'] + 1 # Le sumo un voto a la idea. \n",
    "        \n",
    "        for i in OpinionesParaVotar.index:\n",
    "            OpinionI = i\n",
    "            DataSave.at [i,'Vistas'] = DataSave.at [i,'Vistas'] + 1 # Le sumo una vista a la ideas expuestas   \n",
    "            DataSave.at [i, 'Ratio'] = DataSave.at[i, 'VotosPos'] / DataSave.at [i, 'Vistas']\n",
    "            \n",
    "            # Armo un dataframe con el minuto a minuto de lo que fue pasando en la simulacion\n",
    "            CopiaOpiniones = OpinionesParaVotar.index.tolist()\n",
    "            CopiaOpiniones.remove(i)\n",
    "            MinutoAMinuto.at [TiempoSimulacion] = Muestra_Simulacion.get(ParticipanteActual).get_ID(), Muestra_Simulacion.get(ParticipanteActual).get_Tipo(), Muestra_Simulacion.get(ParticipanteActual).get_Media(), Muestra_Simulacion.get(ParticipanteActual).get_DE(), Muestra_Simulacion.get(ParticipanteActual).get_Oi(), i, OpinionesParaVotar.at [i,'Opinion'], CopiaOpiniones, 0, Muestra_Simulacion.get(ParticipanteActual).comparar(OpinionesParaVotar.at [i,'Opinion'])\n",
    "          \n",
    "            if i in VotoActual.index:\n",
    "                for i in VotoActual.index:\n",
    "                    if i == OpinionI:\n",
    "                        MinutoAMinuto.at [TiempoSimulacion,'Voto'] = VotoActual.at [i,0]  \n",
    "            TiempoSimulacion +=1\n",
    "\n",
    "            \n",
    "            \n",
    "print (DataSave)\n",
    "print (MinutoAMinuto)"
   ]
  },
  {
   "cell_type": "markdown",
   "id": "2218f76e-ce90-47dd-a68b-6c39644eb125",
   "metadata": {},
   "source": [
    "#### Graficos"
   ]
  },
  {
   "cell_type": "code",
   "execution_count": 11,
   "id": "989ae857-2077-4b12-a6a2-5639f9255df6",
   "metadata": {},
   "outputs": [
    {
     "name": "stdout",
     "output_type": "stream",
     "text": [
      "A1. Distribuciòn de cantidad de visualizaciones\n"
     ]
    },
    {
     "data": {
      "image/png": "[encoded data removed]",
      "text/plain": [
       "<Figure size 432x288 with 1 Axes>"
      ]
     },
     "metadata": {
      "needs_background": "light"
     },
     "output_type": "display_data"
    },
    {
     "name": "stdout",
     "output_type": "stream",
     "text": [
      "B1. Distribución de votos positivos\n"
     ]
    },
    {
     "data": {
      "image/png": "[encoded data removed]",
      "text/plain": [
       "<Figure size 432x288 with 1 Axes>"
      ]
     },
     "metadata": {
      "needs_background": "light"
     },
     "output_type": "display_data"
    },
    {
     "name": "stdout",
     "output_type": "stream",
     "text": [
      "B2. Distribución de votos positivos para ideas que tengan mas de 0 votos positivos\n"
     ]
    },
    {
     "data": {
      "image/png": "[encoded data removed]",
      "text/plain": [
       "<Figure size 432x288 with 1 Axes>"
      ]
     },
     "metadata": {
      "needs_background": "light"
     },
     "output_type": "display_data"
    },
    {
     "name": "stdout",
     "output_type": "stream",
     "text": [
      "C1. Distribución de votos negativos\n"
     ]
    },
    {
     "data": {
      "image/png": "[encoded data removed]",
      "text/plain": [
       "<Figure size 432x288 with 1 Axes>"
      ]
     },
     "metadata": {
      "needs_background": "light"
     },
     "output_type": "display_data"
    },
    {
     "name": "stdout",
     "output_type": "stream",
     "text": [
      "C2. Distribución de votos negativos para ideas que tengan mas de 0 votos negativos\n"
     ]
    },
    {
     "data": {
      "image/png": "[encoded data removed]",
      "text/plain": [
       "<Figure size 432x288 with 1 Axes>"
      ]
     },
     "metadata": {
      "needs_background": "light"
     },
     "output_type": "display_data"
    },
    {
     "name": "stdout",
     "output_type": "stream",
     "text": [
      "D1. Distribución de rates\n"
     ]
    },
    {
     "data": {
      "image/png": "[encoded data removed]",
      "text/plain": [
       "<Figure size 432x288 with 1 Axes>"
      ]
     },
     "metadata": {
      "needs_background": "light"
     },
     "output_type": "display_data"
    },
    {
     "name": "stdout",
     "output_type": "stream",
     "text": [
      "D21. Distribución de rates para ideas que tengan al menos 1 votos pos y 1 votos neg\n"
     ]
    },
    {
     "name": "stderr",
     "output_type": "stream",
     "text": [
      "<ipython-input-11-0210e126e229>:44: UserWarning: Boolean Series key will be reindexed to match DataFrame index.\n",
      "  VotosFiltrados = VotosPosFiltrados[DataSave.VotosNeg > LimVotNeg]\n"
     ]
    },
    {
     "data": {
      "image/png": "[encoded data removed]",
      "text/plain": [
       "<Figure size 432x288 with 1 Axes>"
      ]
     },
     "metadata": {
      "needs_background": "light"
     },
     "output_type": "display_data"
    },
    {
     "name": "stdout",
     "output_type": "stream",
     "text": [
      "E1. Distribución de rates x visualizaciones\n"
     ]
    },
    {
     "data": {
      "image/png": "[encoded data removed]",
      "text/plain": [
       "<Figure size 432x288 with 1 Axes>"
      ]
     },
     "metadata": {
      "needs_background": "light"
     },
     "output_type": "display_data"
    },
    {
     "name": "stdout",
     "output_type": "stream",
     "text": [
      "E2. Distribución de rates x visualizaciones\n"
     ]
    }
   ],
   "source": [
    "if Tipo in ['uniforme','univariada']:\n",
    "    \n",
    "    for i in DataSave.index:\n",
    "    # Para hacer que la opinion no sea una lista.\n",
    "        DataSave.at [i,'Opinion'] = DataSave.at [i,'Opinion'][0]\n",
    "    \n",
    "    # A1. Distribuciòn de cantidad de visualizaciones\n",
    "    print ('A1. Distribuciòn de cantidad de visualizaciones')\n",
    "    A1 = DataSave.plot(kind='scatter',x='Opinion',y='Vistas',color='blue')\n",
    "    plt.show()\n",
    "    \n",
    "    # B1. Distribución de votos positivos.\n",
    "    print ('B1. Distribución de votos positivos')\n",
    "    B1 = DataSave.plot(kind='scatter',x='Opinion',y='VotosPos',color='green')\n",
    "    plt.show()\n",
    "    \n",
    "    # B2. Distribución de votos positivos para ideas que tengan mas de 0 votos positivos\n",
    "    print ('B2. Distribución de votos positivos para ideas que tengan mas de 0 votos positivos')\n",
    "    VotosPosFiltrados = DataSave[DataSave.VotosPos > 0]\n",
    "    B2 = VotosPosFiltrados.plot(kind='scatter',x='Opinion',y='VotosPos',color='green')\n",
    "    plt.show()\n",
    "    \n",
    "    # C1. Distribución de votos negativos.\n",
    "    print ('C1. Distribución de votos negativos')\n",
    "    C1 = DataSave.plot(kind='scatter',x='Opinion',y='VotosNeg',color='red')\n",
    "    plt.show()\n",
    "    \n",
    "    # C2. Distribución de votos negativos para ideas que tengan mas de 0 votos negativos\n",
    "    print ('C2. Distribución de votos negativos para ideas que tengan mas de 0 votos negativos')\n",
    "    VotosNegFiltrados = DataSave[DataSave.VotosNeg > 0]\n",
    "    C2 = VotosNegFiltrados.plot(kind='scatter',x='Opinion',y='VotosNeg',color='green')\n",
    "    plt.show()\n",
    "    \n",
    "    # D1. Distribución de rates.\n",
    "    print ('D1. Distribución de rates')\n",
    "    D1 = DataSave.plot(kind='scatter',x='Opinion',y='Ratio',color='orange')\n",
    "    plt.show()\n",
    "    \n",
    "    # D2. Distribución de rates para ideas que tengan al menos X votos pos o neg\n",
    "    LimVotPos = 1\n",
    "    LimVotNeg = 1\n",
    "    print ('D21. Distribución de rates para ideas que tengan al menos ' + str(LimVotNeg) + ' votos pos y '  + str(LimVotNeg) + ' votos neg')\n",
    "    VotosPosFiltrados = DataSave[DataSave.VotosPos > LimVotPos]\n",
    "    VotosFiltrados = VotosPosFiltrados[DataSave.VotosNeg > LimVotNeg]\n",
    "    D2 = VotosFiltrados.plot(kind='scatter',x='Opinion',y='Ratio',color='green')\n",
    "    plt.show()\n",
    "        \n",
    "    \n",
    "    # E1. Distribución de rates x visualizaciones\n",
    "    print ('E1. Distribución de rates x visualizaciones')\n",
    "    E1 = DataSave.plot(kind='scatter',x='Ratio',y='Vistas',color='orange')\n",
    "    plt.show()\n",
    "    \n",
    "    # E2. Distribución de rates x visualizaciones\n",
    "    print ('E2. Distribución de rates x visualizaciones')"
   ]
  },
  {
   "cell_type": "code",
   "execution_count": null,
   "id": "c04d6389-4595-42ac-9790-46b342dbbf76",
   "metadata": {},
   "outputs": [],
   "source": []
  }
 ],
 "metadata": {
  "kernelspec": {
   "display_name": "Python 3",
   "language": "python",
   "name": "python3"
  },
  "language_info": {
   "codemirror_mode": {
    "name": "ipython",
    "version": 3
   },
   "file_extension": ".py",
   "mimetype": "text/x-python",
   "name": "python",
   "nbconvert_exporter": "python",
   "pygments_lexer": "ipython3",
   "version": "3.8.8"
  }
 },
 "nbformat": 4,
 "nbformat_minor": 5
}
