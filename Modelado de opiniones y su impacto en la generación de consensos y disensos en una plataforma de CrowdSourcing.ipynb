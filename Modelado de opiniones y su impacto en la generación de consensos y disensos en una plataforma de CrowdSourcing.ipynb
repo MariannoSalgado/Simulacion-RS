{
 "cells": [
  {
   "cell_type": "markdown",
   "id": "c796cf14-1352-47b7-89b0-bc9fd4572ea1",
   "metadata": {},
   "source": [
    "## Modelado de opiniones y su impacto en la generación de consensos y disensos en una plataforma de CrowdSourcing"
   ]
  },
  {
   "cell_type": "markdown",
   "id": "49ca21da-3f62-40ee-b6fa-ccc27c8c3de0",
   "metadata": {},
   "source": [
    "El objetivo de la simulación es dilucidar el funcionamiento de las dinámicas de opinión en una plataforma de CrowdSourcing donde las personas expresan sus opiniones y votan las expresadas por otros bajo una serie de condiciones especificadas por el contexto de la plataforma."
   ]
  },
  {
   "cell_type": "code",
   "execution_count": 1,
   "id": "32e4d958-bbc7-4849-ad05-70073319f77e",
   "metadata": {},
   "outputs": [],
   "source": [
    "import random, numpy as np, pandas as pd, matplotlib.pyplot as plt, math, scipy\n",
    "from scipy.stats import multivariate_normal\n",
    "from scipy.spatial import distance\n",
    "from pandas import Series, DataFrame\n",
    "from uuid import uuid4\n",
    "#pd.options.mode.chained_assignment = None \n",
    "\n",
    "TamañoDeLaMuestra = [100, 200, 500, 1000] # Cantidad de agentes que quiero en la muestra."
   ]
  },
  {
   "cell_type": "markdown",
   "id": "7b2014e1-e216-4112-af66-cb4632ab838b",
   "metadata": {},
   "source": [
    "# Agentes"
   ]
  },
  {
   "cell_type": "markdown",
   "id": "2dbe1bf3",
   "metadata": {},
   "source": [
    "## Agente"
   ]
  },
  {
   "cell_type": "markdown",
   "id": "dc228dc7",
   "metadata": {},
   "source": [
    "Agente es una clase que cuenta con los siguientes atributos:\n",
    "\n",
    "* **Oi** = Contiene la opinion de cada agente. Va a ser siempre numerico pero dependiendo la simulacion puede ser un solo numero (real) o un vector de varios numeros (reales), independientemente de como se generan que siempre lo hacen a partir de la realizacion de algun tipo de distribucion conocida en un espacio univariado o multivariado.  \n",
    "* **ID** = Es un numero entero de identificacion unico para cada sujeto.\n",
    "* **IdeasVistas** = Es una lista que contiene los IDs de las ideas que va a ver este agente.  \n",
    "* **IdeasVotadas** = Es una lista que contiene los IDs de las ideas que va a ver este agente.\n",
    "* **Valencias** = Es una lista que contiene el valor que toma el voto de este agente."
   ]
  },
  {
   "cell_type": "code",
   "execution_count": 2,
   "id": "dcf68fa2-a3ec-4ec8-b3ed-69314698cc81",
   "metadata": {},
   "outputs": [],
   "source": [
    "class Agente (object):\n",
    "    def __init__ (self, tipo, media, ID, de = 0.5, dimensiones = 3):\n",
    "        self.Oi = self.set_Oi (tipo, media, de, dimensiones)\n",
    "        self.ID = ID\n",
    "        self.IdeasVistas = []\n",
    "        self.IdeasVotadas = []\n",
    "        self.Valencias = []\n",
    "        self.Tipo = tipo\n",
    "        self.Media = media\n",
    "        self.DE = de\n",
    "\n",
    "    def set_Oi (self, tipo, media, de, dimensiones): \n",
    "        if tipo not in ['uniforme', 'univariada', 'multivariada']:\n",
    "            raise Exception(\"El tipo de opinion solo puede ser \"\"uniforme\"\", \"\"univariada\"\" o \"\"multivariada\")\n",
    "        \n",
    "        elif isinstance(media, list) == False:\n",
    "            raise Exception(\"El argumento media solo acepta listas\")\n",
    "        \n",
    "        opinion = []\n",
    "        mediasu = []\n",
    "        \n",
    "        if tipo == \"uniforme\":\n",
    "            if len(media) != 2:\n",
    "                raise Exception(\"La media del tipo uniforme debe contener un start y un end\")\n",
    "            opinion.append (random.uniform (media[0],media[1]))\n",
    "            mediasu += media \n",
    "            \n",
    "        if tipo == \"univariada\":\n",
    "            if len(media) != 1:\n",
    "                raise Exception(\"La media de la univariada no puede contener mas de un numero\")\n",
    "            opinion = np.random.normal (media,de)\n",
    "            mediasu = media\n",
    "                    \n",
    "        if tipo == \"multivariada\":\n",
    "            if len(media) == 1:\n",
    "                for i in range (dimensiones):\n",
    "                     mediasu += media\n",
    "                a = multivariate_normal.rvs(mediasu, de)\n",
    "                opinion = a.tolist()\n",
    "                    \n",
    "            else:\n",
    "                a = multivariate_normal.rvs(media, de)\n",
    "                opinion = a.tolist()\n",
    "   \n",
    "        return tipo, mediasu, de, opinion\n",
    "\n",
    "    def append_IdeasVistas (self, IdeaVista):\n",
    "        self.IdeasVistas.append (IdeaVista)\n",
    "\n",
    "    def append_IdeasVotadas (self, IdeaVotada):\n",
    "        self.IdeasVotadas.append (IdeaVotada)   \n",
    "\n",
    "    def append_Valencias (self, Valencias):\n",
    "        self.Valencias.append (Valencias) \n",
    "\n",
    "    def ListaVotos (self, VotosPos, VotosNeg):\n",
    "        votos = VotosPos * [1] + VotosNeg * [-1]\n",
    "        return votos\n",
    "\n",
    "    def comparar (self, idea): # Devuelve la distancia entre la opinion que se le pase y la del sujeto\n",
    "        Distancia = abs(idea-self.Oi)\n",
    "        return Distancia\n",
    "    \n",
    "    def get_Oi (self):\n",
    "        return self.Oi\n",
    "    \n",
    "    def get_IdeasVistas (self):\n",
    "        return self.IdeasVistas\n",
    "\n",
    "    def get_ID (self):\n",
    "        return self.ID\n",
    "    \n",
    "    def clean_IdeasVistas (self):\n",
    "        self.IdeasVistas = []"
   ]
  },
  {
   "cell_type": "markdown",
   "id": "1d3bdf4d",
   "metadata": {},
   "source": [
    "### Agente Nulo"
   ]
  },
  {
   "cell_type": "code",
   "execution_count": 3,
   "id": "21281b55-f6bb-4b25-9195-13b177260010",
   "metadata": {},
   "outputs": [],
   "source": [
    "class AgenteNulo (Agente):\n",
    "    \n",
    "    def votar (self, ideas): # Modelo de votacion aleatoria nulo\n",
    "        self.IdeasVistas.append (ideas)\n",
    "        Votara = ideas.sample (n = QIdeasAVotar)\n",
    "        votos = self.ListaVotos(VotosPos, VotosNeg)\n",
    "        vota = []\n",
    "        for i in Votara.index:\n",
    "            vota.append (i)\n",
    "        self.IdeasVotadas.append (vota)\n",
    "        self.Valencias.append (votos)\n",
    "        devuelve = pd.DataFrame(votos, vota)\n",
    "        return devuelve"
   ]
  },
  {
   "cell_type": "markdown",
   "id": "4c7281f8",
   "metadata": {},
   "source": [
    "## Agente Determinista"
   ]
  },
  {
   "cell_type": "code",
   "execution_count": 4,
   "id": "1530904b",
   "metadata": {},
   "outputs": [],
   "source": [
    "class AgenteDeterminista (AgenteNulo):\n",
    "\n",
    "    def algvotar (self, ideas, tipo): # Asume que se le da un dataframe con las opiniones (distribuidas uniformemente),\n",
    "        Comp = 3             # y devuelve cual es el ID de la idea mas cercana a la del sujeto\n",
    "        vota = 0\n",
    "        for i in ideas.index:\n",
    "            V = abs(ideas.at[i,'Opinion']-self.Oi)\n",
    "            if V == Comp:\n",
    "                vota = random.randint (i, vota)\n",
    "            elif tipo == \"Positivo\":\n",
    "                if V < Comp:\n",
    "                    vota = i\n",
    "                    Comp = V\n",
    "            elif tipo == \"Negativo\":\n",
    "                if V > Comp:\n",
    "                    vota = i\n",
    "                    Comp = V                \n",
    "        return vota # Me devuelve la id de la idea a votar\n",
    "        \n",
    "        def votar (self, ideas):\n",
    "            self.IdeasVistas.append (ideas)\n",
    "            ideas2 = ideas.copy ()\n",
    "            vota = []\n",
    "            votos = self.ListaVotos(VotosPos, VotosNeg)\n",
    "            for i in votos:\n",
    "                if i == 1:\n",
    "                    va = self.algvotar (ideas2, \"Positivo\")\n",
    "                    ideas2.drop (va)\n",
    "                    vota.append (va)\n",
    "                if i == -1:\n",
    "                    va = self.algvotar (ideas2, \"Negativo\")\n",
    "                    ideas2.drop (va)\n",
    "                    vota.append (va)\n",
    "            self.IdeasVotadas.append (vota)\n",
    "            self.Valencias.append (votos)\n",
    "            devuelve = pd.DataFrame(votos, vota)\n",
    "            return devuelve"
   ]
  },
  {
   "cell_type": "markdown",
   "id": "dc4e7859",
   "metadata": {},
   "source": [
    "## Agente Probabilistico"
   ]
  },
  {
   "cell_type": "code",
   "execution_count": 5,
   "id": "8c1b367a",
   "metadata": {},
   "outputs": [],
   "source": [
    "class AgenteProbabilistico (AgenteNulo): ####<<<<<<<<<<<<<<<<< Estoy trabajandola aun\n",
    "\n",
    "    def algvotar (self, ideas, tipo):\n",
    "        Comp = 3\n",
    "        vota = 0\n",
    "        for i in ideas.index:\n",
    "            V = abs(ideas.at[i,'Opinion']-self.Oi)\n",
    "            if V == Comp:\n",
    "                vota = random.randint (i, vota)\n",
    "            elif tipo == \"Positivo\":\n",
    "                if V < Comp:\n",
    "                    vota = i\n",
    "                    Comp = V\n",
    "            elif tipo == \"Negativo\":\n",
    "                if V > Comp:\n",
    "                    vota = i\n",
    "                    Comp = V                \n",
    "        return vota # Me devuelve la id de la idea a votar \n",
    "\n",
    "        def votar (self, ideas):\n",
    "            self.IdeasVistas.append (ideas)\n",
    "            ideas2 = ideas.copy ()\n",
    "            vota = []\n",
    "            votos = self.ListaVotos(VotosPos, VotosNeg)\n",
    "            for i in votos:\n",
    "                if i == 1:\n",
    "                    va = self.algvotar (ideas2, \"Positivo\")\n",
    "                    ideas2.drop (va)\n",
    "                    vota.append (va)\n",
    "                if i == -1:\n",
    "                    va = self.algvotar (ideas2, \"Negativo\")\n",
    "                    ideas2.drop (va)\n",
    "                    vota.append (va)\n",
    "            self.IdeasVotadas.append (vota)\n",
    "            self.Valencias.append (votos)\n",
    "            devuelve = pd.DataFrame(votos, vota)\n",
    "            return devuelve\n",
    "\n",
    "        \n",
    "        \n",
    "## >>>>>>>>>>>>>>>>>>>>>>>>>><\n",
    "# np.random.choice([1,2,3,4,5], 3, p=[0.01, 0, 0.99, 0, 0])\n",
    "# print (len(DataSave.Opinion[3]))"
   ]
  },
  {
   "cell_type": "markdown",
   "id": "77883e8b-9284-4078-b968-ca00d254467f",
   "metadata": {},
   "source": [
    "### Metodos se seleccion de ideas"
   ]
  },
  {
   "cell_type": "markdown",
   "id": "7a16a429",
   "metadata": {},
   "source": [
    "Esta funcion define la manera en que se va a controlar las ideas que le van a ser presentadas a un agente. Existen dos metodos con que se pueden seleccionar las ideas dependiendo del argumento `tipo` pasado a la funcion.\n",
    "\n",
    "* Metodo uno (`tipo = 'menos vistas'`): Comprende elegir aquellas ideas que tengan menor cantidad de vistas\n",
    "* Metodo dos (`tipo = 'ratio'`): Comprende elegir en partes iguales, la mitad de las ideas segun la cantidad de vistas igual que con el metodo uno y la otra mitad de las ideas segun el ratio de votos positivos y cantidad de vistas.   "
   ]
  },
  {
   "cell_type": "code",
   "execution_count": 6,
   "id": "13bcbc3f-9445-4628-8870-ec0bc4dde962",
   "metadata": {},
   "outputs": [],
   "source": [
    "def metodo_de_seleccion (lista, tipo):\n",
    "    \n",
    "    if tipo == \"menos vistas\":\n",
    "        lista.sort_values(by='Vistas', inplace=True)\n",
    "        Devuelve = lista.iloc[:QOpinionesExpuestas, :5]\n",
    "        return Devuelve\n",
    "\n",
    "    if tipo == \"ratio\":\n",
    "        lista.sort_values(by=['Vistas'], ascending = True, inplace = True)\n",
    "        OpinionesMasVotadas = lista.iloc[:10, :5] # \n",
    "        OpinionesMasVotadasSeleccionadas = OpinionesMasVotadas.sample (n= math.floor (QOpinionesExpuestas / 2))\n",
    "        RestoDeOpiniones = lista.iloc[10:, :]\n",
    "        RestoDeOpiniones.sort_values(by='Ratio', ascending=False, inplace=True)\n",
    "        OpinionesConMayorRatio = RestoDeOpiniones.iloc[:10, :5]\n",
    "        OpinionesConMayorRatioSeleccionadas = OpinionesConMayorRatio.sample (n= math.ceil (QOpinionesExpuestas / 2))\n",
    "        OpinionesParaVotar = pd.concat([OpinionesMasVotadasSeleccionadas, OpinionesConMayorRatioSeleccionadas])\n",
    "        return OpinionesParaVotar\n",
    "    \n",
    "        "
   ]
  },
  {
   "cell_type": "markdown",
   "id": "7b8c9c12-7267-432d-866a-03cf742b8dde",
   "metadata": {},
   "source": [
    "### Simulacion Nula"
   ]
  },
  {
   "cell_type": "markdown",
   "id": "30f483ac",
   "metadata": {},
   "source": [
    "Se crea un diccionario para albergar a todos los agentes que van a componer la muestra. Para crear el diccionario se itera sobre el rango del tamaño de la muestra a usar (estando los distintos tamaños definidos en una lista) y se genera un nuevo elemento del diccionario (una instancia de la clase correspondiente a algun tipo de agente) con un indice igual al ID del sujeto. "
   ]
  },
  {
   "cell_type": "markdown",
   "id": "5b3b9b96-9c92-4c3c-837e-c674c0575bbe",
   "metadata": {},
   "source": [
    "#### Variables de la muestra"
   ]
  },
  {
   "cell_type": "markdown",
   "id": "ef537051-e18f-4f41-84eb-afaebd81bf4d",
   "metadata": {},
   "source": [
    "Para la muestra de la simulacion es necesario definir algunas variables que van a determinar el tipo de distribucion que tendra la opinion de los agentes. Estas variables son:\n",
    "\n",
    "* `Tipo` = Representa la distirbucion que va a tomar la opinion del sujeto,  puede ser  'uniforme', ' univariada' o 'multivariada'.\n",
    "* `Media` = Debe ser una lista, y debe tener [start,stop] para el caso uniforme, y 1, 2 o 3 numeros para las univariadas y las multivariadas  "
   ]
  },
  {
   "cell_type": "code",
   "execution_count": 7,
   "id": "3e6a14d1",
   "metadata": {},
   "outputs": [],
   "source": [
    "Tipo = 'uniforme' # Puede ser  'uniforme', ' univariada' o 'multivariada'\n",
    "Media = [-1,1]  # Debe ser una lista, y debe tener [start,stop] para el caso uniforme, y 1, 2 o 3 numeros para las univariadas y las multivariadas"
   ]
  },
  {
   "cell_type": "markdown",
   "id": "b412dbb7-16b8-4d89-b9de-05e91686b204",
   "metadata": {},
   "source": [
    "#### Creo la muestra"
   ]
  },
  {
   "cell_type": "code",
   "execution_count": 8,
   "id": "b8466e81-e457-422c-9ee3-57b8a92a87ff",
   "metadata": {},
   "outputs": [],
   "source": [
    "Muestra_Completa = {}\n",
    "for k in range (1,TamañoDeLaMuestra[1]):\n",
    "    Muestra_Completa [k*111] = AgenteNulo (Tipo, Media, str(uuid4()))"
   ]
  },
  {
   "cell_type": "markdown",
   "id": "f80e79fb",
   "metadata": {},
   "source": [
    "#### Variables de entorno"
   ]
  },
  {
   "cell_type": "markdown",
   "id": "4223a562",
   "metadata": {},
   "source": [
    "Para el contexto de la simulacion es necesario definir algunas variables que van a determinar el contexto de la plataforma en la cual los agentes van a interactuar. Estas variables son:\n",
    "\n",
    "* `QOpinionesExpuestas` = La cantidad de opiniones que va a ver cada agente. \n",
    "* `QVecesMuestroOpinion` = La cantidad minima de veces que quiero que se muestre alguna opinion, toda opinion de esta manera tiene que mostrarse al menos esta cantidad de veces. \n",
    "* `VotosPos` = Cuantos votos positivos tiene disponible cada agente.\n",
    "* `VotosNeg` = Cuantos votos negativos tiene disponible cada agente.\n",
    "* `QIdeasAVotar` = La cantidad total de ideas que un agente va a votar lo cual esta dado por la suma de la cantidad de votos negativos y positivos disponible para cada agente. "
   ]
  },
  {
   "cell_type": "code",
   "execution_count": 9,
   "id": "8e7e34b1",
   "metadata": {},
   "outputs": [],
   "source": [
    "QOpinionesExpuestas = 5 \n",
    "QVecesMuestroOpinion = 15\n",
    "VotosPos = 2\n",
    "VotosNeg = 1\n",
    "QIdeasAVotar = VotosPos + VotosNeg"
   ]
  },
  {
   "cell_type": "markdown",
   "id": "010a5843-7a04-4b7f-bccc-07a50ed64791",
   "metadata": {},
   "source": [
    "#### Simulacion"
   ]
  },
  {
   "cell_type": "markdown",
   "id": "8755794d-bff3-4a72-9abc-eff6c3f624dd",
   "metadata": {},
   "source": [
    "Para la simulacion es necesario definir algunas variables. Estas variables son:\n",
    "\n",
    "* `Muestra_Simulacion` = Es una copia de la muestra completa que se utilizara para esta simulacion en especifico. \n",
    "* `DataSave` = Es un array que almacenara la ID del sujeto, su opinion, la cantidad de votos (positivos y negativos), la cantidad de vistas, y el ratio (Vistas/Votos).\n",
    "* `MinutoAMinuto` = Es un array que almacena lo que va sucediendo paso por paso en la simulacion.\n",
    "* `OpinanNoVotan` y `TiempoSimulacion` son dos variables que sirven a modo funcional de la simulacion."
   ]
  },
  {
   "cell_type": "code",
   "execution_count": 10,
   "id": "8462767d-fd0d-4e8a-8080-a297c10d0e15",
   "metadata": {},
   "outputs": [
    {
     "name": "stderr",
     "output_type": "stream",
     "text": [
      "C:\\Users\\Mariano\\anaconda3\\lib\\site-packages\\pandas\\core\\internals\\blocks.py:993: VisibleDeprecationWarning: Creating an ndarray from ragged nested sequences (which is a list-or-tuple of lists-or-tuples-or ndarrays with different lengths or shapes) is deprecated. If you meant to do this, you must specify 'dtype=object' when creating the ndarray.\n",
      "  arr_value = np.array(value)\n"
     ]
    },
    {
     "name": "stdout",
     "output_type": "stream",
     "text": [
      "                                         ID TipoDeDistribucion  Media/s  \\\n",
      "0      1e557196-dc50-4ffd-9933-b45717fdd336           uniforme  [-1, 1]   \n",
      "1      b928be33-0678-4ae0-a4ba-07fd94fccb74           uniforme  [-1, 1]   \n",
      "2      855aa575-426d-4597-9e5c-a2529b3ce4b4           uniforme  [-1, 1]   \n",
      "3      e92bf383-386d-4380-866b-cd79278dc530           uniforme  [-1, 1]   \n",
      "4      269e4851-93ae-4d1e-b6e1-948cda5f5ffd           uniforme  [-1, 1]   \n",
      "...                                     ...                ...      ...   \n",
      "21645  df5452f4-ff46-4866-bad1-ffc9ec561274           uniforme  [-1, 1]   \n",
      "21756  e41ade38-155e-47a0-b41a-e6d7cfeb8168           uniforme  [-1, 1]   \n",
      "21867  78446f2d-44eb-46d7-ab65-27209dee8a32           uniforme  [-1, 1]   \n",
      "21978  85658df9-0799-4a38-9099-e7323f497e4a           uniforme  [-1, 1]   \n",
      "22089  9ffd7a8c-88b3-4d11-ae00-1caaf02c68c7           uniforme  [-1, 1]   \n",
      "\n",
      "      DesvioEstandar                 Opinion VotosPos VotosNeg Vistas  \\\n",
      "0                0.5   [-0.5018049334348882]        2        2      5   \n",
      "1                0.5   [-0.8633063946105342]        1        1      5   \n",
      "2                0.5   [-0.9887510465879032]        3        0      5   \n",
      "3                0.5   [0.36513797492505495]        2        1      4   \n",
      "4                0.5   [0.33249461807617675]        2        1      5   \n",
      "...              ...                     ...      ...      ...    ...   \n",
      "21645            0.5   [-0.6129094853020298]        0        1      4   \n",
      "21756            0.5  [0.005902567921405977]        2        0      3   \n",
      "21867            0.5    [-0.993101413531438]        1        0      2   \n",
      "21978            0.5     [0.305846803069602]        0        1      1   \n",
      "22089            0.5   [-0.2869100597860348]        0        0      0   \n",
      "\n",
      "          Ratio  \n",
      "0           0.4  \n",
      "1           0.2  \n",
      "2           0.6  \n",
      "3           0.5  \n",
      "4           0.4  \n",
      "...         ...  \n",
      "21645       0.0  \n",
      "21756  0.666667  \n",
      "21867       0.5  \n",
      "21978       0.0  \n",
      "22089         0  \n",
      "\n",
      "[199 rows x 9 columns]\n"
     ]
    }
   ],
   "source": [
    "Muestra_Simulacion = Muestra_Completa.copy() # Creo una copia de la muestra original, por si se crean varias simulaciones diferentes\n",
    "DataSave = pd.DataFrame(columns=['ID', 'TipoDeDistribucion', 'Media/s', 'DesvioEstandar', 'Opinion', 'VotosPos', 'VotosNeg', 'Vistas', 'Ratio'])\n",
    "MinutoAMinuto = pd.DataFrame(columns=['Sujeto', 'TipoDeDistribucion', 'Media/s', 'DesvioEstandar', 'Opinion Sujeto', 'ID Idea Mostrada', 'Idea Mostrada', 'Otras opiniones que vio', 'Voto', 'Distancia'])\n",
    "OpinanNoVotan = 0\n",
    "TiempoSimulacion = 0\n",
    "\n",
    "\n",
    "for i in Muestra_Simulacion:\n",
    "    ParticipanteActual = i\n",
    "    \n",
    "    if OpinanNoVotan < QOpinionesExpuestas: # Si hay menos opiniones que las necesarias para mostrar los individuos van a opinar, no votar.\n",
    "        TupleOi = Muestra_Simulacion.get(i).get_Oi()\n",
    "        DataSave.at [OpinanNoVotan] = Muestra_Simulacion.get(i).get_ID(), TupleOi [0], TupleOi [1], TupleOi [2], TupleOi [3], 0, 0, 0, 0\n",
    "        OpinanNoVotan +=1\n",
    "    \n",
    "    else:\n",
    "        TupleOi = Muestra_Simulacion.get(i).get_Oi()\n",
    "        OpinionesFiltradas = DataSave[DataSave.Vistas < QVecesMuestroOpinion] # Filtro las ideas que tengan menos vistas del limite asignado\n",
    "        OpinionesParaVotar =  metodo_de_seleccion (OpinionesFiltradas, \"menos vistas\") # Creo un dataframe con las ideas que va a ver el sujeto\n",
    "        DataSave.at [i] = Muestra_Simulacion.get(i).get_ID(), TupleOi [0], TupleOi [1], TupleOi [2], TupleOi [3], 0, 0, 0, 0\n",
    "        VotoActual = Muestra_Simulacion.get(i).votar(OpinionesParaVotar)\n",
    "        \n",
    "        for i in VotoActual.index:\n",
    "            \n",
    "            if VotoActual.loc[i].at[0] == 1:\n",
    "                DataSave.at [i,'VotosPos'] = DataSave.at [i,'VotosPos'] + 1 # Le sumo un voto a la idea.\n",
    "            \n",
    "            if VotoActual.loc[i].at[0] == -1:\n",
    "                DataSave.at [i,'VotosNeg'] = DataSave.at [i,'VotosNeg'] + 1 # Le sumo un voto a la idea. \n",
    "        \n",
    "        for i in OpinionesParaVotar.index:\n",
    "            OpinionI = i\n",
    "            DataSave.at [i,'Vistas'] = DataSave.at [i,'Vistas'] + 1 # Le sumo una vista a la ideas expuestas\n",
    "            \n",
    "            ################################################################ DEBERIA CONFIGURAR ALGO PARA VER COMO AFECTAN LOS VOTOS NEGATIVOS EN EL RATIO?\n",
    "            DataSave.at [i, 'Ratio'] = DataSave.at[i, 'VotosPos'] / DataSave.at [i, 'Vistas']\n",
    "            \n",
    "            # Armo un dataframe con el minuto a minuto de lo que fue pasando en la simulacion\n",
    "            CopiaOpiniones = OpinionesParaVotar.index.tolist()\n",
    "            CopiaOpiniones.remove(i)\n",
    "            #MinutoAMinuto.at [TiempoSimulacion] = Muestra_Simulacion.get(ParticipanteActual).get_ID(), Muestra_Simulacion.get(ParticipanteActual).get_Oi(), i, OpinionesParaVotar.at [i,'Opinion'], CopiaOpiniones, 0, Muestra_Simulacion.get(ParticipanteActual).comparar(OpinionesParaVotar.at [i,'Opinion']) \n",
    "            if i in VotoActual.index:\n",
    "                for i in VotoActual.index:\n",
    "                    if i == OpinionI:\n",
    "                        MinutoAMinuto.at [TiempoSimulacion,'Voto'] = VotoActual.at [i,0]  \n",
    "            TiempoSimulacion +=1\n",
    "\n",
    "# print (DataSave.Opinion)\n",
    "print (DataSave)\n",
    "# ##### Visualizo la data\n",
    "# print (\"-------------------------------------------------------------------------------------\")\n",
    "# #print (DataSave.sort_values(by=['Votos'], ascending=False))\n",
    "# DataSave.plot(kind='scatter',x='Opinion',y='VotosPos',color='green')\n",
    "# DataSave.plot(kind='scatter',x='Opinion',y='VotosNeg',color='red')\n",
    "# DataSave.plot(kind='scatter',x='Opinion',y='Vistas',color='blue')\n",
    "# plt.show()"
   ]
  },
  {
   "cell_type": "code",
   "execution_count": 11,
   "id": "292977c0",
   "metadata": {},
   "outputs": [],
   "source": [
    "# class Agente (object):\n",
    "#     def __init__ (self, tipo, media, ID, de = 0.5):\n",
    "#         self.Oi = self.set_Oi (tipo, media, de)\n",
    "#         self.ID = ID\n",
    "#         self.IdeasVistas = []\n",
    "#         self.IdeasVotadas = []\n",
    "#         self.Valencias = []\n",
    "\n",
    "# ###############################################################################################\n",
    "\n",
    "# # Le paso el argumento tipo, que puede ser uniforme, univariada o multivariada, y el argumento media, que tiene que ser una lista.\n",
    "# # Si es uniforme devuelve un numero tomando como start el primer numero de la lista y como end el segundo\n",
    "# # Si es univariada se fija si la lista de medias tiene una sola, devuelve un numero con una normal con esa media\n",
    "# # si tiene mas numeros devuelve un numero para cada una de las medias\n",
    "# # si es multivariada se fija si tiene un solo numero, devuelve tres numeros con esa media (diagonal del array)\n",
    "# # si tiene varios numeros hace un random choice 3 veces de ese numero de medias.  \n",
    "\n",
    "#     def set_Oi (self, tipo, media, de):\n",
    "        \n",
    "#         if tipo != \"uniforme\" and tipo != \"univariada\" and tipo != \"multivariada\":\n",
    "#             raise Exception(\"El tipo de opinion solo puede ser \"\"uniforme\"\", \"\"univariada\"\" o \"\"multivariada\")\n",
    "        \n",
    "#         elif isinstance(media, list) == False:\n",
    "#             raise Exception(\"El argumento media solo acepta listas\")\n",
    "        \n",
    "#         opinion = pd.DataFrame()\n",
    "#         f = 0\n",
    "#         c = 0\n",
    "        \n",
    "#         if tipo == \"uniforme\":\n",
    "#             if len(media) != 2:\n",
    "#                 raise Exception(\"La media del tipo uniforme debe contener un start y un end\")\n",
    "#             opinion.at[f,c] = (random.uniform (media[0],media[1]))\n",
    "            \n",
    "#         if tipo == \"univariada\":\n",
    "#             if len(media) == 1:\n",
    "#                 opinion.at[f,c] = (np.random.normal (media))\n",
    "                \n",
    "#             else:\n",
    "#                 for i in media:\n",
    "#                     opinion.at[f,c] = (np.random.normal (i))\n",
    "#                     f += 1\n",
    "                    \n",
    "#         if tipo == \"multivariada\":\n",
    "#             if len(media) == 1:\n",
    "#                 for i in range (3):\n",
    "#                     opinion.at[f,c] = (np.random.normal (media))\n",
    "#                     f += 1\n",
    "#                     c += 1\n",
    "                    \n",
    "#             else:\n",
    "#                 for i in range (3):\n",
    "#                     opinion.at[f,c] = (np.random.normal (random.choice (media)))\n",
    "#                     f += 1\n",
    "#                     c += 1\n",
    "                \n",
    "#         ListaOpiniones = opinion.values.tolist()\n",
    "        \n",
    "#         return ListaOpiniones #devuelve una lista con las opiniones\n",
    "\n",
    "# ###############################################################################################\n",
    "\n",
    "#     def append_IdeasVistas (self, IdeaVista):\n",
    "#         self.IdeasVistas.append (IdeaVista)\n",
    "\n",
    "#     def append_IdeasVotadas (self, IdeaVotada):\n",
    "#         self.IdeasVotadas.append (IdeaVotada)   \n",
    "\n",
    "#     def append_Valencias (self, Valencias):\n",
    "#         self.Valencias.append (Valencias) \n",
    "\n",
    "#     def ListaVotos (self, VotosPos, VotosNeg):\n",
    "#         votos = VotosPos * [1] + VotosNeg * [-1]\n",
    "#         return votos\n",
    "\n",
    "#     def comparar (self, idea): # Devuelve la distancia entre la opinion que se le pase y la del sujeto\n",
    "#         Distancia = abs(idea-self.Oi)\n",
    "#         return Distancia\n",
    "    \n",
    "#     def get_Oi (self):\n",
    "#         return self.Oi\n",
    "    \n",
    "#     def get_IdeasVistas (self):\n",
    "#         return self.IdeasVistas\n",
    "\n",
    "#     def get_ID (self):\n",
    "#         return self.ID\n",
    "    \n",
    "#     def clean_IdeasVistas (self):\n",
    "#         self.IdeasVistas = []"
   ]
  },
  {
   "cell_type": "code",
   "execution_count": null,
   "id": "adb737ef-3197-401e-9b7e-36b47e129495",
   "metadata": {},
   "outputs": [],
   "source": []
  },
  {
   "cell_type": "code",
   "execution_count": null,
   "id": "040c0ad6-c88e-424c-8981-773fb333099e",
   "metadata": {},
   "outputs": [],
   "source": []
  },
  {
   "cell_type": "code",
   "execution_count": null,
   "id": "40d0bfdc-52b3-4c7d-989a-ae0bbe1fdd82",
   "metadata": {},
   "outputs": [],
   "source": []
  },
  {
   "cell_type": "code",
   "execution_count": null,
   "id": "49299ea0-b97f-4167-b7c3-2441e0ab3eda",
   "metadata": {},
   "outputs": [],
   "source": []
  },
  {
   "cell_type": "code",
   "execution_count": null,
   "id": "4be2100e-e87f-403d-b93c-445c668527ed",
   "metadata": {},
   "outputs": [],
   "source": []
  },
  {
   "cell_type": "code",
   "execution_count": null,
   "id": "054877c6-3d41-4812-bbbc-ab5744b68f81",
   "metadata": {},
   "outputs": [],
   "source": []
  },
  {
   "cell_type": "code",
   "execution_count": null,
   "id": "b16a5467-56d9-49b0-8c68-e162dfe6a44d",
   "metadata": {},
   "outputs": [],
   "source": []
  }
 ],
 "metadata": {
  "kernelspec": {
   "display_name": "Python 3",
   "language": "python",
   "name": "python3"
  },
  "language_info": {
   "codemirror_mode": {
    "name": "ipython",
    "version": 3
   },
   "file_extension": ".py",
   "mimetype": "text/x-python",
   "name": "python",
   "nbconvert_exporter": "python",
   "pygments_lexer": "ipython3",
   "version": "3.8.8"
  }
 },
 "nbformat": 4,
 "nbformat_minor": 5
}
