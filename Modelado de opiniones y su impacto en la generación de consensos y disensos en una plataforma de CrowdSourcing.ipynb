{
 "cells": [
  {
   "cell_type": "markdown",
   "id": "bb603d50",
   "metadata": {},
   "source": [
    "## Modelado de opiniones y su impacto en la generación de consensos y disensos en una plataforma de CrowdSourcing"
   ]
  },
  {
   "cell_type": "markdown",
   "id": "f4602875",
   "metadata": {},
   "source": [
    "El objetivo de la simulación es dilucidar el funcionamiento de las dinámicas de opinión en una plataforma de CrowdSourcing donde las personas expresan sus opiniones y votan las expresadas por otros bajo una serie de condiciones especificadas por el contexto de la plataforma."
   ]
  },
  {
   "cell_type": "code",
   "execution_count": 103,
   "id": "623d7f46",
   "metadata": {},
   "outputs": [],
   "source": [
    "import random, numpy as np, pandas as pd, matplotlib.pyplot as plt, math, scipy, seaborn as sns, warnings, matplotlib\n",
    "from scipy.stats import multivariate_normal\n",
    "from scipy.spatial import distance\n",
    "from pandas import Series, DataFrame\n",
    "from uuid import uuid4\n",
    "# pd.options.mode.chained_assignment = None\n",
    "# warnings.filterwarnings(\"ignore\", category=np.VisibleDeprecationWarning) \n",
    "\n",
    "TamañoDeLaMuestra = [100, 200, 500, 1000] # Cantidad de agentes que quiero en la muestra."
   ]
  },
  {
   "cell_type": "markdown",
   "id": "0e244d4f",
   "metadata": {},
   "source": [
    "# Agentes"
   ]
  },
  {
   "cell_type": "markdown",
   "id": "03f65694",
   "metadata": {},
   "source": [
    "## Agente"
   ]
  },
  {
   "cell_type": "markdown",
   "id": "384398ed",
   "metadata": {},
   "source": [
    "Agente es una clase que cuenta con los siguientes atributos:\n",
    "\n",
    "* **Oi** = Contiene la opinion de cada agente. Va a ser siempre numerico pero dependiendo la simulacion puede ser un solo numero (real) o un vector de varios numeros (reales), independientemente de como se generan que siempre lo hacen a partir de la realizacion de algun tipo de distribucion conocida en un espacio univariado o multivariado.  \n",
    "* **ID** = Es un numero entero de identificacion unico para cada sujeto.\n",
    "* **IdeasVistas** = Es una lista que contiene los IDs de las ideas que va a ver este agente.  \n",
    "* **IdeasVotadas** = Es una lista que contiene los IDs de las ideas que va a ver este agente.\n",
    "* **Valencias** = Es una lista que contiene el valor que toma el voto de este agente.\n",
    "* **Tipo** = Es el tipo de distribucion que se utilizo para asignarle la opinion.\n",
    "* **Media** = Es la media de la distribucion.\n",
    "* **DE** = Es el desvio estandar de la distribucion."
   ]
  },
  {
   "cell_type": "code",
   "execution_count": 104,
   "id": "d966e417",
   "metadata": {},
   "outputs": [],
   "source": [
    "class Agente (object):\n",
    "    def __init__ (self, tipo, media, ID, de = 0.5, dimensiones = 3):\n",
    "        self.Oi = self.set_Oi (tipo, media, de, dimensiones)\n",
    "        self.ID = ID\n",
    "        self.IdeasVistas = []\n",
    "        self.IdeasVotadas = []\n",
    "        self.Valencias = []\n",
    "        self.Tipo = tipo\n",
    "        self.Media = media\n",
    "        self.DE = de\n",
    "        self.PreferenciaPositiva = np.random.binomial(QIdeasAVotar, np.random.beta(6,2,1), 1)[0]\n",
    "\n",
    "    def set_Oi (self, tipo, media, de, dimensiones):\n",
    "        # Asume que se le da el tipo de distribucion ['uniforme', 'univariada', 'multivariada'], \n",
    "        # la media (que debe ser una lista con un numero entero), el desvio estandar (normalmente fijo en 0.50), \n",
    "        # y la cantidad de dimensiones para el caso de la multivariada (normalmente fijado en 3).\n",
    "        # En base a eso devuelve una lista con la/s opinion/es del agente.\n",
    "        \n",
    "        if tipo not in ['uniforme', 'univariada', 'multivariada']:\n",
    "            raise Exception(\"El tipo de opinion solo puede ser \"\"uniforme\"\", \"\"univariada\"\" o \"\"multivariada\")\n",
    "        \n",
    "        elif isinstance(media, list) == False:\n",
    "            raise Exception(\"El argumento media solo acepta listas\")\n",
    "        \n",
    "        opinion = []\n",
    "        mediasu = []\n",
    "        \n",
    "        if tipo == \"uniforme\":\n",
    "            if len(media) != 2:\n",
    "                raise Exception(\"La media del tipo uniforme debe contener un start y un end\")\n",
    "            opinion.append (random.uniform (media[0],media[1]))\n",
    "            mediasu += media \n",
    "            \n",
    "        if tipo == \"univariada\":\n",
    "            if len(media) != 1:\n",
    "                raise Exception(\"La media de la univariada no puede contener mas de un numero\")\n",
    "            opinion = np.random.normal (media,de)\n",
    "            mediasu = media\n",
    "                    \n",
    "        if tipo == \"multivariada\":\n",
    "            if len(media) == 1:\n",
    "                for i in range (dimensiones):\n",
    "                     mediasu += media\n",
    "                a = multivariate_normal.rvs(mediasu, de)\n",
    "                opinion = a.tolist()\n",
    "                    \n",
    "            else:\n",
    "                a = multivariate_normal.rvs(media, de)\n",
    "                opinion = a.tolist()\n",
    "                mediasu = media\n",
    "   \n",
    "        return opinion\n",
    "\n",
    "    def append_IdeasVistas (self, IdeaVista):\n",
    "        self.IdeasVistas.append (IdeaVista)\n",
    "\n",
    "    def append_IdeasVotadas (self, IdeaVotada):\n",
    "        self.IdeasVotadas.append (IdeaVotada)   \n",
    "\n",
    "    def append_Valencias (self, Valencias):\n",
    "        self.Valencias.append (Valencias) \n",
    "\n",
    "    def ListaVotos (self, VotosPos, VotosNeg):\n",
    "        # Asume que se le da dos numeros enteros, correspondientes a los votos positivos y negativos\n",
    "        # que se le piden al agente y en base a eso devuelve una lista en la cual los 1 representan \n",
    "        # los votos positivos y los -1 los negativos.\n",
    "        \n",
    "        votos = VotosPos * [1] + VotosNeg * [-1]\n",
    "        return votos\n",
    "\n",
    "    def comparar (self, idea): \n",
    "        # Asume que se le da una lista con la/s opinion/es de otro agente (Oj) y la compara con la del agente (Oi).\n",
    "        # Devuelve la distancia entre ellas.\n",
    "        \n",
    "        if len(idea) > 1:\n",
    "            Distancia = distance.euclidean(self.Oi,idea)\n",
    "        else:\n",
    "            Distancia = abs(self.Oi[0]-idea[0])\n",
    "        return Distancia\n",
    "    \n",
    "    def get_Oi (self):\n",
    "        return self.Oi\n",
    "    \n",
    "    def get_IdeasVistas (self):\n",
    "        return self.IdeasVistas\n",
    "\n",
    "    def get_ID (self):\n",
    "        return self.ID\n",
    "\n",
    "    def get_Tipo (self):\n",
    "        return self.Tipo\n",
    "    \n",
    "    def get_Media (self):\n",
    "        return self.Media\n",
    "    \n",
    "    def get_DE (self):\n",
    "        return self.DE\n",
    "    \n",
    "    def get_PreferenciaPositiva (self):\n",
    "        return self.PreferenciaPositiva\n",
    "\n",
    "    def clean_IdeasVistas (self):\n",
    "        self.IdeasVistas = []"
   ]
  },
  {
   "cell_type": "markdown",
   "id": "9765a8de",
   "metadata": {},
   "source": [
    "### Agente Nulo"
   ]
  },
  {
   "cell_type": "code",
   "execution_count": 105,
   "id": "b3837f1c",
   "metadata": {},
   "outputs": [],
   "source": [
    "class AgenteNulo (Agente):\n",
    "    # El agente nulo se caracteriza por la votacion aleatoria.\n",
    "    \n",
    "    def votar (self, ideas): \n",
    "        # Asume que se le da un dataframe con las opiniones de otros agentes (distribuidas uniformemente) \n",
    "        # y vota aleatoriamente. Devuelve un dataframe con el tipo de voto asignado a cada index (que \n",
    "        # representa el orden en el que los agentes ingresaron a la plataforma)\n",
    "        \n",
    "        self.IdeasVistas.append (ideas)\n",
    "        Votara = ideas.sample (n = QIdeasAVotar)\n",
    "        votos = self.ListaVotos(VotosPos, VotosNeg)\n",
    "        vota = []\n",
    "        for i in Votara.index:\n",
    "            vota.append (i)\n",
    "        self.IdeasVotadas.append (vota)\n",
    "        self.Valencias.append (votos)\n",
    "        devuelve = pd.DataFrame(votos, vota)\n",
    "        return devuelve"
   ]
  },
  {
   "cell_type": "markdown",
   "id": "56cf583a",
   "metadata": {},
   "source": [
    "## Agente Determinista"
   ]
  },
  {
   "cell_type": "code",
   "execution_count": 106,
   "id": "8d6e3867",
   "metadata": {},
   "outputs": [],
   "source": [
    "class AgenteDeterminista (Agente):\n",
    "    # El agente Determinista se caracteriza por la votacion determinada por la distancia.\n",
    "    # Es decir votara la/s idea/s mas cercanas positivamente, y la/s mas lejanas negativamente.\n",
    "\n",
    "###\n",
    "    def votar(self, ideas):\n",
    "        #Calculo distancias\n",
    "        ideas['distancias'] = [self.comparar(x) for x in ideas.iloc[:,1]]\n",
    "        #Ordeno de menor a mayor\n",
    "        ideas.sort_values('distancias', inplace = True)\n",
    "        \n",
    "        #Chequeo si hay 1 o mas votos positivos\n",
    "        if self.get_PreferenciaPositiva() > 0:\n",
    "            votos_positivos = ideas.iloc[-self.get_PreferenciaPositiva():, 0] #Selecciono ideas con minima distancia\n",
    "        else: #Si hay menos de 1 voto positivo no selecciono nada\n",
    "            votos_positivos = ideas.iloc[:0,0] #Esta llamada es analoga a la de votos negativos con 0\n",
    "        \n",
    "        #Selecciono ideas con maxima distancia\n",
    "        votos_negativos = ideas.iloc[:QIdeasAVotar-self.get_PreferenciaPositiva(), 0]\n",
    "        \n",
    "        #Agrego las ideas votadas\n",
    "        for vota in pd.concat([votos_positivos,votos_negativos]):\n",
    "            self.IdeasVotadas.append(vota)\n",
    "        \n",
    "        #Agrego las valencias con que se votaron\n",
    "        for votos in range(len(votos_positivos)):\n",
    "            self.Valencias.append(1)\n",
    "        for votos in range(len(votos_negativos)):\n",
    "            self.Valencias.append(-1)\n",
    "        \n",
    "        return(\n",
    "        pd.DataFrame([1]*len(votos_positivos) + [-1]*len(votos_negativos), pd.concat([votos_positivos,votos_negativos]))\n",
    "        )\n",
    "    \n",
    "#         return(\n",
    "#         pd.DataFrame({'ideas': pd.concat([votos_positivos,votos_negativos]), \n",
    "#                       'valencias': [1]*len(votos_positivos) + [-1]*len(votos_negativos)})\n",
    "#         )\n",
    "###\n",
    "\n",
    "#     def algvotar (self, ideas, tipo): \n",
    "#         # Asume que se le da un dataframe con las opiniones de otros agentes (distribuidas uniformemente) \n",
    "#         # y devuelve segun se le pida, el indice de la idea mas cercana o lejana.\n",
    "        \n",
    "#         Comp = 1000\n",
    "#         CompNeg = -1000\n",
    "#         vota = 0\n",
    "#         for i in ideas.index:\n",
    "#             V = self.comparar (ideas.at[i,'Opinion'])\n",
    "#             if V == Comp or V == CompNeg:\n",
    "#                 vota = random.choice (i, vota)\n",
    "#             elif tipo == \"Positivo\":\n",
    "#                 if V < Comp:\n",
    "#                     vota = i\n",
    "#                     Comp = V\n",
    "#             elif tipo == \"Negativo\":\n",
    "#                 if V > CompNeg:\n",
    "#                     vota = i\n",
    "#                     Comp = V                \n",
    "#         return vota # Me devuelve la id de la idea a votar\n",
    "        \n",
    "#     def votar (self, ideas):\n",
    "#         # Asume que se le da un dataframe con las opiniones de otros agentes (distribuidas uniformemente) \n",
    "#         # y vota utilizando el algoritmo de algvotar. Devuelve un dataframe con el tipo de voto asignado a cada \n",
    "#         # index (que representa el orden en el que los agentes ingresaron a la plataforma).\n",
    "        \n",
    "#         self.IdeasVistas.append (ideas)\n",
    "#         ideas2 = ideas.copy ()\n",
    "#         vota = []\n",
    "#         votos = self.ListaVotos(VotosPos, VotosNeg)\n",
    "#         for i in votos:\n",
    "#             if i == 1:\n",
    "#                 va = int (self.algvotar (ideas2, \"Positivo\"))\n",
    "#                 ideas2.drop (va, inplace=True)\n",
    "#                 vota.append (va)\n",
    "#             if i == -1:\n",
    "#                 va = int(self.algvotar (ideas2, \"Negativo\"))\n",
    "#                 ideas2.drop (va, inplace=True)\n",
    "#                 vota.append (va)\n",
    "#         self.IdeasVotadas.append (vota)\n",
    "#         self.Valencias.append (votos)\n",
    "#         devuelve = pd.DataFrame(votos, vota)\n",
    "#         print (\"votos\")\n",
    "#         print (votos)\n",
    "#         print (\"vota\")\n",
    "#         print (vota)\n",
    "#         return devuelve"
   ]
  },
  {
   "cell_type": "markdown",
   "id": "81cdea75",
   "metadata": {},
   "source": [
    "## Agente Probabilistico"
   ]
  },
  {
   "cell_type": "code",
   "execution_count": 107,
   "id": "1e123684",
   "metadata": {},
   "outputs": [],
   "source": [
    "class AgenteProbabilistico (AgenteDeterminista):\n",
    "    # El agente Probabilistico se caracteriza por la votacion dada por la probabilidad de elegir la idea\n",
    "    # inversamente proporcional a la distancia para el caso positivo, o proporcional a la distancia\n",
    "    # para el caso negativo.\n",
    "    \n",
    "    def algvotar (self, ideas, tipo):\n",
    "        # Asume que se le da un dataframe con las opiniones de otros agentes (distribuidas uniformemente)\n",
    "        # calcula las distancias y vota acorde a la probabilidad. Devuelve la ID de la idea que haya sido seleccionada.\n",
    "        \n",
    "        Wm = ideas.copy()\n",
    "        for i in Wm.index:\n",
    "            Wm.at [i,'Distancia'] = self.comparar (Wm.at[i,'Opinion'])\n",
    "        if tipo == \"Positivo\":\n",
    "            for i in Wm.index:\n",
    "                Wm.at [i,'Distancia'] = abs(1 - Wm.at [i,'Distancia'])\n",
    "            SumaDistancias = Wm[\"Distancia\"].sum()\n",
    "            for i in Wm.index:\n",
    "                Wm.at [i,'Probabilidad'] = abs(Wm.at [i,'Distancia']) / SumaDistancias\n",
    "            vota = np.random.choice(Wm.index.values.tolist(), 1, p=  Wm[\"Probabilidad\"].values.tolist())\n",
    "            \n",
    "        if tipo == \"Negativo\":\n",
    "            SumaDistancias = Wm[\"Distancia\"].sum()\n",
    "            for i in Wm.index:\n",
    "                Wm.at [i,'Probabilidad'] = Wm.at [i,'Distancia'] / SumaDistancias\n",
    "            vota = np.random.choice(Wm.index.values.tolist(), 1, p=  Wm[\"Probabilidad\"].values.tolist())\n",
    "            \n",
    "        return vota # Me devuelve la id de la idea a votar\n",
    "\n",
    "    def votar (self, ideas):\n",
    "        # Asume que se le da un dataframe con las opiniones de otros agentes (distribuidas uniformemente) \n",
    "        # y vota probabilisticamente, con una probabilidad inversamente proporcional a la distancia para \n",
    "        # el caso positivo, o proporcional a la distancia para el caso negativo (lo cual estara \n",
    "        # determinado por la funcion algvotar). Devuelve un dataframe con el tipo de voto asignado a cada \n",
    "        # index (que representa el orden en el que los agentes ingresaron a la plataforma).\n",
    "        \n",
    "        self.IdeasVistas.append (ideas)\n",
    "        ideas2 = ideas.copy ()\n",
    "        vota = []\n",
    "        votos = self.ListaVotos(VotosPos, VotosNeg)\n",
    "        for i in votos:\n",
    "            if i == 1:\n",
    "                va = int (self.algvotar (ideas2, \"Positivo\"))\n",
    "                ideas2.drop (va, inplace=True)\n",
    "                vota.append (va)\n",
    "            if i == -1:\n",
    "                va = int(self.algvotar (ideas2, \"Negativo\"))\n",
    "                ideas2.drop (va, inplace=True)\n",
    "                vota.append (va)\n",
    "        self.IdeasVotadas.append (vota)\n",
    "        self.Valencias.append (votos)\n",
    "        devuelve = pd.DataFrame(votos, vota)\n",
    "        return devuelve"
   ]
  },
  {
   "cell_type": "markdown",
   "id": "3974c716",
   "metadata": {},
   "source": [
    "### Metodos se seleccion de ideas"
   ]
  },
  {
   "cell_type": "markdown",
   "id": "198d1916",
   "metadata": {},
   "source": [
    "Esta funcion define la manera en que se va a controlar las ideas que le van a ser presentadas a un agente. Existen dos metodos con que se pueden seleccionar las ideas dependiendo del argumento `tipo` pasado a la funcion.\n",
    "\n",
    "* Metodo uno (`tipo = 'menos vistas'`): Comprende elegir aquellas ideas que tengan menor cantidad de vistas\n",
    "* Metodo dos (`tipo = 'ratio'`): Comprende elegir en partes iguales, la mitad de las ideas segun la cantidad de vistas igual que con el metodo uno y la otra mitad de las ideas segun el ratio de votos positivos y cantidad de vistas.   \n",
    "\n",
    "Ambos metodos pueden controlarse con la misma funcion con un solo parametro que sea un numero del 0 al 1 e indique la proporcion de ideas que se van a seleccionar con determinado criterio. Por ejemplo si el numero indica la proporcion de ideas que se van a seleccionar con el criterio de ratio, un 0 indica que todas las ideas van a ser seleccionadas con el otro criterio que es tener menos vistas. Un 1 indicaria lo contrario, que todas las ideas van a ser seleccionadsa con el metodo de ratio. \n",
    "\n",
    "Para eso primero se genera una funcion que vaya a hacer el filtrado y la seleccion tomando como argumentos el dataframe de ideas (`lista`), la cantidad de ideas a elegir basadonse en el ratio (`prop_ratio`) y la cantidad para elegir basandose en menor cantidad de vistas (`prop_vistas`)."
   ]
  },
  {
   "cell_type": "code",
   "execution_count": 108,
   "id": "a2662d1d",
   "metadata": {},
   "outputs": [],
   "source": [
    " def metodo_de_filtrado(lista, prop_ratio, prop_vistas):\n",
    "        #Se filtran las variables segun ambos criterios\n",
    "        ideas_menos_vistas = lista.sort_values(by='Vistas', inplace=False).iloc[:prop_vistas, :2]\n",
    "        #Se sacan las ideas ya seleccionadas por vistas para no repetir\n",
    "        nueva_lista = lista[-lista['ID'].isin(ideas_menos_vistas.iloc[:,0].values)] \n",
    "        ideas_mayor_ratio = nueva_lista.sort_values(by='Ratio', ascending=False, inplace=False).iloc[:prop_ratio, :2]\n",
    "        #Se unen los dos dataframes\n",
    "        OpinionesParaVotar = pd.concat([ideas_menos_vistas, ideas_mayor_ratio])\n",
    "        #Se devuelve el resultado\n",
    "        return(OpinionesParaVotar)"
   ]
  },
  {
   "cell_type": "code",
   "execution_count": 109,
   "id": "164db0f2",
   "metadata": {},
   "outputs": [],
   "source": [
    "def metodo_de_seleccion(lista, prop = 0):\n",
    "    \n",
    "    prop_ratio = prop*QOpinionesExpuestas\n",
    "    prop_vistas = QOpinionesExpuestas-prop_ratio\n",
    "    \n",
    "    if int(prop_ratio) == prop_ratio: #Si la proporcion es divisible por la cantidad de ideas\n",
    "        #Se transforman las variables en enteros para usarse para indexar\n",
    "        prop_ratio = int(prop_ratio)\n",
    "        prop_vistas = int(prop_vistas)\n",
    "        return(\n",
    "            metodo_de_filtrado(lista, prop_ratio, prop_vistas)\n",
    "        )\n",
    "    \n",
    "    else: #Si la proporcion no es divisible\n",
    "        #Se samplea la cantidad de ideas a elegir segun ratio con una binomial con probabilidad igual a prop\n",
    "        prop_ratio = np.random.binomial(QOpinionesExpuestas, prop, 1)[0] \n",
    "        #El complemento son las ideas elegidas segun vistas\n",
    "        prop_vistas = QOpinionesExpuestas-prop_ratio\n",
    "        return(\n",
    "            metodo_de_filtrado(lista, prop_ratio, prop_vistas)\n",
    "        )"
   ]
  },
  {
   "cell_type": "markdown",
   "id": "c56f3f46",
   "metadata": {},
   "source": [
    "#### Variables de entorno"
   ]
  },
  {
   "cell_type": "markdown",
   "id": "bfc22b19",
   "metadata": {},
   "source": [
    "Para el contexto de la simulacion es necesario definir algunas variables que van a determinar el contexto de la plataforma en la cual los agentes van a interactuar. Estas variables son:\n",
    "\n",
    "* `QOpinionesExpuestas` = La cantidad de opiniones que va a ver cada agente. \n",
    "* `QVecesMuestroOpinion` = La cantidad minima de veces que quiero que se muestre alguna opinion, toda opinion de esta manera tiene que mostrarse al menos esta cantidad de veces. \n",
    "* `VotosPos` = Cuantos votos positivos tiene disponible cada agente.\n",
    "* `VotosNeg` = Cuantos votos negativos tiene disponible cada agente.\n",
    "* `QIdeasAVotar` = La cantidad total de ideas que un agente va a votar lo cual esta dado por la suma de la cantidad de votos negativos y positivos disponible para cada agente. "
   ]
  },
  {
   "cell_type": "code",
   "execution_count": 110,
   "id": "c376abd5",
   "metadata": {},
   "outputs": [],
   "source": [
    "QOpinionesExpuestas = 10 \n",
    "QVecesMuestroOpinion = 20\n",
    "VotosPos = 2\n",
    "VotosNeg = 1\n",
    "# En el modelo actual no importa como ponga los valores en tanto votos pos o votos neg.\n",
    "QIdeasAVotar = VotosPos + VotosNeg\n",
    "id_inicial = 0"
   ]
  },
  {
   "cell_type": "markdown",
   "id": "7bddee9f-f66f-48dc-9986-a1d5a6937da9",
   "metadata": {},
   "source": [
    "## Simulacion I"
   ]
  },
  {
   "cell_type": "markdown",
   "id": "da783f14",
   "metadata": {},
   "source": [
    "### Simulacion Nula"
   ]
  },
  {
   "cell_type": "markdown",
   "id": "74475a74",
   "metadata": {},
   "source": [
    "Se crea un diccionario para albergar a todos los agentes que van a componer la muestra. Para crear el diccionario se itera sobre el rango del tamaño de la muestra a usar (estando los distintos tamaños definidos en una lista) y se genera un nuevo elemento del diccionario (una instancia de la clase correspondiente a algun tipo de agente) con un indice igual al ID del sujeto. "
   ]
  },
  {
   "cell_type": "markdown",
   "id": "6a95cce8",
   "metadata": {},
   "source": [
    "#### Variables de la muestra"
   ]
  },
  {
   "cell_type": "markdown",
   "id": "2388ba1a",
   "metadata": {},
   "source": [
    "Para la muestra de la simulacion es necesario definir algunas variables que van a determinar el tipo de distribucion que tendra la opinion de los agentes. Estas variables son:\n",
    "\n",
    "* `Tipo` = Representa la distirbucion que va a tomar la opinion del sujeto,  puede ser  'uniforme', ' univariada' o 'multivariada'.\n",
    "* `Media` = Debe ser una lista, y debe tener [start,stop] para el caso uniforme, o un numero para las univariadas y las multivariadas "
   ]
  },
  {
   "cell_type": "code",
   "execution_count": 111,
   "id": "4994328b",
   "metadata": {},
   "outputs": [],
   "source": [
    "Tipo = 'uniforme' # Puede ser  'uniforme', ' univariada' o 'multivariada'\n",
    "Media = [-1,1]  # Debe ser una lista, y debe tener [start,stop] para el caso uniforme, o un numero para las univariadas y las multivariadas"
   ]
  },
  {
   "cell_type": "markdown",
   "id": "21e3c22e",
   "metadata": {},
   "source": [
    "#### Creo la muestra"
   ]
  },
  {
   "cell_type": "code",
   "execution_count": 112,
   "id": "933a71be",
   "metadata": {},
   "outputs": [],
   "source": [
    "Muestra_Completa = {}\n",
    "for k in range (500):\n",
    "    #Muestra_Completa [k] = AgenteNulo (Tipo, Media, str(uuid4()))\n",
    "    Muestra_Completa [id_inicial] = AgenteNulo (Tipo, Media, id_inicial)\n",
    "    id_inicial += 1"
   ]
  },
  {
   "cell_type": "markdown",
   "id": "097d599c",
   "metadata": {},
   "source": [
    "#### Simulacion"
   ]
  },
  {
   "cell_type": "markdown",
   "id": "0f857372",
   "metadata": {},
   "source": [
    "Para la simulacion es necesario definir algunas variables. Estas variables son:\n",
    "\n",
    "* `Muestra_Simulacion` = Es una copia de la muestra completa que se utilizara para esta simulacion en especifico. \n",
    "* `DataSave` = Es un array que almacenara la ID del sujeto, su opinion, la cantidad de votos (positivos y negativos), la cantidad de vistas, y el ratio (Vistas/Votos).\n",
    "* `MinutoAMinuto` = Es un array que almacena lo que va sucediendo paso por paso en la simulacion.\n",
    "* `OpinanNoVotan` y `TiempoSimulacion` son dos variables que sirven a modo funcional de la simulacion."
   ]
  },
  {
   "cell_type": "code",
   "execution_count": 113,
   "id": "b626d94b",
   "metadata": {},
   "outputs": [
    {
     "name": "stderr",
     "output_type": "stream",
     "text": [
      "C:\\Users\\Mariano\\anaconda3\\lib\\site-packages\\pandas\\core\\internals\\blocks.py:993: VisibleDeprecationWarning: Creating an ndarray from ragged nested sequences (which is a list-or-tuple of lists-or-tuples-or ndarrays with different lengths or shapes) is deprecated. If you meant to do this, you must specify 'dtype=object' when creating the ndarray.\n",
      "  arr_value = np.array(value)\n"
     ]
    },
    {
     "name": "stdout",
     "output_type": "stream",
     "text": [
      "      ID                 Opinion VotosPos VotosNeg Vistas     Ratio\n",
      "0      0  [0.023958953711651132]        1        0      9  0.111111\n",
      "1      1    [0.9275028918694428]        1        0      9  0.111111\n",
      "2      2    [0.6373735728882381]        2        1      9  0.222222\n",
      "3      3    [0.6095773875776025]        1        1      9  0.111111\n",
      "4      4    [0.8092104736806327]        1        2      9  0.111111\n",
      "..   ...                     ...      ...      ...    ...       ...\n",
      "495  495   [0.29655952330556556]        1        0      4      0.25\n",
      "496  496    [0.8232203227346013]        0        0      3       0.0\n",
      "497  497    [0.8051278851625827]        0        0      2       0.0\n",
      "498  498   [-0.4810079205191109]        0        0      1       0.0\n",
      "499  499   [-0.3297875035910085]        0        0      0         0\n",
      "\n",
      "[500 rows x 6 columns]\n",
      "     Sujeto TipoDeDistribucion  Media/s DesvioEstandar         Opinion Sujeto  \\\n",
      "0        11           uniforme  [-1, 1]            0.5  [0.35463695399576656]   \n",
      "1        11           uniforme  [-1, 1]            0.5  [0.35463695399576656]   \n",
      "2        11           uniforme  [-1, 1]            0.5  [0.35463695399576656]   \n",
      "3        11           uniforme  [-1, 1]            0.5  [0.35463695399576656]   \n",
      "4        11           uniforme  [-1, 1]            0.5  [0.35463695399576656]   \n",
      "...     ...                ...      ...            ...                    ...   \n",
      "4885    499           uniforme  [-1, 1]            0.5  [-0.3297875035910085]   \n",
      "4886    499           uniforme  [-1, 1]            0.5  [-0.3297875035910085]   \n",
      "4887    499           uniforme  [-1, 1]            0.5  [-0.3297875035910085]   \n",
      "4888    499           uniforme  [-1, 1]            0.5  [-0.3297875035910085]   \n",
      "4889    499           uniforme  [-1, 1]            0.5  [-0.3297875035910085]   \n",
      "\n",
      "     ID Idea Mostrada           Idea Mostrada  \\\n",
      "0                   0  [0.023958953711651132]   \n",
      "1                   1    [0.9275028918694428]   \n",
      "2                   2    [0.6373735728882381]   \n",
      "3                   3    [0.6095773875776025]   \n",
      "4                   4    [0.8092104736806327]   \n",
      "...               ...                     ...   \n",
      "4885              493   [-0.7270900662529605]   \n",
      "4886              492  [-0.41044695875381776]   \n",
      "4887              491   [-0.4513445193441534]   \n",
      "4888              490  [-0.17195817564707516]   \n",
      "4889              476   [0.03624941390238878]   \n",
      "\n",
      "                            Otras opiniones que vio Voto Distancia  \n",
      "0                       [1, 2, 3, 4, 5, 6, 7, 8, 9]    0  0.330678  \n",
      "1                       [0, 2, 3, 4, 5, 6, 7, 8, 9]    0  0.572866  \n",
      "2                       [0, 1, 3, 4, 5, 6, 7, 8, 9]    0  0.282737  \n",
      "3                       [0, 1, 2, 4, 5, 6, 7, 8, 9]    1   0.25494  \n",
      "4                       [0, 1, 2, 3, 5, 6, 7, 8, 9]   -1  0.454574  \n",
      "...                                             ...  ...       ...  \n",
      "4885  [498, 497, 496, 495, 494, 492, 491, 490, 476]    1  0.397303  \n",
      "4886  [498, 497, 496, 495, 494, 493, 491, 490, 476]    0  0.080659  \n",
      "4887  [498, 497, 496, 495, 494, 493, 492, 490, 476]    1  0.121557  \n",
      "4888  [498, 497, 496, 495, 494, 493, 492, 491, 476]    0  0.157829  \n",
      "4889  [498, 497, 496, 495, 494, 493, 492, 491, 490]   -1  0.366037  \n",
      "\n",
      "[4890 rows x 10 columns]\n"
     ]
    }
   ],
   "source": [
    "Muestra_Simulacion = Muestra_Completa.copy() # Creo una copia de la muestra original, por si se crean varias simulaciones diferentes\n",
    "UniformeNulo = pd.DataFrame(columns=['ID', 'Opinion', 'VotosPos', 'VotosNeg', 'Vistas', 'Ratio'])\n",
    "MinutoAMinutoUniformeNulo = pd.DataFrame(columns=['Sujeto', 'TipoDeDistribucion', 'Media/s', 'DesvioEstandar', 'Opinion Sujeto', 'ID Idea Mostrada', 'Idea Mostrada', 'Otras opiniones que vio', 'Voto', 'Distancia'])\n",
    "OpinanNoVotan = 0\n",
    "TiempoSimulacion = 0\n",
    "\n",
    "\n",
    "for i in Muestra_Simulacion:\n",
    "    ParticipanteActual = i\n",
    "    \n",
    "#     if OpinanNoVotan < QOpinionesExpuestas: # Lo cambio porque sino el metodo ratio no funciona\n",
    "    if OpinanNoVotan < 11:\n",
    "        # Si hay menos opiniones que las necesarias para mostrar los individuos van a opinar, no votar.\n",
    "        \n",
    "        UniformeNulo.at [OpinanNoVotan] = Muestra_Simulacion.get(i).get_ID(), Muestra_Simulacion.get(i).get_Oi(), 0, 0, 0, 0\n",
    "        OpinanNoVotan +=1\n",
    "    \n",
    "    else:\n",
    "        OpinionesFiltradas = UniformeNulo[UniformeNulo.Vistas < QVecesMuestroOpinion] # Filtro las ideas que tengan menos vistas del limite asignado\n",
    "        OpinionesParaVotar =  metodo_de_seleccion (OpinionesFiltradas) # Creo un dataframe con las ideas que va a ver el sujeto\n",
    "        UniformeNulo.at [i] = Muestra_Simulacion.get(i).get_ID(), Muestra_Simulacion.get(i).get_Oi(), 0, 0, 0, 0 # El agente opina\n",
    "        VotoActual = Muestra_Simulacion.get(i).votar(OpinionesParaVotar) # El agente vota \n",
    "        for i in VotoActual.index:\n",
    "            \n",
    "            if VotoActual.loc[i].at[0] == 1:\n",
    "                UniformeNulo.at [i,'VotosPos'] = UniformeNulo.at [i,'VotosPos'] + 1 # Le sumo un voto a la idea.\n",
    "            \n",
    "            if VotoActual.loc[i].at[0] == -1:\n",
    "                UniformeNulo.at [i,'VotosNeg'] = UniformeNulo.at [i,'VotosNeg'] + 1 # Le sumo un voto a la idea. \n",
    "        \n",
    "        for i in OpinionesParaVotar.index:\n",
    "            OpinionI = i\n",
    "            UniformeNulo.at [i,'Vistas'] = UniformeNulo.at [i,'Vistas'] + 1 # Le sumo una vista a la ideas expuestas   \n",
    "            UniformeNulo.at [i, 'Ratio'] = UniformeNulo.at[i, 'VotosPos'] / UniformeNulo.at [i, 'Vistas']\n",
    "            \n",
    "            # Armo un dataframe con el minuto a minuto de lo que fue pasando en la simulacion\n",
    "            CopiaOpiniones = OpinionesParaVotar.index.tolist()\n",
    "            CopiaOpiniones.remove(i)\n",
    "            MinutoAMinutoUniformeNulo.at [TiempoSimulacion] = Muestra_Simulacion.get(ParticipanteActual).get_ID(), Muestra_Simulacion.get(ParticipanteActual).get_Tipo(), Muestra_Simulacion.get(ParticipanteActual).get_Media(), Muestra_Simulacion.get(ParticipanteActual).get_DE(), Muestra_Simulacion.get(ParticipanteActual).get_Oi(), i, OpinionesParaVotar.at [i,'Opinion'], CopiaOpiniones, 0, Muestra_Simulacion.get(ParticipanteActual).comparar(OpinionesParaVotar.at [i,'Opinion'])\n",
    "          \n",
    "            if i in VotoActual.index:\n",
    "                for i in VotoActual.index:\n",
    "                    if i == OpinionI:\n",
    "                        MinutoAMinutoUniformeNulo.at [TiempoSimulacion,'Voto'] = VotoActual.at [i,0]  \n",
    "            TiempoSimulacion +=1\n",
    "\n",
    "            \n",
    "            \n",
    "print (UniformeNulo)\n",
    "print (MinutoAMinutoUniformeNulo)"
   ]
  },
  {
   "cell_type": "markdown",
   "id": "0949a9ab-461e-488c-8b90-def9e9342b79",
   "metadata": {},
   "source": [
    "### Univariada Nulo"
   ]
  },
  {
   "cell_type": "code",
   "execution_count": 114,
   "id": "de7ae07a-b0ec-45fb-adf7-bb86947fa8e7",
   "metadata": {},
   "outputs": [
    {
     "name": "stderr",
     "output_type": "stream",
     "text": [
      "C:\\Users\\Mariano\\anaconda3\\lib\\site-packages\\pandas\\core\\internals\\blocks.py:993: VisibleDeprecationWarning: Creating an ndarray from ragged nested sequences (which is a list-or-tuple of lists-or-tuples-or ndarrays with different lengths or shapes) is deprecated. If you meant to do this, you must specify 'dtype=object' when creating the ndarray.\n",
      "  arr_value = np.array(value)\n"
     ]
    },
    {
     "name": "stdout",
     "output_type": "stream",
     "text": [
      "      ID                 Opinion VotosPos VotosNeg Vistas     Ratio\n",
      "0    500    [0.5221517779460965]        4        2      9  0.444444\n",
      "1    501   [0.24038348723949915]        4        0      9  0.444444\n",
      "2    502   [-0.8550878500864544]        4        0      9  0.444444\n",
      "3    503   [-0.7076595081559618]        0        3      9       0.0\n",
      "4    504   [0.35641670957461014]        2        0      9  0.222222\n",
      "..   ...                     ...      ...      ...    ...       ...\n",
      "995  995   [0.37734718522072824]        2        0      4       0.5\n",
      "996  996  [-0.45204195386336254]        1        0      3  0.333333\n",
      "997  997   [-0.8990806196285515]        0        0      2       0.0\n",
      "998  998  [-0.31290092551683524]        0        0      1       0.0\n",
      "999  999    [0.2871918772539168]        0        0      0         0\n",
      "\n",
      "[500 rows x 6 columns]\n",
      "     Sujeto TipoDeDistribucion Media/s DesvioEstandar        Opinion Sujeto  \\\n",
      "0       511         univariada     [0]            0.5  [0.7621258659390493]   \n",
      "1       511         univariada     [0]            0.5  [0.7621258659390493]   \n",
      "2       511         univariada     [0]            0.5  [0.7621258659390493]   \n",
      "3       511         univariada     [0]            0.5  [0.7621258659390493]   \n",
      "4       511         univariada     [0]            0.5  [0.7621258659390493]   \n",
      "...     ...                ...     ...            ...                   ...   \n",
      "4885    999         univariada     [0]            0.5  [0.2871918772539168]   \n",
      "4886    999         univariada     [0]            0.5  [0.2871918772539168]   \n",
      "4887    999         univariada     [0]            0.5  [0.2871918772539168]   \n",
      "4888    999         univariada     [0]            0.5  [0.2871918772539168]   \n",
      "4889    999         univariada     [0]            0.5  [0.2871918772539168]   \n",
      "\n",
      "     ID Idea Mostrada          Idea Mostrada  \\\n",
      "0                   0   [0.5221517779460965]   \n",
      "1                   1  [0.24038348723949915]   \n",
      "2                   2  [-0.8550878500864544]   \n",
      "3                   3  [-0.7076595081559618]   \n",
      "4                   4  [0.35641670957461014]   \n",
      "...               ...                    ...   \n",
      "4885              993  [-0.6698465617069119]   \n",
      "4886              992  [0.34212902010730456]   \n",
      "4887              991    [0.865149082612918]   \n",
      "4888              990   [0.6967745571437131]   \n",
      "4889              976  [0.08831001486112551]   \n",
      "\n",
      "                            Otras opiniones que vio Voto Distancia  \n",
      "0                       [1, 2, 3, 4, 5, 6, 7, 8, 9]    0  0.239974  \n",
      "1                       [0, 2, 3, 4, 5, 6, 7, 8, 9]    1  0.521742  \n",
      "2                       [0, 1, 3, 4, 5, 6, 7, 8, 9]    1  1.617214  \n",
      "3                       [0, 1, 2, 4, 5, 6, 7, 8, 9]   -1  1.469785  \n",
      "4                       [0, 1, 2, 3, 5, 6, 7, 8, 9]    0  0.405709  \n",
      "...                                             ...  ...       ...  \n",
      "4885  [998, 997, 996, 995, 994, 992, 991, 990, 976]   -1  0.957038  \n",
      "4886  [998, 997, 996, 995, 994, 993, 991, 990, 976]    0  0.054937  \n",
      "4887  [998, 997, 996, 995, 994, 993, 992, 990, 976]    0  0.577957  \n",
      "4888  [998, 997, 996, 995, 994, 993, 992, 991, 976]    0  0.409583  \n",
      "4889  [998, 997, 996, 995, 994, 993, 992, 991, 990]    0  0.198882  \n",
      "\n",
      "[4890 rows x 10 columns]\n"
     ]
    }
   ],
   "source": [
    "Tipo = 'univariada' # Puede ser  'uniforme', ' univariada' o 'multivariada'\n",
    "Media = [0]  # Debe ser una lista, y debe tener [start,stop] para el caso uniforme, o un numero para las univariadas y las multivariadas\n",
    "\n",
    "Muestra_Completa = {}\n",
    "for k in range (500):\n",
    "    #Muestra_Completa [k] = AgenteNulo (Tipo, Media, str(uuid4()))\n",
    "    Muestra_Completa [id_inicial] = AgenteNulo (Tipo, Media, id_inicial)\n",
    "    id_inicial += 1\n",
    "\n",
    "Muestra_Simulacion = Muestra_Completa.copy() # Creo una copia de la muestra original, por si se crean varias simulaciones diferentes\n",
    "UnivariadaNulo = pd.DataFrame(columns=['ID', 'Opinion', 'VotosPos', 'VotosNeg', 'Vistas', 'Ratio'])\n",
    "MinutoAMinutoUnivariadaNulo = pd.DataFrame(columns=['Sujeto', 'TipoDeDistribucion', 'Media/s', 'DesvioEstandar', 'Opinion Sujeto', 'ID Idea Mostrada', 'Idea Mostrada', 'Otras opiniones que vio', 'Voto', 'Distancia'])\n",
    "OpinanNoVotan = 0\n",
    "TiempoSimulacion = 0\n",
    "\n",
    "\n",
    "for i in Muestra_Simulacion:\n",
    "    ParticipanteActual = i\n",
    "    \n",
    "#     if OpinanNoVotan < QOpinionesExpuestas: # Lo cambio porque sino el metodo ratio no funciona\n",
    "    if OpinanNoVotan < 11:\n",
    "        # Si hay menos opiniones que las necesarias para mostrar los individuos van a opinar, no votar.\n",
    "        \n",
    "        UnivariadaNulo.at [OpinanNoVotan] = Muestra_Simulacion.get(i).get_ID(), Muestra_Simulacion.get(i).get_Oi(), 0, 0, 0, 0\n",
    "        OpinanNoVotan +=1\n",
    "    \n",
    "    else:\n",
    "        OpinionesFiltradas = UnivariadaNulo[UnivariadaNulo.Vistas < QVecesMuestroOpinion] # Filtro las ideas que tengan menos vistas del limite asignado\n",
    "        OpinionesParaVotar =  metodo_de_seleccion (OpinionesFiltradas) # Creo un dataframe con las ideas que va a ver el sujeto\n",
    "        UnivariadaNulo.at [i] = Muestra_Simulacion.get(i).get_ID(), Muestra_Simulacion.get(i).get_Oi(), 0, 0, 0, 0 # El agente opina\n",
    "        VotoActual = Muestra_Simulacion.get(i).votar(OpinionesParaVotar) # El agente vota \n",
    "        for i in VotoActual.index:\n",
    "            \n",
    "            if VotoActual.loc[i].at[0] == 1:\n",
    "                UnivariadaNulo.at [i,'VotosPos'] = UnivariadaNulo.at [i,'VotosPos'] + 1 # Le sumo un voto a la idea.\n",
    "            \n",
    "            if VotoActual.loc[i].at[0] == -1:\n",
    "                UnivariadaNulo.at [i,'VotosNeg'] = UnivariadaNulo.at [i,'VotosNeg'] + 1 # Le sumo un voto a la idea. \n",
    "        \n",
    "        for i in OpinionesParaVotar.index:\n",
    "            OpinionI = i\n",
    "            UnivariadaNulo.at [i,'Vistas'] = UnivariadaNulo.at [i,'Vistas'] + 1 # Le sumo una vista a la ideas expuestas   \n",
    "            UnivariadaNulo.at [i, 'Ratio'] = UnivariadaNulo.at[i, 'VotosPos'] / UnivariadaNulo.at [i, 'Vistas']\n",
    "            \n",
    "            # Armo un dataframe con el minuto a minuto de lo que fue pasando en la simulacion\n",
    "            CopiaOpiniones = OpinionesParaVotar.index.tolist()\n",
    "            CopiaOpiniones.remove(i)\n",
    "            MinutoAMinutoUnivariadaNulo.at [TiempoSimulacion] = Muestra_Simulacion.get(ParticipanteActual).get_ID(), Muestra_Simulacion.get(ParticipanteActual).get_Tipo(), Muestra_Simulacion.get(ParticipanteActual).get_Media(), Muestra_Simulacion.get(ParticipanteActual).get_DE(), Muestra_Simulacion.get(ParticipanteActual).get_Oi(), i, OpinionesParaVotar.at [i,'Opinion'], CopiaOpiniones, 0, Muestra_Simulacion.get(ParticipanteActual).comparar(OpinionesParaVotar.at [i,'Opinion'])\n",
    "          \n",
    "            if i in VotoActual.index:\n",
    "                for i in VotoActual.index:\n",
    "                    if i == OpinionI:\n",
    "                        MinutoAMinutoUnivariadaNulo.at [TiempoSimulacion,'Voto'] = VotoActual.at [i,0]  \n",
    "            TiempoSimulacion +=1\n",
    "\n",
    "            \n",
    "            \n",
    "print (UnivariadaNulo)\n",
    "print (MinutoAMinutoUnivariadaNulo)"
   ]
  },
  {
   "cell_type": "markdown",
   "id": "b8d5a155-66c3-425b-9dbc-c998276502f0",
   "metadata": {},
   "source": [
    "### Multivariada Nulo"
   ]
  },
  {
   "cell_type": "code",
   "execution_count": 115,
   "id": "a8ca3260-a2b6-470c-bca6-e408b2418357",
   "metadata": {},
   "outputs": [
    {
     "name": "stderr",
     "output_type": "stream",
     "text": [
      "C:\\Users\\Mariano\\anaconda3\\lib\\site-packages\\pandas\\core\\internals\\blocks.py:993: VisibleDeprecationWarning: Creating an ndarray from ragged nested sequences (which is a list-or-tuple of lists-or-tuples-or ndarrays with different lengths or shapes) is deprecated. If you meant to do this, you must specify 'dtype=object' when creating the ndarray.\n",
      "  arr_value = np.array(value)\n"
     ]
    },
    {
     "name": "stdout",
     "output_type": "stream",
     "text": [
      "        ID                                            Opinion VotosPos  \\\n",
      "0     1000  [-0.7084533422381171, 0.20044377072709135, 1.0...        1   \n",
      "1     1001  [-0.3184252244210052, 0.1866407561667937, -0.1...        2   \n",
      "2     1002  [0.2827804989751031, -0.4411355160656896, 0.38...        0   \n",
      "3     1003  [0.29903854048966594, -0.4478607802172581, -0....        5   \n",
      "4     1004  [-0.1472264104607638, 0.3544727294105635, -0.3...        3   \n",
      "...    ...                                                ...      ...   \n",
      "1495  1495  [0.29129842427429153, 0.7872068318172979, -0.6...        2   \n",
      "1496  1496  [-0.5523790601971291, 0.12689028820961692, -0....        0   \n",
      "1497  1497  [-0.6158129302353015, 0.09259891141564663, -0....        1   \n",
      "1498  1498  [-0.24270281250103365, -0.8138297308324522, 0....        0   \n",
      "1499  1499  [0.6200498558854031, 1.8330759520153461, -0.23...        0   \n",
      "\n",
      "     VotosNeg Vistas     Ratio  \n",
      "0           1      9  0.111111  \n",
      "1           0      9  0.222222  \n",
      "2           3      9       0.0  \n",
      "3           0      9  0.555556  \n",
      "4           0      9  0.333333  \n",
      "...       ...    ...       ...  \n",
      "1495        0      4       0.5  \n",
      "1496        0      3       0.0  \n",
      "1497        0      2       0.5  \n",
      "1498        0      1       0.0  \n",
      "1499        0      0         0  \n",
      "\n",
      "[500 rows x 6 columns]\n",
      "     Sujeto TipoDeDistribucion Media/s DesvioEstandar  \\\n",
      "0      1011       multivariada     [0]            0.5   \n",
      "1      1011       multivariada     [0]            0.5   \n",
      "2      1011       multivariada     [0]            0.5   \n",
      "3      1011       multivariada     [0]            0.5   \n",
      "4      1011       multivariada     [0]            0.5   \n",
      "...     ...                ...     ...            ...   \n",
      "4885   1499       multivariada     [0]            0.5   \n",
      "4886   1499       multivariada     [0]            0.5   \n",
      "4887   1499       multivariada     [0]            0.5   \n",
      "4888   1499       multivariada     [0]            0.5   \n",
      "4889   1499       multivariada     [0]            0.5   \n",
      "\n",
      "                                         Opinion Sujeto ID Idea Mostrada  \\\n",
      "0     [0.25157933512291425, -1.6777989454221067, 0.8...                0   \n",
      "1     [0.25157933512291425, -1.6777989454221067, 0.8...                1   \n",
      "2     [0.25157933512291425, -1.6777989454221067, 0.8...                2   \n",
      "3     [0.25157933512291425, -1.6777989454221067, 0.8...                3   \n",
      "4     [0.25157933512291425, -1.6777989454221067, 0.8...                4   \n",
      "...                                                 ...              ...   \n",
      "4885  [0.6200498558854031, 1.8330759520153461, -0.23...             1493   \n",
      "4886  [0.6200498558854031, 1.8330759520153461, -0.23...             1492   \n",
      "4887  [0.6200498558854031, 1.8330759520153461, -0.23...             1491   \n",
      "4888  [0.6200498558854031, 1.8330759520153461, -0.23...             1490   \n",
      "4889  [0.6200498558854031, 1.8330759520153461, -0.23...             1476   \n",
      "\n",
      "                                          Idea Mostrada  \\\n",
      "0     [-0.7084533422381171, 0.20044377072709135, 1.0...   \n",
      "1     [-0.3184252244210052, 0.1866407561667937, -0.1...   \n",
      "2     [0.2827804989751031, -0.4411355160656896, 0.38...   \n",
      "3     [0.29903854048966594, -0.4478607802172581, -0....   \n",
      "4     [-0.1472264104607638, 0.3544727294105635, -0.3...   \n",
      "...                                                 ...   \n",
      "4885  [1.1255630697257526, -1.1016902669527393, 0.30...   \n",
      "4886  [0.173474296808833, -0.1621981582145362, 0.130...   \n",
      "4887  [-0.3825252780312337, 1.2799385960061334, 0.04...   \n",
      "4888  [-1.2188532843499913, 0.9091251893087875, -0.7...   \n",
      "4889  [1.0646251274817862, 0.789707846205269, -0.000...   \n",
      "\n",
      "                                Otras opiniones que vio Voto Distancia  \n",
      "0                           [1, 2, 3, 4, 5, 6, 7, 8, 9]    0  2.113911  \n",
      "1                           [0, 2, 3, 4, 5, 6, 7, 8, 9]    0  2.194394  \n",
      "2                           [0, 1, 3, 4, 5, 6, 7, 8, 9]   -1   1.33582  \n",
      "3                           [0, 1, 2, 4, 5, 6, 7, 8, 9]    1   1.70286  \n",
      "4                           [0, 1, 2, 3, 5, 6, 7, 8, 9]    0  2.403118  \n",
      "...                                                 ...  ...       ...  \n",
      "4885  [1498, 1497, 1496, 1495, 1494, 1492, 1491, 149...    1  3.027078  \n",
      "4886  [1498, 1497, 1496, 1495, 1494, 1493, 1491, 149...    0  2.076837  \n",
      "4887  [1498, 1497, 1496, 1495, 1494, 1493, 1492, 149...   -1  1.178387  \n",
      "4888  [1498, 1497, 1496, 1495, 1494, 1493, 1492, 149...    0  2.115813  \n",
      "4889  [1498, 1497, 1496, 1495, 1494, 1493, 1492, 149...    0   1.15773  \n",
      "\n",
      "[4890 rows x 10 columns]\n"
     ]
    }
   ],
   "source": [
    "Tipo = 'multivariada' # Puede ser  'uniforme', ' univariada' o 'multivariada'\n",
    "Media = [0]  # Debe ser una lista, y debe tener [start,stop] para el caso uniforme, o un numero para las univariadas y las multivariadas\n",
    "\n",
    "Muestra_Completa = {}\n",
    "for k in range (500):\n",
    "    #Muestra_Completa [k] = AgenteNulo (Tipo, Media, str(uuid4()))\n",
    "    Muestra_Completa [id_inicial] = AgenteNulo (Tipo, Media, id_inicial)\n",
    "    id_inicial += 1\n",
    "    \n",
    "Muestra_Simulacion = Muestra_Completa.copy() # Creo una copia de la muestra original, por si se crean varias simulaciones diferentes\n",
    "MultivariadaNulo = pd.DataFrame(columns=['ID', 'Opinion', 'VotosPos', 'VotosNeg', 'Vistas', 'Ratio'])\n",
    "MinutoAMinutoMultivariadaNulo = pd.DataFrame(columns=['Sujeto', 'TipoDeDistribucion', 'Media/s', 'DesvioEstandar', 'Opinion Sujeto', 'ID Idea Mostrada', 'Idea Mostrada', 'Otras opiniones que vio', 'Voto', 'Distancia'])\n",
    "OpinanNoVotan = 0\n",
    "TiempoSimulacion = 0\n",
    "\n",
    "\n",
    "for i in Muestra_Simulacion:\n",
    "    ParticipanteActual = i\n",
    "    \n",
    "#     if OpinanNoVotan < QOpinionesExpuestas: # Lo cambio porque sino el metodo ratio no funciona\n",
    "    if OpinanNoVotan < 11:\n",
    "        # Si hay menos opiniones que las necesarias para mostrar los individuos van a opinar, no votar.\n",
    "        \n",
    "        MultivariadaNulo.at [OpinanNoVotan] = Muestra_Simulacion.get(i).get_ID(), Muestra_Simulacion.get(i).get_Oi(), 0, 0, 0, 0\n",
    "        OpinanNoVotan +=1\n",
    "    \n",
    "    else:\n",
    "        OpinionesFiltradas = MultivariadaNulo[MultivariadaNulo.Vistas < QVecesMuestroOpinion] # Filtro las ideas que tengan menos vistas del limite asignado\n",
    "        OpinionesParaVotar =  metodo_de_seleccion (OpinionesFiltradas) # Creo un dataframe con las ideas que va a ver el sujeto\n",
    "        MultivariadaNulo.at [i] = Muestra_Simulacion.get(i).get_ID(), Muestra_Simulacion.get(i).get_Oi(), 0, 0, 0, 0 # El agente opina\n",
    "        VotoActual = Muestra_Simulacion.get(i).votar(OpinionesParaVotar) # El agente vota \n",
    "        for i in VotoActual.index:\n",
    "            \n",
    "            if VotoActual.loc[i].at[0] == 1:\n",
    "                MultivariadaNulo.at [i,'VotosPos'] = MultivariadaNulo.at [i,'VotosPos'] + 1 # Le sumo un voto a la idea.\n",
    "            \n",
    "            if VotoActual.loc[i].at[0] == -1:\n",
    "                MultivariadaNulo.at [i,'VotosNeg'] = MultivariadaNulo.at [i,'VotosNeg'] + 1 # Le sumo un voto a la idea. \n",
    "        \n",
    "        for i in OpinionesParaVotar.index:\n",
    "            OpinionI = i\n",
    "            MultivariadaNulo.at [i,'Vistas'] = MultivariadaNulo.at [i,'Vistas'] + 1 # Le sumo una vista a la ideas expuestas   \n",
    "            MultivariadaNulo.at [i, 'Ratio'] = MultivariadaNulo.at[i, 'VotosPos'] / MultivariadaNulo.at [i, 'Vistas']\n",
    "            \n",
    "            # Armo un dataframe con el minuto a minuto de lo que fue pasando en la simulacion\n",
    "            CopiaOpiniones = OpinionesParaVotar.index.tolist()\n",
    "            CopiaOpiniones.remove(i)\n",
    "            MinutoAMinutoMultivariadaNulo.at [TiempoSimulacion] = Muestra_Simulacion.get(ParticipanteActual).get_ID(), Muestra_Simulacion.get(ParticipanteActual).get_Tipo(), Muestra_Simulacion.get(ParticipanteActual).get_Media(), Muestra_Simulacion.get(ParticipanteActual).get_DE(), Muestra_Simulacion.get(ParticipanteActual).get_Oi(), i, OpinionesParaVotar.at [i,'Opinion'], CopiaOpiniones, 0, Muestra_Simulacion.get(ParticipanteActual).comparar(OpinionesParaVotar.at [i,'Opinion'])\n",
    "          \n",
    "            if i in VotoActual.index:\n",
    "                for i in VotoActual.index:\n",
    "                    if i == OpinionI:\n",
    "                        MinutoAMinutoMultivariadaNulo.at [TiempoSimulacion,'Voto'] = VotoActual.at [i,0]  \n",
    "            TiempoSimulacion +=1\n",
    "\n",
    "            \n",
    "            \n",
    "print (MultivariadaNulo)\n",
    "print (MinutoAMinutoMultivariadaNulo)"
   ]
  },
  {
   "cell_type": "markdown",
   "id": "88dffd85",
   "metadata": {},
   "source": [
    "#### Graficos"
   ]
  },
  {
   "cell_type": "code",
   "execution_count": 212,
   "id": "80924441-7cbc-423a-aaca-0d79abf0e207",
   "metadata": {},
   "outputs": [
    {
     "name": "stderr",
     "output_type": "stream",
     "text": [
      "<ipython-input-212-9ac770aa8786>:77: MatplotlibDeprecationWarning: Adding an axes using the same arguments as a previous axes currently reuses the earlier instance.  In a future version, a new instance will always be created and returned.  Meanwhile, this warning can be suppressed, and the future behavior ensured, by passing a unique label to each axes instance.\n",
      "  plt.subplot(LEN, 1, 8)\n",
      "<ipython-input-212-9ac770aa8786>:82: MatplotlibDeprecationWarning: Adding an axes using the same arguments as a previous axes currently reuses the earlier instance.  In a future version, a new instance will always be created and returned.  Meanwhile, this warning can be suppressed, and the future behavior ensured, by passing a unique label to each axes instance.\n",
      "  plt.subplot(LEN, 1, 8)\n",
      "<ipython-input-212-9ac770aa8786>:91: UserWarning: Tight layout not applied. tight_layout cannot make axes height small enough to accommodate all axes decorations\n",
      "  plt.tight_layout()\n"
     ]
    },
    {
     "data": {
      "image/png": "[encoded data removed]",
      "text/plain": [
       "<Figure size 432x288 with 8 Axes>"
      ]
     },
     "metadata": {
      "needs_background": "light"
     },
     "output_type": "display_data"
    }
   ],
   "source": [
    "LEN = 8\n",
    "\n",
    "plt.subplot(LEN, 1, 1)\n",
    "plt.hist([UniformeNulo.Vistas,UnivariadaNulo.Vistas,MultivariadaNulo.Vistas], \n",
    "         label=['UniformeNulo', 'UnivariadaNulo', 'MultivariadaNulo'],rwidth=0.85)\n",
    "plt.legend(loc='best')\n",
    "plt.title (\"Vistas\")\n",
    "\n",
    "plt.subplot(LEN, 1, 2)\n",
    "plt.hist([UniformeNulo.VotosPos,UnivariadaNulo.VotosPos,MultivariadaNulo.VotosPos], \n",
    "         label=['UniformeNulo', 'UnivariadaNulo', 'MultivariadaNulo'],rwidth=0.85)\n",
    "plt.legend(loc='best')\n",
    "plt.title (\"Votos Positivos\")\n",
    "\n",
    "plt.subplot(LEN, 1, 3)\n",
    "UniformeNuloPosFiltrado = UniformeNulo[UniformeNulo.VotosPos > 0]\n",
    "UnivariadaNuloPosFiltrado = UnivariadaNulo[UnivariadaNulo.VotosPos > 0]\n",
    "MultivariadaNuloPosFiltrado = MultivariadaNulo[MultivariadaNulo.VotosPos > 0]\n",
    "plt.hist([UniformeNuloPosFiltrado.VotosPos,UnivariadaNuloPosFiltrado.VotosPos,MultivariadaNuloPosFiltrado.VotosPos], \n",
    "         label=['UniformeNulo', 'UnivariadaNulo', 'MultivariadaNulo'],rwidth=0.85)\n",
    "plt.legend(loc='best')\n",
    "plt.title (\"Votos Positivos > 0\")\n",
    "\n",
    "plt.subplot(LEN, 1, 4)\n",
    "plt.hist([UniformeNulo.VotosNeg,UnivariadaNulo.VotosNeg,MultivariadaNulo.VotosNeg], \n",
    "         label=['UniformeNulo', 'UnivariadaNulo', 'MultivariadaNulo'],rwidth=0.85)\n",
    "plt.legend(loc='best')\n",
    "plt.title (\"Votos Negativos\")\n",
    "\n",
    "plt.subplot(LEN, 1, 5)\n",
    "UniformeNuloNegFiltrado = UniformeNulo[UniformeNulo.VotosNeg > 0]\n",
    "UnivariadaNuloNegFiltrado = UnivariadaNulo[UnivariadaNulo.VotosNeg > 0]\n",
    "MultivariadaNuloNegFiltrado = MultivariadaNulo[MultivariadaNulo.VotosNeg > 0]\n",
    "plt.hist([UniformeNuloNegFiltrado.VotosNeg,UnivariadaNuloNegFiltrado.VotosNeg,MultivariadaNuloNegFiltrado.VotosNeg], \n",
    "         label=['UniformeNulo', 'UnivariadaNulo', 'MultivariadaNulo'],rwidth=0.85)\n",
    "plt.legend(loc='best')\n",
    "plt.title (\"Votos Negativos > 0\")\n",
    "\n",
    "plt.subplot(LEN, 1, 6)\n",
    "plt.hist([UniformeNulo.Ratio,UnivariadaNulo.Ratio,MultivariadaNulo.Ratio], \n",
    "         label=['UniformeNulo', 'UnivariadaNulo', 'MultivariadaNulo'],rwidth=0.85)\n",
    "plt.legend(loc='best')\n",
    "plt.title (\"Ratio\")\n",
    "\n",
    "# Ratio p ideas con + 1 voto pos o neg\n",
    "for i in UniformeNulo.index:\n",
    "    FiltradaUniforme = UniformeNulo.copy ()\n",
    "    if FiltradaUniforme.at [i, 'VotosPos'] > 0 or FiltradaUniforme.at [i, 'VotosNeg'] > 0:\n",
    "        pass\n",
    "    else: \n",
    "        FiltradaUniforme.drop (i, inplace = True)\n",
    "\n",
    "for i in UnivariadaNulo.index:\n",
    "    FiltradaUnivariada = UnivariadaNulo.copy ()\n",
    "    if FiltradaUnivariada.at [i, 'VotosPos'] > 0 or FiltradaUnivariada.at [i, 'VotosNeg'] > 0:\n",
    "        pass\n",
    "    else: \n",
    "        FiltradaUnivariada.drop (i, inplace = True)\n",
    "\n",
    "for i in MultivariadaNulo.index:\n",
    "    FiltradaMultivariada = MultivariadaNulo.copy ()\n",
    "    if FiltradaMultivariada.at [i, 'VotosPos'] > 0 or FiltradaMultivariada.at [i, 'VotosNeg'] > 0:\n",
    "        pass\n",
    "    else: \n",
    "        FiltradaMultivariada.drop (i, inplace = True)       \n",
    "plt.subplot(LEN, 1, 7)\n",
    "plt.hist([FiltradaUniforme.Ratio,FiltradaUnivariada.Ratio,FiltradaMultivariada.Ratio], \n",
    "         label=['UniformeNulo', 'UnivariadaNulo', 'MultivariadaNulo'],rwidth=0.85)\n",
    "plt.legend(loc='best')\n",
    "plt.title (\"Ratio > 0 Votos Pos / Neg\")\n",
    "\n",
    "plt.subplot(LEN, 1, 8)\n",
    "plt.scatter(UniformeNulo.Ratio, UniformeNulo.Vistas, color='blue')\n",
    "plt.legend ('UniformeNulo', loc = 'upper left')\n",
    "plt.title ('Ratio x visualizaciones')\n",
    "\n",
    "plt.subplot(LEN, 1, 8)\n",
    "plt.scatter(UnivariadaNulo.Ratio, UnivariadaNulo.Vistas, color='orange')\n",
    "plt.legend ('UnivariadaNulo', loc = 'upper center')\n",
    "plt.title ('Ratio x visualizaciones')\n",
    "\n",
    "plt.subplot(LEN, 1, 8)\n",
    "plt.scatter(MultivariadaNulo.Ratio, MultivariadaNulo.Vistas, color='green')\n",
    "plt.legend ('MultivariadaNulo', loc = 'upper right')\n",
    "plt.title ('Ratio x visualizaciones')\n",
    "\n",
    "# Ratio x Visualizaciones para ideas con al menos un voto pos o neg. \n",
    "\n",
    "\n",
    "plt.suptitle(\"Modelo Nulo [Uniforme, Univariada y Multivariada]\")\n",
    "plt.tight_layout()\n",
    "plt.show()"
   ]
  },
  {
   "cell_type": "code",
   "execution_count": null,
   "id": "28cad527-b98f-4413-a9e9-2f0c96f975e0",
   "metadata": {},
   "outputs": [],
   "source": []
  },
  {
   "cell_type": "code",
   "execution_count": 134,
   "id": "086504ed-ec57-42ee-a6f4-dbd83dbd2b73",
   "metadata": {},
   "outputs": [
    {
     "data": {
      "image/png": "[encoded data removed]",
      "text/plain": [
       "<Figure size 432x288 with 1 Axes>"
      ]
     },
     "metadata": {
      "needs_background": "light"
     },
     "output_type": "display_data"
    },
    {
     "data": {
      "image/png": "[encoded data removed]",
      "text/plain": [
       "<Figure size 432x288 with 1 Axes>"
      ]
     },
     "metadata": {
      "needs_background": "light"
     },
     "output_type": "display_data"
    },
    {
     "data": {
      "image/png": "[encoded data removed]",
      "text/plain": [
       "<Figure size 432x288 with 1 Axes>"
      ]
     },
     "metadata": {
      "needs_background": "light"
     },
     "output_type": "display_data"
    }
   ],
   "source": [
    "# plt.hist(MultivariadaNulo.VotosPos.values.tolist()) #Wm.index.values.tolist()\n",
    "plt.hist([UniformeNulo.VotosPos,UnivariadaNulo.VotosPos,MultivariadaNulo.VotosPos], label=['UniformeNulo', 'UnivariadaNulo', 'MultivariadaNulo'],rwidth=0.85)\n",
    "plt.legend(loc='upper right')\n",
    "plt.show()\n",
    "# plt.hist(MultivariadaNulo.VotosPos, color='#F2AB6D', rwidth=0.85)\n",
    "# plt.title('Modelo Nulo [Uniforme, Univariada y Multivariada]')\n",
    "# plt.xlabel('Votos Positivos')\n",
    "# plt.ylabel('Frecuencia')\n",
    "\n",
    "plt.hist([UniformeNulo.VotosPos,UnivariadaNulo.VotosPos,MultivariadaNulo.VotosPos], label=['UniformeNulo', 'UnivariadaNulo', 'MultivariadaNulo'])\n",
    "plt.legend(loc='upper right')\n",
    "plt.show()\n",
    "\n",
    "plt.hist(UniformeNulo.VotosPos, label='Uniforme Nulo')\n",
    "plt.hist(UnivariadaNulo.VotosPos, alpha = 0.5, label='Univariada Nulo')\n",
    "plt.hist(MultivariadaNulo.VotosPos, alpha = 0.5, label='Multivariada Nulo')\n",
    "plt.legend(loc='upper right')\n",
    "\n",
    "plt.show()"
   ]
  },
  {
   "cell_type": "markdown",
   "id": "09242899-3e80-472e-a1df-569d569b7490",
   "metadata": {},
   "source": [
    "# ↓↓↓↓↓ BORRADORES Y BOLUDECES ↓↓↓↓↓"
   ]
  },
  {
   "cell_type": "code",
   "execution_count": null,
   "id": "6753ad93",
   "metadata": {},
   "outputs": [],
   "source": [
    "\n",
    "\n",
    "\n",
    "if Tipo in ['uniforme','univariada']:\n",
    "    \n",
    "    for i in DataSave.index:\n",
    "    # Para hacer que la opinion no sea una lista.\n",
    "        DataSave.at [i,'Opinion'] = DataSave.at [i,'Opinion'][0]\n",
    "    \n",
    "    # A1. Distribuciòn de cantidad de visualizaciones\n",
    "    A1 = DataSave.plot(kind='scatter',x='Opinion',y='Vistas',color='blue')\n",
    "    plt.title ('A1. Distribuciòn de cantidad de visualizaciones')\n",
    "    plt.show()\n",
    "    \n",
    "    # B1. Distribución de votos positivos.\n",
    "    B1 = DataSave.plot(kind='scatter',x='Opinion',y='VotosPos',color='green')\n",
    "    plt.title ('B1. Distribución de votos positivos')\n",
    "    plt.show()\n",
    "    \n",
    "    # B2. Distribución de votos positivos para ideas que tengan mas de 0 votos positivos\n",
    "    VotosPosFiltrados = DataSave[DataSave.VotosPos > 0]\n",
    "    B2 = VotosPosFiltrados.plot(kind='scatter',x='Opinion',y='VotosPos',color='green')\n",
    "    plt.title ('B2. Distribución de votos positivos para ideas que tengan mas de 0 votos positivos')\n",
    "    plt.show()\n",
    "    \n",
    "    # C1. Distribución de votos negativos.\n",
    "    C1 = DataSave.plot(kind='scatter',x='Opinion',y='VotosNeg',color='red')\n",
    "    plt.title ('C1. Distribución de votos negativos')\n",
    "    plt.show()\n",
    "    \n",
    "    # C2. Distribución de votos negativos para ideas que tengan mas de 0 votos negativos\n",
    "    VotosNegFiltrados = DataSave[DataSave.VotosNeg > 0]\n",
    "    C2 = VotosNegFiltrados.plot(kind='scatter',x='Opinion',y='VotosNeg',color='green')\n",
    "    plt.title ('C2. Distribución de votos negativos para ideas que tengan mas de 0 votos negativos')\n",
    "    plt.show()\n",
    "    \n",
    "    # D1. Distribución de rates.\n",
    "    D1 = DataSave.plot(kind='scatter',x='Opinion',y='Ratio',color='orange')\n",
    "    plt.title ('D1. Distribución de rates')\n",
    "    plt.show()\n",
    "    \n",
    "    # D2. Distribución de rates para ideas que tengan al menos X votos pos o neg\n",
    "    LimVotPos = 1\n",
    "    LimVotNeg = 1\n",
    "    VotosPosFiltrados = DataSave[DataSave.VotosPos > LimVotPos]\n",
    "    VotosFiltrados = VotosPosFiltrados[DataSave.VotosNeg > LimVotNeg]\n",
    "    D2 = VotosFiltrados.plot(kind='scatter',x='Opinion',y='Ratio',color='green')\n",
    "    plt.title ('D21. Distribución de rates para ideas que tengan al menos ' + str(LimVotNeg) + ' votos pos y '  + str(LimVotNeg) + ' votos neg')\n",
    "    plt.show()\n",
    "        \n",
    "    \n",
    "    # E1. Distribución de rates x visualizaciones\n",
    "    E1 = DataSave.plot(kind='scatter',x='Ratio',y='Vistas',color='orange')\n",
    "    plt.title ('E1. Distribución de rates x visualizaciones')\n",
    "    plt.show()\n",
    "    \n",
    "    # E2. Distribución de rates x visualizaciones\n",
    "    print ('E2. Distribución de rates x visualizaciones')"
   ]
  },
  {
   "cell_type": "code",
   "execution_count": null,
   "id": "8dcdb8b4",
   "metadata": {},
   "outputs": [],
   "source": [
    "if Tipo == 'multivariada':\n",
    "    for i in DataSave.index:\n",
    "    # Para hacer que la opinion no sea una lista.\n",
    "        Opinion = DataSave.at [i,'Opinion']\n",
    "        DataSave.at [i,'OpinionA'] = Opinion [0]\n",
    "        DataSave.at [i,'OpinionB'] = Opinion [1]\n",
    "        DataSave.at [i,'OpinionC'] = Opinion [2]\n",
    "    OpinionAList = DataSave.OpinionA.tolist()\n",
    "    OpinionBList = DataSave.OpinionB.tolist()\n",
    "    OpinionCList = DataSave.OpinionC.tolist()\n",
    "    \n",
    "    fig = plt.figure()\n",
    "    ax1 = fig.add_subplot(111, projection='3d')\n",
    "    ax1.scatter(OpinionAList, OpinionBList, OpinionCList, c='g', marker='o')"
   ]
  },
  {
   "cell_type": "code",
   "execution_count": null,
   "id": "31251cb0",
   "metadata": {},
   "outputs": [],
   "source": []
  },
  {
   "cell_type": "markdown",
   "id": "3c3eed53",
   "metadata": {},
   "source": [
    "# Ejemplo Mezcla"
   ]
  },
  {
   "cell_type": "markdown",
   "id": "9d72511c",
   "metadata": {},
   "source": [
    "Es necesario tener definido el valor de sigma por fuera, como una variable global. Si queremos que la distancia sea de dos sigma lo definimos como el valor de sigma/1, de manera general se define como el valor de sigma/_q_ siendo _q_ la mitad del valor de la cantidad de desvios que quiero a partir de sigma. "
   ]
  },
  {
   "cell_type": "code",
   "execution_count": null,
   "id": "51f4272a",
   "metadata": {},
   "outputs": [],
   "source": [
    "sigma = 0.5"
   ]
  },
  {
   "cell_type": "markdown",
   "id": "5237ff34",
   "metadata": {},
   "source": [
    "El resto de las variables se definen de la misma manera"
   ]
  },
  {
   "cell_type": "code",
   "execution_count": null,
   "id": "c00271aa",
   "metadata": {},
   "outputs": [],
   "source": [
    "Tipo = 'univariada' # Puede ser  'uniforme', ' univariada' o 'multivariada'\n",
    "Media = [0]  # Debe ser una lista, y debe tener [start,stop] para el caso uniforme, o un numero para las univariadas y las multivariadas"
   ]
  },
  {
   "cell_type": "markdown",
   "id": "d5503b0b",
   "metadata": {},
   "source": [
    "Si queremos hacer una mezcla de dos distribuciones podemos asegurarnos que esten centradas en el 0"
   ]
  },
  {
   "cell_type": "code",
   "execution_count": null,
   "id": "0b193a65",
   "metadata": {},
   "outputs": [],
   "source": [
    "id_inicial = 1\n",
    "Muestra_Completa = {}\n",
    "for k in range (1,TamañoDeLaMuestra[1]):\n",
    "    #Muestra_Completa [k] = AgenteNulo (Tipo, Media, str(uuid4()))\n",
    "    Muestra_Completa [id_inicial] = AgenteNulo (Tipo, np.random.choice([0-sigma,0+sigma],1), id_inicial)\n",
    "    id_inicial += 1"
   ]
  },
  {
   "cell_type": "markdown",
   "id": "b0b9057e",
   "metadata": {},
   "source": [
    "Este metodo no funciona para mezclas de mas de dos distribuciones porque ahi calcular el centro no es tan sencillo. De manera general se elige un sigma entre las distribuciones igual que antes (vamos a usar el que ya fue definido). Se crea una lista con valores False (para detectar cuando haya habido un bug) de longitud igual a la cantidad de mezclas que se quiere tener."
   ]
  },
  {
   "cell_type": "code",
   "execution_count": null,
   "id": "ee7b9c8b",
   "metadata": {},
   "outputs": [],
   "source": [
    "MezclaSize = 2 #Aca 3 es el numero que indica la cantidad de mezclas que quiero tener\n",
    "ListaDeMediasDeMezcla = [False] * MezclaSize \n",
    "PolarizationSize = 1 #Cuanta polarizacion quiero que haya\n",
    "for m in range(len(ListaDeMediasDeMezcla)):\n",
    "    ListaDeMediasDeMezcla[m] = (0 + (sigma * m)*PolarizationSize)"
   ]
  },
  {
   "cell_type": "code",
   "execution_count": null,
   "id": "9295a755",
   "metadata": {},
   "outputs": [],
   "source": [
    "ListaDeMediasDeMezcla"
   ]
  },
  {
   "cell_type": "markdown",
   "id": "a91edaa2",
   "metadata": {},
   "source": [
    "Al final una vez que se tiene la lista con las medias de cada distribucion que compone la mezcla se repite el mismo llamado de antes. "
   ]
  },
  {
   "cell_type": "code",
   "execution_count": null,
   "id": "2281d270",
   "metadata": {},
   "outputs": [],
   "source": [
    "np.random.choice(ListaDeMediasDeMezcla,1)"
   ]
  },
  {
   "cell_type": "code",
   "execution_count": null,
   "id": "bdb00f61",
   "metadata": {},
   "outputs": [],
   "source": []
  }
 ],
 "metadata": {
  "kernelspec": {
   "display_name": "Python 3",
   "language": "python",
   "name": "python3"
  },
  "language_info": {
   "codemirror_mode": {
    "name": "ipython",
    "version": 3
   },
   "file_extension": ".py",
   "mimetype": "text/x-python",
   "name": "python",
   "nbconvert_exporter": "python",
   "pygments_lexer": "ipython3",
   "version": "3.8.8"
  },
  "vscode": {
   "interpreter": {
    "hash": "1ae8e237121b070a5de8d64c0638415fb86a17ae52eb5cef1445a5593409f524"
   }
  }
 },
 "nbformat": 4,
 "nbformat_minor": 5
}
