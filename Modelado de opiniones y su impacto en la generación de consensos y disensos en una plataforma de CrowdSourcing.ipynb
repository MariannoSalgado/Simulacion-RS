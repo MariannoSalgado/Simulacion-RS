{
 "cells": [
  {
   "cell_type": "markdown",
   "id": "c796cf14-1352-47b7-89b0-bc9fd4572ea1",
   "metadata": {},
   "source": [
    "## Modelado de opiniones y su impacto en la generación de consensos y disensos en una plataforma de CrowdSourcing"
   ]
  },
  {
   "cell_type": "markdown",
   "id": "49ca21da-3f62-40ee-b6fa-ccc27c8c3de0",
   "metadata": {},
   "source": [
    "El objetivo de la simulación es dilucidar el funcionamiento de las dinámicas de opinión en una plataforma de CrowdSourcing donde las personas expresan sus opiniones y votan las expresadas por otros bajo una serie de condiciones especificadas por el contexto de la plataforma."
   ]
  },
  {
   "cell_type": "code",
   "execution_count": 12,
   "id": "32e4d958-bbc7-4849-ad05-70073319f77e",
   "metadata": {},
   "outputs": [],
   "source": [
    "import random, numpy as np, pandas as pd, matplotlib.pyplot as plt\n",
    "from pandas import Series, DataFrame\n",
    "from uuid import uuid4\n",
    "#pd.options.mode.chained_assignment = None \n",
    "\n",
    "TamañoDeLaMuestra = [100, 200, 500, 1000] # Cantidad de agentes que quiero en la muestra."
   ]
  },
  {
   "cell_type": "markdown",
   "id": "7b2014e1-e216-4112-af66-cb4632ab838b",
   "metadata": {},
   "source": [
    "# Agentes"
   ]
  },
  {
   "cell_type": "markdown",
   "id": "2dbe1bf3",
   "metadata": {},
   "source": [
    "## Agente"
   ]
  },
  {
   "cell_type": "markdown",
   "id": "dc228dc7",
   "metadata": {},
   "source": [
    "Agente es una clase que cuenta con los siguientes atributos:\n",
    "\n",
    "* **Oi** = Contiene la opinion de cada agente. Va a ser siempre numerico pero dependiendo la simulacion puede ser un solo numero (real) o un vector de varios numeros (reales), independientemente de como se generan que siempre lo hacen a partir de la realizacion de algun tipo de distribucion conocida en un espacio univariado o multivariado.  \n",
    "* **ID** = Es un numero entero definido bla bla\n",
    "* **IdeasVistas** = Es una lista que contiene los IDs de las ideas que va a ver este agente.  \n",
    "* **IdeasVotadas** = Es una lista que contiene los IDs de las ideas que va a ver este agente.\n",
    "* **Valencias** = Es una lista que contiene el valor que toma el voto de este agente."
   ]
  },
  {
   "cell_type": "code",
   "execution_count": 2,
   "id": "292977c0",
   "metadata": {},
   "outputs": [],
   "source": [
    "class Agente (object):\n",
    "    def __init__ (self, tipo, ID):\n",
    "        self.Oi = self.set_Oi (tipo)\n",
    "        self.ID = ID\n",
    "        self.IdeasVistas = []\n",
    "        self.IdeasVotadas = []\n",
    "        self.Valencias = []\n",
    "\n",
    "###############################################################################################\n",
    "# Tengo que configurar como generarle la opinion al sujeto\n",
    "\n",
    "    def set_Oi (self, tipo):\n",
    "        if tipo != \"uniforme\" and tipo != \"normal\":\n",
    "            raise Exception(\"El tipo de opinion solo puede ser \"\"uniforme\"\"o \"\"normal\")\n",
    "            \n",
    "        if tipo == \"uniforme\":\n",
    "            opinion = random.uniform (-1,1)\n",
    "        # if tipo == \"normal\": \n",
    "            # opinion = ¤SETEAR LA OPINION NORMAL ###############################################################################################\n",
    "        return opinion\n",
    "\n",
    "###############################################################################################\n",
    "\n",
    "    def append_IdeasVistas (self, IdeaVista):\n",
    "        self.IdeasVistas.append (IdeaVista)\n",
    "\n",
    "    def append_IdeasVotadas (self, IdeaVotada):\n",
    "        self.IdeasVotadas.append (IdeaVotada)   \n",
    "\n",
    "    def append_Valencias (self, Valencias):\n",
    "        self.Valencias.append (Valencias) \n",
    "\n",
    "    def algvotar (self, ideas, tipo): # Asume que se le da un dataframe con las opiniones (distribuidas uniformemente),\n",
    "        Comp = 3             # y devuelve cual es el ID de la idea mas cercana a la del sujeto\n",
    "        vota = 0\n",
    "        for i in ideas.index:\n",
    "            V = abs(ideas.at[i,'Opinion']-self.Oi)\n",
    "            if V == Comp:\n",
    "                vota = random.randint (i, vota)\n",
    "            elif tipo == \"Positivo\":\n",
    "                if V < Comp:\n",
    "                    vota = i\n",
    "                    Comp = V\n",
    "            elif tipo == \"Negativo\":\n",
    "                if V > Comp:\n",
    "                    vota = i\n",
    "                    Comp = V                \n",
    "        return vota # Me devuelve la id de la idea a votar \n",
    "\n",
    "    def ListaVotos (self, VotosPos, VotosNeg):\n",
    "        votos = VotosPos * [1] + VotosNeg * [-1]\n",
    "        return votos\n",
    "\n",
    "    def comparar (self, idea): # Devuelve la distancia entre la opinion que se le pase y la del sujeto\n",
    "        Distancia = abs(idea-self.Oi)\n",
    "        return Distancia\n",
    "    \n",
    "    def get_Oi (self):\n",
    "        return self.Oi\n",
    "    \n",
    "    def get_IdeasVistas (self):\n",
    "        return self.IdeasVistas\n",
    "\n",
    "    def get_ID (self):\n",
    "        return self.ID\n",
    "    \n",
    "    def clean_IdeasVistas (self):\n",
    "        self.IdeasVistas = []"
   ]
  },
  {
   "cell_type": "markdown",
   "id": "1d3bdf4d",
   "metadata": {},
   "source": [
    "### Agente Nulo"
   ]
  },
  {
   "cell_type": "code",
   "execution_count": 18,
   "id": "21281b55-f6bb-4b25-9195-13b177260010",
   "metadata": {},
   "outputs": [],
   "source": [
    "class AgenteNulo (Agente):  \n",
    "    \n",
    "    def votar (self, ideas): # Modelo de votacion aleatoria nulo\n",
    "        self.IdeasVistas.append (ideas)\n",
    "        Votara = ideas.sample (n = QIdeasAVotar)\n",
    "        votos = self.ListaVotos(VotosPos, VotosNeg)\n",
    "        vota = []\n",
    "        for i in Votara.index:\n",
    "            vota.append (i)\n",
    "        self.IdeasVotadas.append (vota)\n",
    "        self.Valencias.append (votos)\n",
    "        devuelve = pd.DataFrame(votos, vota)\n",
    "        return devuelve"
   ]
  },
  {
   "cell_type": "markdown",
   "id": "4c7281f8",
   "metadata": {},
   "source": [
    "## Agente Determinista"
   ]
  },
  {
   "cell_type": "code",
   "execution_count": 19,
   "id": "1530904b",
   "metadata": {},
   "outputs": [],
   "source": [
    "class AgenteDeterminista (AgenteNulo):\n",
    "        \n",
    "        def votar (self, ideas): # Aca solo elimino el tipo de votacion que va a quedar definido por la herencia de clase\n",
    "            self.IdeasVistas.append (ideas)\n",
    "            ideas2 = ideas.copy ()\n",
    "            vota = []\n",
    "            votos = self.ListaVotos(VotosPos, VotosNeg) # Esta funcion deberia tomar las variables globales que le paso a cada simulacion sobre cuantos votos quiero que tenga c/u nose si va a funcionar\n",
    "            for i in votos:\n",
    "                if i == 1:\n",
    "                    va = self.algvotar (ideas2, \"Positivo\")\n",
    "                    ideas2.drop (va)\n",
    "                    vota.append (va)\n",
    "                if i == -1:\n",
    "                    va = self.algvotar (ideas2, \"Negativo\")\n",
    "                    ideas2.drop (va)\n",
    "                    vota.append (va)\n",
    "            self.IdeasVotadas.append (vota)\n",
    "            self.Valencias.append (votos)\n",
    "            devuelve = pd.DataFrame(votos, vota)\n",
    "            return devuelve"
   ]
  },
  {
   "cell_type": "markdown",
   "id": "dc4e7859",
   "metadata": {},
   "source": [
    "## Agente Probabilistico"
   ]
  },
  {
   "cell_type": "code",
   "execution_count": 20,
   "id": "8c1b367a",
   "metadata": {},
   "outputs": [],
   "source": [
    "class AgenteProbabilistico (AgenteNulo):\n",
    "    pass\n",
    "    # FALTA ARMAR ESTO ################################################################################\n"
   ]
  },
  {
   "cell_type": "markdown",
   "id": "77883e8b-9284-4078-b968-ca00d254467f",
   "metadata": {},
   "source": [
    "### Metodos se seleccion de ideas"
   ]
  },
  {
   "cell_type": "markdown",
   "id": "7a16a429",
   "metadata": {},
   "source": [
    "Esta funcion define la manera en que se va a controlar las ideas que le van a ser presentadas a un agente. Existen dos metodos con que se pueden seleccionar las ideas dependiendo del argumento `tipo` pasado a la funcion.\n",
    "\n",
    "* Metodo uno (`tipo = 'menos vistas'`): Comprende elegir aquellas ideas que tengan menor cantidad de vistas\n",
    "* Metodo dos (`tipo = 'ratio'`): Comprende elegir en partes iguales, la mitad de las ideas segun la cantidad de vistas igual que con el metodo uno y la otra mitad de las ideas segun el ratio de votos positivos y cantidad de vistas. "
   ]
  },
  {
   "cell_type": "code",
   "execution_count": 6,
   "id": "13bcbc3f-9445-4628-8870-ec0bc4dde962",
   "metadata": {},
   "outputs": [],
   "source": [
    "def metodo_de_seleccion (lista, tipo):\n",
    "    \n",
    "    if tipo == \"menos vistas\":\n",
    "        lista.sort_values(by='Vistas', inplace=True)\n",
    "        Devuelve = lista.iloc[:QOpinionesExpuestas, :2]\n",
    "        return Devuelve\n",
    "    \n",
    "    if tipo == \"ratio\":\n",
    "        lista.sort_values(by=['Votos'], ascending=False, inplace=True)\n",
    "        OpinionesMasVotadas = lista.iloc[:10, :2] # \n",
    "        OpinionesMasVotadasSeleccionadas = OpinionesMasVotadas.sample (n=3)\n",
    "        RestoDeOpiniones = lista.iloc[10:, :]\n",
    "        RestoDeOpiniones.sort_values(by='Ratio', ascending=False, inplace=True)\n",
    "        OpinionesConMayorRatio = RestoDeOpiniones.iloc[:10, :2]  # Creo un df con las 10 opiniones con mayor ratio\n",
    "        OpinionesConMayorRatioSeleccionadas = OpinionesConMayorRatio.sample (n=5)  # Selecciono 5 de las 10 opiniones con mayor ratio\n",
    "        OpinionesParaVotar = pd.concat([OpinionesMasVotadasSeleccionadas, OpinionesConMayorRatioSeleccionadas])\n",
    "        return OpinionesParaVotar\n",
    "    \n",
    "        "
   ]
  },
  {
   "cell_type": "markdown",
   "id": "7b8c9c12-7267-432d-866a-03cf742b8dde",
   "metadata": {},
   "source": [
    "### Simulacion Nula"
   ]
  },
  {
   "cell_type": "markdown",
   "id": "30f483ac",
   "metadata": {},
   "source": [
    "Se crea un diccionario para albergar a todos los agentes que van a componer la muestra. Para crear el diccionario se itera sobre el rango del tamaño de la muestra a usar (estando los distintos tamaños definidos en una lista) y se genera un nuevo elemento del diccionario (una instancia de la clase correspondiente a algun tipo de agente) con un indice igual al ID del sujeto. "
   ]
  },
  {
   "cell_type": "code",
   "execution_count": 14,
   "id": "3e6a14d1",
   "metadata": {},
   "outputs": [],
   "source": [
    "Muestra_Completa = {}\n",
    "for k in range (1,TamañoDeLaMuestra[1]):\n",
    "    Muestra_Completa [k*111] = AgenteNulo (\"uniforme\",str(uuid4()))"
   ]
  },
  {
   "cell_type": "markdown",
   "id": "f80e79fb",
   "metadata": {},
   "source": [
    "#### Variables de entorno"
   ]
  },
  {
   "cell_type": "markdown",
   "id": "4223a562",
   "metadata": {},
   "source": [
    "Para el contexto de la simulacion es necesario definir algunas variables que van a determinar el contexto de la plataforma en la cual los agentes van a interactuar. Estas variables son:\n",
    "\n",
    "* `QOpinionesExpuestas` = La cantidad de opiniones que va a ver cada agente. \n",
    "* `QVecesMuestroOpinion` = La cantidad minima de veces que quiero que se muestre alguna opinion, toda opinion de esta manera tiene que mostrarse al menos esta cantidad de veces. \n",
    "* `VotosPos` = Cuantos votos positivos tiene disponible cada agente.\n",
    "* `VotosNeg` = Cuantos votos negativos tiene disponible cada agente.\n",
    "* `QIdeasAVotar` = La cantidad total de ideas que un agente va a votar lo cual esta dado por la suma de la cantidad de votos negativos y positivos disponible para cada agente. "
   ]
  },
  {
   "cell_type": "code",
   "execution_count": 15,
   "id": "8e7e34b1",
   "metadata": {},
   "outputs": [],
   "source": [
    "QOpinionesExpuestas = 5 \n",
    "QVecesMuestroOpinion = 15\n",
    "VotosPos = 2\n",
    "VotosNeg = 0\n",
    "QIdeasAVotar = VotosPos + VotosNeg"
   ]
  },
  {
   "cell_type": "code",
   "execution_count": 17,
   "id": "8462767d-fd0d-4e8a-8080-a297c10d0e15",
   "metadata": {},
   "outputs": [
    {
     "name": "stdout",
     "output_type": "stream",
     "text": [
      "-------------------------------------------------------------------------------------\n",
      "Opiniones XXXX, con una distribucion XXXX [-1,1]\n",
      "Algoritmo XXXX, del conjunto de XXXX\n"
     ]
    },
    {
     "data": {
      "image/png": "[encoded data removed]",
      "text/plain": [
       "<Figure size 432x288 with 1 Axes>"
      ]
     },
     "metadata": {
      "needs_background": "light"
     },
     "output_type": "display_data"
    },
    {
     "data": {
      "image/png": "[encoded data removed]",
      "text/plain": [
       "<Figure size 432x288 with 1 Axes>"
      ]
     },
     "metadata": {
      "needs_background": "light"
     },
     "output_type": "display_data"
    },
    {
     "data": {
      "image/png": "[encoded data removed]",
      "text/plain": [
       "<Figure size 432x288 with 1 Axes>"
      ]
     },
     "metadata": {
      "needs_background": "light"
     },
     "output_type": "display_data"
    },
    {
     "name": "stdout",
     "output_type": "stream",
     "text": [
      "                                         ID   Opinion VotosPos VotosNeg  \\\n",
      "0      ece31743-4916-4dac-ae19-4d14f9b3f489     0.218        2        0   \n",
      "1      fa21625e-478b-473a-8e87-c739be0d4c92 -0.284131        2        0   \n",
      "2      ff400e95-18e6-4af5-9265-46e0fd58f35b -0.207648        5        0   \n",
      "3      7608af5f-dcb2-4f1c-a58e-b83e38b9feff -0.737784        1        0   \n",
      "4      21c365f1-4809-4108-94dc-73825a76d85c -0.259844        1        0   \n",
      "...                                     ...       ...      ...      ...   \n",
      "21645  15d73be8-76dd-4865-8d8b-40f5d8605e23 -0.125398        3        0   \n",
      "21756  0c158fc4-e451-4d16-83c9-b25127635db6   0.04165        1        0   \n",
      "21867  b551e978-b32f-4d58-800a-c16fec70f461   0.37363        0        0   \n",
      "21978  6bca27ea-1fa5-40c8-b546-f719d482c200 -0.274674        0        0   \n",
      "22089  2696463d-db8e-49d4-a897-8841405ab411 -0.801373        0        0   \n",
      "\n",
      "      Vistas     Ratio  \n",
      "0          5       0.4  \n",
      "1          5       0.4  \n",
      "2          5       1.0  \n",
      "3          4      0.25  \n",
      "4          5       0.2  \n",
      "...      ...       ...  \n",
      "21645      4      0.75  \n",
      "21756      3  0.333333  \n",
      "21867      2       0.0  \n",
      "21978      1       0.0  \n",
      "22089      0         0  \n",
      "\n",
      "[199 rows x 6 columns]\n"
     ]
    }
   ],
   "source": [
    "#¤¤¤¤¤¤¤¤¤¤¤¤¤¤¤¤¤¤¤¤¤¤¤¤ Simulacion ¤¤¤¤¤¤¤¤¤¤¤¤¤¤¤¤¤¤¤¤¤¤¤¤#\n",
    "\n",
    "Muestra_Simulacion = Muestra_Completa.copy() # Creo una copia de la muestra original, por si se crean varias simulaciones diferentes\n",
    "DataSave = pd.DataFrame(columns=['ID', 'Opinion', 'VotosPos', 'VotosNeg', 'Vistas', 'Ratio'])\n",
    "MinutoAMinuto = pd.DataFrame(columns=['Sujeto', 'Opinion Sujeto', 'ID Idea Mostrada', 'Idea Mostrada', 'Otras opiniones que vio', 'Voto', 'Distancia'])\n",
    "OpinanNoVotan = 0\n",
    "TiempoSimulacion = 0\n",
    "\n",
    "\n",
    "for i in Muestra_Simulacion:\n",
    "    ParticipanteActual = i\n",
    "    \n",
    "    if OpinanNoVotan < QOpinionesExpuestas: # Si hay menos opiniones que las necesarias para mostrar los individuos van a opinar, no votar.\n",
    "        DataSave.at [OpinanNoVotan] = Muestra_Simulacion.get(i).get_ID(), Muestra_Simulacion.get(i).get_Oi(), 0, 0, 0, 0\n",
    "        OpinanNoVotan +=1\n",
    "    \n",
    "    else:\n",
    "        OpinionesFiltradas = DataSave[DataSave.Vistas < QVecesMuestroOpinion] # Filtro las ideas que tengan menos vistas del limite asignado\n",
    "        OpinionesParaVotar =  metodo_de_seleccion (OpinionesFiltradas, \"menos vistas\") # Creo un dataframe con las ideas que va a ver el sujeto\n",
    "        DataSave.at [i] = Muestra_Simulacion.get(i).get_ID(), Muestra_Simulacion.get(i).get_Oi(), 0, 0, 0, 0\n",
    "        VotoActual = Muestra_Simulacion.get(i).votar(OpinionesParaVotar)\n",
    "        \n",
    "        for i in VotoActual.index:\n",
    "            \n",
    "            if VotoActual.loc[i].at[0] == 1:\n",
    "                DataSave.at [i,'VotosPos'] = DataSave.at [i,'VotosPos'] + 1 # Le sumo un voto a la idea.\n",
    "            \n",
    "            if VotoActual.loc[i].at[0] == -1:\n",
    "                DataSave.at [i,'VotosNeg'] = DataSave.at [i,'VotosNeg'] + 1 # Le sumo un voto a la idea. \n",
    "        \n",
    "        for i in OpinionesParaVotar.index:\n",
    "            OpinionI = i\n",
    "            DataSave.at [i,'Vistas'] = DataSave.at [i,'Vistas'] + 1 # Le sumo una vista a la ideas expuestas\n",
    "            \n",
    "            ################################################################ DEBERIA CONFIGURAR ALGO PARA VER COMO AFECTAN LOS VOTOS NEGATIVOS EN EL RATIO?\n",
    "            DataSave.at [i, 'Ratio'] = DataSave.at[i, 'VotosPos'] / DataSave.at [i, 'Vistas']\n",
    "            \n",
    "            # Armo un dataframe con el minuto a minuto de lo que fue pasando en la simulacion\n",
    "            CopiaOpiniones = OpinionesParaVotar.index.tolist()\n",
    "            CopiaOpiniones.remove(i)\n",
    "            MinutoAMinuto.at [TiempoSimulacion] = Muestra_Simulacion.get(ParticipanteActual).get_ID(), Muestra_Simulacion.get(ParticipanteActual).get_Oi(), i, OpinionesParaVotar.at [i,'Opinion'], CopiaOpiniones, 0, Muestra_Simulacion.get(ParticipanteActual).comparar(OpinionesParaVotar.at [i,'Opinion']) \n",
    "            if i in VotoActual.index:\n",
    "                for i in VotoActual.index:\n",
    "                    if i == OpinionI:\n",
    "                        MinutoAMinuto.at [TiempoSimulacion,'Voto'] = VotoActual.at [i,0]  \n",
    "            TiempoSimulacion +=1\n",
    "\n",
    "##### Visualizo la data\n",
    "print (\"-------------------------------------------------------------------------------------\")\n",
    "#print (\"Muestra N: \" + str(q))\n",
    "print (\"Opiniones XXXX, con una distribucion XXXX [-1,1]\")\n",
    "print (\"Algoritmo XXXX, del conjunto de XXXX\")\n",
    "#print (DataSave.sort_values(by=['Votos'], ascending=False))\n",
    "DataSave.plot(kind='scatter',x='Opinion',y='VotosPos',color='green')\n",
    "DataSave.plot(kind='scatter',x='Opinion',y='VotosNeg',color='red')\n",
    "DataSave.plot(kind='scatter',x='Opinion',y='Vistas',color='blue')\n",
    "#plt.yticks(range(5))\n",
    "plt.show()\n"
   ]
  },
  {
   "cell_type": "code",
   "execution_count": null,
   "id": "adb737ef-3197-401e-9b7e-36b47e129495",
   "metadata": {},
   "outputs": [],
   "source": []
  },
  {
   "cell_type": "code",
   "execution_count": null,
   "id": "040c0ad6-c88e-424c-8981-773fb333099e",
   "metadata": {},
   "outputs": [],
   "source": []
  },
  {
   "cell_type": "code",
   "execution_count": null,
   "id": "40d0bfdc-52b3-4c7d-989a-ae0bbe1fdd82",
   "metadata": {},
   "outputs": [],
   "source": []
  },
  {
   "cell_type": "code",
   "execution_count": null,
   "id": "49299ea0-b97f-4167-b7c3-2441e0ab3eda",
   "metadata": {},
   "outputs": [],
   "source": []
  },
  {
   "cell_type": "code",
   "execution_count": null,
   "id": "4be2100e-e87f-403d-b93c-445c668527ed",
   "metadata": {},
   "outputs": [],
   "source": []
  },
  {
   "cell_type": "code",
   "execution_count": null,
   "id": "054877c6-3d41-4812-bbbc-ab5744b68f81",
   "metadata": {},
   "outputs": [],
   "source": []
  },
  {
   "cell_type": "code",
   "execution_count": null,
   "id": "b16a5467-56d9-49b0-8c68-e162dfe6a44d",
   "metadata": {},
   "outputs": [],
   "source": []
  }
 ],
 "metadata": {
  "kernelspec": {
   "display_name": "Python 3",
   "language": "python",
   "name": "python3"
  },
  "language_info": {
   "codemirror_mode": {
    "name": "ipython",
    "version": 3
   },
   "file_extension": ".py",
   "mimetype": "text/x-python",
   "name": "python",
   "nbconvert_exporter": "python",
   "pygments_lexer": "ipython3",
   "version": "3.8.8"
  }
 },
 "nbformat": 4,
 "nbformat_minor": 5
}
